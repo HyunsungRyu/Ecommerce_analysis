{
 "cells": [
  {
   "cell_type": "code",
   "execution_count": 1,
   "id": "d4e33e1b",
   "metadata": {},
   "outputs": [],
   "source": [
    "import pandas as pd\n",
    "from IPython.display import display\n",
    "import datetime as dt\n",
    "import matplotlib.pyplot as plt\n",
    "import seaborn as sns\n",
    "import plotly.express as px\n",
    "from scipy.stats import mannwhitneyu\n",
    "import gc\n",
    "import numpy as np"
   ]
  },
  {
   "cell_type": "code",
   "execution_count": 2,
   "id": "2c09ef59",
   "metadata": {},
   "outputs": [],
   "source": [
    "# df = pd.read_csv(\"c:\\\\data\\\\e-commerce\\\\2019-Oct.csv\", usecols=['event_time', 'event_type', 'product_id', 'brand', 'category_code', 'price', 'user_id', 'user_session'])\n",
    "# df.head(2)"
   ]
  },
  {
   "cell_type": "code",
   "execution_count": 3,
   "id": "e0c5be40",
   "metadata": {},
   "outputs": [],
   "source": [
    "# df['category_code'] = df['category_code'].astype('category')\n",
    "# df['category_code'] = df['category_code'].cat.add_categories('unknown.')\n",
    "# df['category_code'].fillna('unknown.', inplace=True)\n",
    "\n",
    "# df['general_category'] = df['category_code'].apply(lambda x: x.split('.')[0])\n",
    "# display(df.head(2))"
   ]
  },
  {
   "cell_type": "code",
   "execution_count": 4,
   "id": "16f9f12c",
   "metadata": {},
   "outputs": [],
   "source": [
    "# df['user_session'] = df['user_session'].astype('category').cat.codes\n",
    "# df.head()"
   ]
  },
  {
   "cell_type": "code",
   "execution_count": 5,
   "id": "326d9965",
   "metadata": {},
   "outputs": [],
   "source": [
    "# df.head(2)"
   ]
  },
  {
   "cell_type": "code",
   "execution_count": 6,
   "id": "84042593",
   "metadata": {},
   "outputs": [],
   "source": [
    "# # datetime 처리\n",
    "# df['event_time'] = pd.to_datetime(df['event_time'])\n",
    "# df['date'] = df['event_time'].dt.date\n",
    "\n",
    "# # 사용자별, 시간순 정렬\n",
    "# df = df.sort_values(['user_id', 'event_time'])\n",
    "\n",
    "# # 구매 발생 플래그\n",
    "# df['is_purchase'] = df['event_type'] == 'purchase'\n",
    "\n",
    "# # 하루 단위 기준 세션 초기화\n",
    "# df['daily_session'] = df['user_id'].astype(str) + '_' + df['date'].astype(str)\n",
    "\n",
    "# # 구매 발생 시 세션 쪼개기: 구매 이후는 새로운 세션으로\n",
    "# def split_on_purchase(group):\n",
    "#     session_id = []\n",
    "#     counter = 0\n",
    "#     for is_p in group['is_purchase']:\n",
    "#         session_id.append(counter)\n",
    "#         if is_p:\n",
    "#             counter += 1\n",
    "#     return session_id\n",
    "\n",
    "# # 사용자 + 날짜별로 쪼개서 세션 나누기\n",
    "# df['session_split_id'] = df.groupby(['user_id', 'date']).apply(split_on_purchase).explode().values\n",
    "\n",
    "# # reallyreal진짜최종의최총의최최종\n",
    "# df['custom_session'] = (\n",
    "#     df['user_id'].astype(str) + '_' +\n",
    "#     df['date'].astype(str) + '_' +\n",
    "#     df['session_split_id'].astype(str)\n",
    "# )\n",
    "# df.head(2)\n"
   ]
  },
  {
   "cell_type": "code",
   "execution_count": 7,
   "id": "82f037e3",
   "metadata": {},
   "outputs": [
    {
     "data": {
      "text/html": [
       "<div>\n",
       "<style scoped>\n",
       "    .dataframe tbody tr th:only-of-type {\n",
       "        vertical-align: middle;\n",
       "    }\n",
       "\n",
       "    .dataframe tbody tr th {\n",
       "        vertical-align: top;\n",
       "    }\n",
       "\n",
       "    .dataframe thead th {\n",
       "        text-align: right;\n",
       "    }\n",
       "</style>\n",
       "<table border=\"1\" class=\"dataframe\">\n",
       "  <thead>\n",
       "    <tr style=\"text-align: right;\">\n",
       "      <th></th>\n",
       "      <th>event_time</th>\n",
       "      <th>event_type</th>\n",
       "      <th>product_id</th>\n",
       "      <th>category_code</th>\n",
       "      <th>brand</th>\n",
       "      <th>price</th>\n",
       "      <th>user_id</th>\n",
       "      <th>general_category</th>\n",
       "      <th>buy</th>\n",
       "      <th>custom_session</th>\n",
       "    </tr>\n",
       "  </thead>\n",
       "  <tbody>\n",
       "    <tr>\n",
       "      <th>0</th>\n",
       "      <td>2019-10-23 20:04:08+00:00</td>\n",
       "      <td>view</td>\n",
       "      <td>7002639</td>\n",
       "      <td>kids.carriage</td>\n",
       "      <td>bumbleride</td>\n",
       "      <td>769.65</td>\n",
       "      <td>33869381</td>\n",
       "      <td>kids</td>\n",
       "      <td>0</td>\n",
       "      <td>33869381_2019-10-23_0</td>\n",
       "    </tr>\n",
       "    <tr>\n",
       "      <th>1</th>\n",
       "      <td>2019-10-13 00:13:46+00:00</td>\n",
       "      <td>view</td>\n",
       "      <td>10600284</td>\n",
       "      <td>unknown.</td>\n",
       "      <td>NaN</td>\n",
       "      <td>0.00</td>\n",
       "      <td>64078358</td>\n",
       "      <td>unknown</td>\n",
       "      <td>0</td>\n",
       "      <td>64078358_2019-10-13_0</td>\n",
       "    </tr>\n",
       "  </tbody>\n",
       "</table>\n",
       "</div>"
      ],
      "text/plain": [
       "                  event_time event_type  product_id  category_code  \\\n",
       "0  2019-10-23 20:04:08+00:00       view     7002639  kids.carriage   \n",
       "1  2019-10-13 00:13:46+00:00       view    10600284       unknown.   \n",
       "\n",
       "        brand   price   user_id general_category  buy         custom_session  \n",
       "0  bumbleride  769.65  33869381             kids    0  33869381_2019-10-23_0  \n",
       "1         NaN    0.00  64078358          unknown    0  64078358_2019-10-13_0  "
      ]
     },
     "execution_count": 7,
     "metadata": {},
     "output_type": "execute_result"
    }
   ],
   "source": [
    "# df.to_csv(\"c:\\\\data\\\\e-commerce\\\\custom_session.csv\", index=False) # event_time, event_type, product_id, category_code, brand, price, user_id, user_session, general_category, buy, date, is_purchase, daily_session, session_split_id, custom_session\n",
    "custom_session = pd.read_csv(\"c:\\\\data\\\\e-commerce\\\\custom_session.csv\", usecols=['event_time', 'event_type', 'product_id', 'category_code', 'brand', 'price', 'user_id', 'general_category', 'buy', 'custom_session']);custom_session.head(2)\n",
    "custom_session.head(2)"
   ]
  },
  {
   "cell_type": "code",
   "execution_count": 8,
   "id": "82cc74db",
   "metadata": {},
   "outputs": [
    {
     "data": {
      "text/html": [
       "<div>\n",
       "<style scoped>\n",
       "    .dataframe tbody tr th:only-of-type {\n",
       "        vertical-align: middle;\n",
       "    }\n",
       "\n",
       "    .dataframe tbody tr th {\n",
       "        vertical-align: top;\n",
       "    }\n",
       "\n",
       "    .dataframe thead th {\n",
       "        text-align: right;\n",
       "    }\n",
       "</style>\n",
       "<table border=\"1\" class=\"dataframe\">\n",
       "  <thead>\n",
       "    <tr style=\"text-align: right;\">\n",
       "      <th></th>\n",
       "      <th>event_time</th>\n",
       "      <th>event_type</th>\n",
       "      <th>product_id</th>\n",
       "      <th>category_code</th>\n",
       "      <th>brand</th>\n",
       "      <th>price</th>\n",
       "      <th>user_id</th>\n",
       "      <th>general_category</th>\n",
       "      <th>buy</th>\n",
       "      <th>custom_session</th>\n",
       "    </tr>\n",
       "  </thead>\n",
       "  <tbody>\n",
       "    <tr>\n",
       "      <th>0</th>\n",
       "      <td>2019-10-23 20:04:08+00:00</td>\n",
       "      <td>view</td>\n",
       "      <td>7002639</td>\n",
       "      <td>kids.carriage</td>\n",
       "      <td>bumbleride</td>\n",
       "      <td>769.65</td>\n",
       "      <td>33869381</td>\n",
       "      <td>kids</td>\n",
       "      <td>0</td>\n",
       "      <td>33869381_2019-10-23_0</td>\n",
       "    </tr>\n",
       "    <tr>\n",
       "      <th>1</th>\n",
       "      <td>2019-10-13 00:13:46+00:00</td>\n",
       "      <td>view</td>\n",
       "      <td>10600284</td>\n",
       "      <td>unknown.</td>\n",
       "      <td>NaN</td>\n",
       "      <td>0.00</td>\n",
       "      <td>64078358</td>\n",
       "      <td>unknown</td>\n",
       "      <td>0</td>\n",
       "      <td>64078358_2019-10-13_0</td>\n",
       "    </tr>\n",
       "  </tbody>\n",
       "</table>\n",
       "</div>"
      ],
      "text/plain": [
       "                  event_time event_type  product_id  category_code  \\\n",
       "0  2019-10-23 20:04:08+00:00       view     7002639  kids.carriage   \n",
       "1  2019-10-13 00:13:46+00:00       view    10600284       unknown.   \n",
       "\n",
       "        brand   price   user_id general_category  buy         custom_session  \n",
       "0  bumbleride  769.65  33869381             kids    0  33869381_2019-10-23_0  \n",
       "1         NaN    0.00  64078358          unknown    0  64078358_2019-10-13_0  "
      ]
     },
     "execution_count": 8,
     "metadata": {},
     "output_type": "execute_result"
    }
   ],
   "source": [
    "buy_sessions = custom_session[custom_session['event_type'] == 'purchase']['custom_session'].unique()\n",
    "\n",
    "buy_log = custom_session[custom_session['custom_session'].isin(buy_sessions)]\n",
    "not_buy_log = custom_session[~custom_session['custom_session'].isin(buy_sessions)]\n",
    "custom_session['buy'] = custom_session['custom_session'].isin(buy_log['custom_session']).astype(int)\n",
    "custom_session.head(2)"
   ]
  },
  {
   "cell_type": "code",
   "execution_count": 9,
   "id": "c4f01c73",
   "metadata": {},
   "outputs": [
    {
     "data": {
      "text/html": [
       "<div>\n",
       "<style scoped>\n",
       "    .dataframe tbody tr th:only-of-type {\n",
       "        vertical-align: middle;\n",
       "    }\n",
       "\n",
       "    .dataframe tbody tr th {\n",
       "        vertical-align: top;\n",
       "    }\n",
       "\n",
       "    .dataframe thead th {\n",
       "        text-align: right;\n",
       "    }\n",
       "</style>\n",
       "<table border=\"1\" class=\"dataframe\">\n",
       "  <thead>\n",
       "    <tr style=\"text-align: right;\">\n",
       "      <th></th>\n",
       "      <th>event_time</th>\n",
       "      <th>event_type</th>\n",
       "      <th>product_id</th>\n",
       "      <th>category_code</th>\n",
       "      <th>brand</th>\n",
       "      <th>price</th>\n",
       "      <th>user_id</th>\n",
       "      <th>general_category</th>\n",
       "      <th>buy</th>\n",
       "      <th>custom_session</th>\n",
       "      <th>relative_price</th>\n",
       "    </tr>\n",
       "  </thead>\n",
       "  <tbody>\n",
       "    <tr>\n",
       "      <th>0</th>\n",
       "      <td>2019-10-23 20:04:08+00:00</td>\n",
       "      <td>view</td>\n",
       "      <td>7002639</td>\n",
       "      <td>kids.carriage</td>\n",
       "      <td>bumbleride</td>\n",
       "      <td>769.65</td>\n",
       "      <td>33869381</td>\n",
       "      <td>kids</td>\n",
       "      <td>0</td>\n",
       "      <td>33869381_2019-10-23_0</td>\n",
       "      <td>6.986022</td>\n",
       "    </tr>\n",
       "    <tr>\n",
       "      <th>1</th>\n",
       "      <td>2019-10-13 00:13:46+00:00</td>\n",
       "      <td>view</td>\n",
       "      <td>10600284</td>\n",
       "      <td>unknown.</td>\n",
       "      <td>NaN</td>\n",
       "      <td>0.00</td>\n",
       "      <td>64078358</td>\n",
       "      <td>unknown</td>\n",
       "      <td>0</td>\n",
       "      <td>64078358_2019-10-13_0</td>\n",
       "      <td>0.000000</td>\n",
       "    </tr>\n",
       "  </tbody>\n",
       "</table>\n",
       "</div>"
      ],
      "text/plain": [
       "                  event_time event_type  product_id  category_code  \\\n",
       "0  2019-10-23 20:04:08+00:00       view     7002639  kids.carriage   \n",
       "1  2019-10-13 00:13:46+00:00       view    10600284       unknown.   \n",
       "\n",
       "        brand   price   user_id general_category  buy         custom_session  \\\n",
       "0  bumbleride  769.65  33869381             kids    0  33869381_2019-10-23_0   \n",
       "1         NaN    0.00  64078358          unknown    0  64078358_2019-10-13_0   \n",
       "\n",
       "   relative_price  \n",
       "0        6.986022  \n",
       "1        0.000000  "
      ]
     },
     "execution_count": 9,
     "metadata": {},
     "output_type": "execute_result"
    }
   ],
   "source": [
    "median_price_category = custom_session.groupby('general_category')['price'].median().to_dict()\n",
    "custom_session['relative_price'] = custom_session['price'] / custom_session['general_category'].map(median_price_category)\n",
    "custom_session.head(2)"
   ]
  },
  {
   "cell_type": "code",
   "execution_count": 10,
   "id": "5505040a",
   "metadata": {},
   "outputs": [
    {
     "data": {
      "text/html": [
       "<div>\n",
       "<style scoped>\n",
       "    .dataframe tbody tr th:only-of-type {\n",
       "        vertical-align: middle;\n",
       "    }\n",
       "\n",
       "    .dataframe tbody tr th {\n",
       "        vertical-align: top;\n",
       "    }\n",
       "\n",
       "    .dataframe thead th {\n",
       "        text-align: right;\n",
       "    }\n",
       "</style>\n",
       "<table border=\"1\" class=\"dataframe\">\n",
       "  <thead>\n",
       "    <tr style=\"text-align: right;\">\n",
       "      <th></th>\n",
       "      <th>event_time</th>\n",
       "      <th>event_type</th>\n",
       "      <th>product_id</th>\n",
       "      <th>category_code</th>\n",
       "      <th>brand</th>\n",
       "      <th>price</th>\n",
       "      <th>user_id</th>\n",
       "      <th>general_category</th>\n",
       "      <th>buy</th>\n",
       "      <th>custom_session</th>\n",
       "      <th>relative_price</th>\n",
       "    </tr>\n",
       "  </thead>\n",
       "  <tbody>\n",
       "    <tr>\n",
       "      <th>0</th>\n",
       "      <td>2019-10-23 20:04:08+00:00</td>\n",
       "      <td>view</td>\n",
       "      <td>7002639</td>\n",
       "      <td>kids.carriage</td>\n",
       "      <td>bumbleride</td>\n",
       "      <td>769.65</td>\n",
       "      <td>33869381</td>\n",
       "      <td>kids</td>\n",
       "      <td>0</td>\n",
       "      <td>431</td>\n",
       "      <td>6.986022</td>\n",
       "    </tr>\n",
       "    <tr>\n",
       "      <th>1</th>\n",
       "      <td>2019-10-13 00:13:46+00:00</td>\n",
       "      <td>view</td>\n",
       "      <td>10600284</td>\n",
       "      <td>unknown.</td>\n",
       "      <td>NaN</td>\n",
       "      <td>0.00</td>\n",
       "      <td>64078358</td>\n",
       "      <td>unknown</td>\n",
       "      <td>0</td>\n",
       "      <td>42508</td>\n",
       "      <td>0.000000</td>\n",
       "    </tr>\n",
       "  </tbody>\n",
       "</table>\n",
       "</div>"
      ],
      "text/plain": [
       "                  event_time event_type  product_id  category_code  \\\n",
       "0  2019-10-23 20:04:08+00:00       view     7002639  kids.carriage   \n",
       "1  2019-10-13 00:13:46+00:00       view    10600284       unknown.   \n",
       "\n",
       "        brand   price   user_id general_category  buy  custom_session  \\\n",
       "0  bumbleride  769.65  33869381             kids    0             431   \n",
       "1         NaN    0.00  64078358          unknown    0           42508   \n",
       "\n",
       "   relative_price  \n",
       "0        6.986022  \n",
       "1        0.000000  "
      ]
     },
     "execution_count": 10,
     "metadata": {},
     "output_type": "execute_result"
    }
   ],
   "source": [
    "custom_session['custom_session'] = custom_session['custom_session'].astype('category').cat.codes\n",
    "custom_session.head(2)"
   ]
  },
  {
   "cell_type": "code",
   "execution_count": null,
   "id": "129d3263",
   "metadata": {},
   "outputs": [],
   "source": [
    "def log_dictionary(df):\n",
    "\n",
    "    df = df.sort_values(['user_id', 'event_time'])\n",
    "    df['event_time'] = pd.to_datetime(df['event_time'])\n",
    "\n",
    "    session_data = []\n",
    "\n",
    "    for session, group in df.groupby('custom_session'):\n",
    "        group = group.sort_values('event_time')\n",
    "\n",
    "        times = group['event_time'].tolist()\n",
    "        time_since_start = [(t - times[0]).total_seconds() for t in times]\n",
    "        time_since_prev = [0] + [(times[i] - times[i-1]).total_seconds() for i in range(1, len(times))]\n",
    "\n",
    "        events = []\n",
    "        for _, row in group.iterrows():\n",
    "            if row['event_type'] == 'purchase':\n",
    "                continue  # 구매 제외\n",
    "            \n",
    "            events.append({\n",
    "                \"event_type\": row[\"event_type\"],\n",
    "                \"product_id\": row[\"product_id\"],\n",
    "                \"category_code\": row[\"category_code\"] if pd.notna(row[\"category_code\"]) else \"unknown.\",\n",
    "                \"general_category\": row[\"general_category\"] if pd.notna(row[\"general_category\"]) else \"unknown\",\n",
    "                \"brand\": row[\"brand\"] if pd.notna(row[\"brand\"]) else \"unknown\",\n",
    "                \"price\": row[\"price\"],\n",
    "                \"relative_price\": row[\"relative_price\"],\n",
    "                \"time_since_start\": time_since_start[len(events)],\n",
    "                \"time_since_prev\": time_since_prev[len(events)]\n",
    "            })\n",
    "\n",
    "        session_data.append({\n",
    "            \"session\": session,\n",
    "            \"event\": events,\n",
    "            \"buy\": int(group[\"buy\"].max())\n",
    "        })\n",
    "\n",
    "    return pd.DataFrame(session_data)"
   ]
  },
  {
   "cell_type": "code",
   "execution_count": 12,
   "id": "eaecb10d",
   "metadata": {},
   "outputs": [],
   "source": [
    "log_dict = log_dictionary(custom_session)"
   ]
  },
  {
   "cell_type": "code",
   "execution_count": 13,
   "id": "7e4ef9c9",
   "metadata": {},
   "outputs": [],
   "source": [
    "# pd.set_option(\"display.max_colwidth\", None)\n",
    "# pd.set_option(\"display.max_rows\", None)\n",
    "# pd.set_option(\"display.max_columns\", None) \n",
    "\n",
    "pd.reset_option(\"display.max_colwidth\")\n",
    "pd.reset_option(\"display.max_rows\")\n",
    "pd.reset_option(\"display.max_columns\")\n"
   ]
  },
  {
   "cell_type": "code",
   "execution_count": 14,
   "id": "f6f139ae",
   "metadata": {},
   "outputs": [
    {
     "data": {
      "text/html": [
       "<div>\n",
       "<style scoped>\n",
       "    .dataframe tbody tr th:only-of-type {\n",
       "        vertical-align: middle;\n",
       "    }\n",
       "\n",
       "    .dataframe tbody tr th {\n",
       "        vertical-align: top;\n",
       "    }\n",
       "\n",
       "    .dataframe thead th {\n",
       "        text-align: right;\n",
       "    }\n",
       "</style>\n",
       "<table border=\"1\" class=\"dataframe\">\n",
       "  <thead>\n",
       "    <tr style=\"text-align: right;\">\n",
       "      <th></th>\n",
       "      <th>session</th>\n",
       "      <th>event</th>\n",
       "      <th>buy</th>\n",
       "    </tr>\n",
       "  </thead>\n",
       "  <tbody>\n",
       "    <tr>\n",
       "      <th>0</th>\n",
       "      <td>0</td>\n",
       "      <td>[{'event_type': 'view', 'product_id': 22200103...</td>\n",
       "      <td>0</td>\n",
       "    </tr>\n",
       "    <tr>\n",
       "      <th>1</th>\n",
       "      <td>1</td>\n",
       "      <td>[{'event_type': 'view', 'product_id': 6902133,...</td>\n",
       "      <td>0</td>\n",
       "    </tr>\n",
       "  </tbody>\n",
       "</table>\n",
       "</div>"
      ],
      "text/plain": [
       "   session                                              event  buy\n",
       "0        0  [{'event_type': 'view', 'product_id': 22200103...    0\n",
       "1        1  [{'event_type': 'view', 'product_id': 6902133,...    0"
      ]
     },
     "metadata": {},
     "output_type": "display_data"
    }
   ],
   "source": [
    "display(log_dict.head(2))"
   ]
  },
  {
   "cell_type": "code",
   "execution_count": 15,
   "id": "5e2881ee",
   "metadata": {},
   "outputs": [
    {
     "data": {
      "text/plain": [
       "array(['cart', 'purchase', 'view'], dtype=object)"
      ]
     },
     "execution_count": 15,
     "metadata": {},
     "output_type": "execute_result"
    }
   ],
   "source": [
    "from sklearn.preprocessing import LabelEncoder\n",
    "le_event = LabelEncoder()\n",
    "le_event.fit(custom_session['event_type'].unique())\n",
    "le_event.classes_"
   ]
  },
  {
   "cell_type": "code",
   "execution_count": 16,
   "id": "181b52c8",
   "metadata": {},
   "outputs": [],
   "source": [
    "def encode_event_type(events):\n",
    "    for event in events:\n",
    "        event['event_type'] = le_event.transform([event['event_type']])[0]\n",
    "    return events\n",
    "# 적용\n",
    "log_dict['event'] = log_dict['event'].apply(encode_event_type)"
   ]
  },
  {
   "cell_type": "code",
   "execution_count": 17,
   "id": "5a439133",
   "metadata": {},
   "outputs": [
    {
     "data": {
      "text/html": [
       "<div>\n",
       "<style scoped>\n",
       "    .dataframe tbody tr th:only-of-type {\n",
       "        vertical-align: middle;\n",
       "    }\n",
       "\n",
       "    .dataframe tbody tr th {\n",
       "        vertical-align: top;\n",
       "    }\n",
       "\n",
       "    .dataframe thead th {\n",
       "        text-align: right;\n",
       "    }\n",
       "</style>\n",
       "<table border=\"1\" class=\"dataframe\">\n",
       "  <thead>\n",
       "    <tr style=\"text-align: right;\">\n",
       "      <th></th>\n",
       "      <th>session</th>\n",
       "      <th>event</th>\n",
       "      <th>buy</th>\n",
       "    </tr>\n",
       "  </thead>\n",
       "  <tbody>\n",
       "    <tr>\n",
       "      <th>0</th>\n",
       "      <td>0</td>\n",
       "      <td>[{'event_type': 2, 'product_id': 22200103, 'ca...</td>\n",
       "      <td>0</td>\n",
       "    </tr>\n",
       "    <tr>\n",
       "      <th>1</th>\n",
       "      <td>1</td>\n",
       "      <td>[{'event_type': 2, 'product_id': 6902133, 'cat...</td>\n",
       "      <td>0</td>\n",
       "    </tr>\n",
       "  </tbody>\n",
       "</table>\n",
       "</div>"
      ],
      "text/plain": [
       "   session                                              event  buy\n",
       "0        0  [{'event_type': 2, 'product_id': 22200103, 'ca...    0\n",
       "1        1  [{'event_type': 2, 'product_id': 6902133, 'cat...    0"
      ]
     },
     "execution_count": 17,
     "metadata": {},
     "output_type": "execute_result"
    }
   ],
   "source": [
    "log_dict.head(2)"
   ]
  },
  {
   "cell_type": "code",
   "execution_count": 18,
   "id": "d2b53442",
   "metadata": {},
   "outputs": [],
   "source": [
    "df = log_dict.copy()"
   ]
  },
  {
   "cell_type": "code",
   "execution_count": null,
   "id": "5d3884ac",
   "metadata": {},
   "outputs": [],
   "source": [
    "# 전체 파이프라인: 데이터 파싱 -> vocabs -> tf.data -> Transformer 모델 -> 학습\n",
    "import ast\n",
    "import json\n",
    "import tensorflow as tf\n",
    "from sklearn.model_selection import train_test_split\n",
    "from sklearn.preprocessing import StandardScaler\n",
    "import warnings\n",
    "warnings.filterwarnings('ignore')"
   ]
  },
  {
   "cell_type": "code",
   "execution_count": 20,
   "id": "7fc72d28",
   "metadata": {},
   "outputs": [
    {
     "name": "stdout",
     "output_type": "stream",
     "text": [
      "n_sessions: 42509\n",
      "example session events: [{'event_type': np.int64(2), 'product_id': 22200103, 'category_code': 'unknown.', 'general_category': 'unknown', 'brand': 'unknown', 'price': 15.77, 'relative_price': 0.17504717504717504, 'time_since_start': 0.0, 'time_since_prev': 0}]\n"
     ]
    }
   ],
   "source": [
    "# 1) 파싱\n",
    "# columns = ['session', 'event', 'buy']\n",
    "# event 컬럼은 문자열화된 리스트(예: \"[{...}, {...}]\")\n",
    "# parse if string\n",
    "def parse_events(x):\n",
    "    if isinstance(x, str):\n",
    "        try:\n",
    "            return ast.literal_eval(x)\n",
    "        except Exception:\n",
    "            try:\n",
    "                return json.loads(x)\n",
    "            except Exception:\n",
    "                return []\n",
    "    elif isinstance(x, list):\n",
    "        return x\n",
    "    else:\n",
    "        return []\n",
    "\n",
    "df['events_parsed'] = df['event'].apply(parse_events)\n",
    "\n",
    "# quick inspect\n",
    "print(\"n_sessions:\", len(df))\n",
    "print(\"example session events:\", df['events_parsed'].iloc[0])"
   ]
  },
  {
   "cell_type": "code",
   "execution_count": 21,
   "id": "643357c9",
   "metadata": {},
   "outputs": [
    {
     "name": "stdout",
     "output_type": "stream",
     "text": [
      "event_type unique: 2 top: [('2', 203322), ('0', 2057)]\n",
      "category_code unique: 123 top: [('unknown.', 69033), ('electronics.smartphone', 56256), ('electronics.clocks', 6597), ('computers.notebook', 6076), ('electronics.video.tv', 4733)]\n",
      "general_category unique: 14 top: [('electronics', 78013), ('unknown', 69033), ('appliances', 21564), ('computers', 12425), ('furniture', 6704)]\n",
      "brand unique: 1859 top: [('unknown', 31276), ('samsung', 24639), ('xiaomi', 18236), ('apple', 15358), ('huawei', 5824)]\n",
      "event_type vocab_size: 3\n",
      "category_code vocab_size: 124\n",
      "general_category vocab_size: 15\n",
      "brand vocab_size: 1860\n"
     ]
    }
   ],
   "source": [
    "# 2) Extract features per event and build vocabs for categorical fields\n",
    "cat_fields = ['event_type', 'category_code', 'general_category', 'brand']\n",
    "num_fields = ['price', 'relative_price', 'time_since_start', 'time_since_prev']\n",
    "\n",
    "# Flatten to collect uniques\n",
    "from collections import Counter, defaultdict\n",
    "counters = {f: Counter() for f in cat_fields}\n",
    "sess_lengths = []\n",
    "\n",
    "for ev_list in df['events_parsed']:\n",
    "    sess_lengths.append(len(ev_list))\n",
    "    for ev in ev_list:\n",
    "        for f in cat_fields:\n",
    "            val = ev.get(f, 'unknown')\n",
    "            # unify missing / weird strings\n",
    "            if val is None or (isinstance(val, float) and np.isnan(val)):\n",
    "                val = 'unknown'\n",
    "            counters[f][str(val)] += 1\n",
    "\n",
    "# Show top uniques\n",
    "for f in cat_fields:\n",
    "    print(f, \"unique:\", len(counters[f]), \"top:\", counters[f].most_common(5))\n",
    "\n",
    "# decide vocab sizes (example)\n",
    "VOCAB_SIZES = {\n",
    "    'event_type': None,       # leave full if small\n",
    "    'category_code': 2000,    # keep top-2000 or so\n",
    "    'general_category': None,\n",
    "    'brand': 5000\n",
    "}\n",
    "\n",
    "def build_vocab(counter, max_size=None, min_freq=1, add_oov=True):\n",
    "    items = [k for k, v in counter.items() if v >= min_freq]\n",
    "    items_sorted = sorted(items, key=lambda x: counter[x], reverse=True)\n",
    "    if max_size:\n",
    "        items_sorted = items_sorted[:max_size]\n",
    "    vocab = {v: i+1 for i, v in enumerate(items_sorted)}  # reserve 0 for PAD\n",
    "    if add_oov:\n",
    "        vocab['<OOV>'] = len(vocab) + 1\n",
    "    return vocab\n",
    "\n",
    "vocab = {}\n",
    "for f in cat_fields:\n",
    "    vocab[f] = build_vocab(counters[f], max_size=VOCAB_SIZES.get(f, None))\n",
    "    print(f, 'vocab_size:', len(vocab[f]))"
   ]
  },
  {
   "cell_type": "code",
   "execution_count": 22,
   "id": "b1c76e3a",
   "metadata": {},
   "outputs": [],
   "source": [
    "# 3) Feature encoding utilities\n",
    "MAX_SEQ_LEN = 128  # tune after checking sess_lengths distribution\n",
    "def map_cat(value, vocab_map):\n",
    "    if value is None:\n",
    "        return vocab_map.get('<OOV>', 1)\n",
    "    s = str(value)\n",
    "    if s in vocab_map:\n",
    "        return vocab_map[s]\n",
    "    else:\n",
    "        return vocab_map.get('<OOV>', 1)\n",
    "\n",
    "# prepare numeric scaler: compute from flattened events\n",
    "all_nums = {f: [] for f in num_fields}\n",
    "for ev_list in df['events_parsed']:\n",
    "    for ev in ev_list:\n",
    "        for nf in num_fields:\n",
    "            val = ev.get(nf, 0.0)\n",
    "            if val is None:\n",
    "                val = 0.0\n",
    "            all_nums[nf].append(float(val))\n",
    "\n",
    "scalers = {}\n",
    "for nf in num_fields:\n",
    "    scaler = StandardScaler()\n",
    "    vals = np.array(all_nums[nf]).reshape(-1, 1)\n",
    "    scaler.fit(vals)\n",
    "    scalers[nf] = scaler"
   ]
  },
  {
   "cell_type": "code",
   "execution_count": 23,
   "id": "a98c1f8a",
   "metadata": {},
   "outputs": [
    {
     "name": "stdout",
     "output_type": "stream",
     "text": [
      "{'event_type': (128,), 'category_code': (128,), 'general_category': (128,), 'brand': (128,)} (128, 4) 1.0\n"
     ]
    }
   ],
   "source": [
    "# 4) Convert each session to fixed tensors (padded/truncated)\n",
    "def session_to_features(ev_list):\n",
    "    seq_len = min(len(ev_list), MAX_SEQ_LEN)\n",
    "    cat_indices = {f: np.zeros(MAX_SEQ_LEN, dtype=np.int32) for f in cat_fields}\n",
    "    num_values = np.zeros((MAX_SEQ_LEN, len(num_fields)), dtype=np.float32)\n",
    "    mask = np.zeros((MAX_SEQ_LEN,), dtype=np.float32)\n",
    "    for i in range(seq_len):\n",
    "        ev = ev_list[i]\n",
    "        mask[i] = 1.0\n",
    "        for f in cat_fields:\n",
    "            cat_indices[f][i] = map_cat(ev.get(f, 'unknown'), vocab[f])\n",
    "        # numeric\n",
    "        for j, nf in enumerate(num_fields):\n",
    "            val = ev.get(nf, 0.0)\n",
    "            if val is None:\n",
    "                val = 0.0\n",
    "            # scale\n",
    "            scaled = scalers[nf].transform(np.array([[float(val)]]))[0,0]\n",
    "            num_values[i, j] = scaled\n",
    "    return cat_indices, num_values, mask\n",
    "\n",
    "# Example transform on first few sessions\n",
    "sample = df['events_parsed'].iloc[0]\n",
    "cat_idx, num_vals, mask = session_to_features(sample)\n",
    "print({k: v.shape for k, v in cat_idx.items()}, num_vals.shape, mask.sum())"
   ]
  },
  {
   "cell_type": "code",
   "execution_count": 24,
   "id": "6ee2ba76",
   "metadata": {},
   "outputs": [],
   "source": [
    "# 5) Build tf.data pipeline\n",
    "def gen():\n",
    "    for _, row in df.iterrows():\n",
    "        cat_idx, num_vals, mask = session_to_features(row['events_parsed'])\n",
    "        # combine categorical indices into a dict or stacked array\n",
    "        # We'll return a dict for clarity\n",
    "        features = {f: cat_idx[f] for f in cat_fields}\n",
    "        features['numeric'] = num_vals\n",
    "        features['mask'] = mask\n",
    "        label = np.array([row['buy']], dtype=np.float32)\n",
    "        yield features, label\n",
    "\n",
    "# define output signature for tf.data\n",
    "output_signature = (\n",
    "    {\n",
    "        **{f: tf.TensorSpec(shape=(MAX_SEQ_LEN,), dtype=tf.int32) for f in cat_fields},\n",
    "        'numeric': tf.TensorSpec(shape=(MAX_SEQ_LEN, len(num_fields)), dtype=tf.float32),\n",
    "        'mask': tf.TensorSpec(shape=(MAX_SEQ_LEN,), dtype=tf.float32)\n",
    "    },\n",
    "    tf.TensorSpec(shape=(1,), dtype=tf.float32)\n",
    ")\n",
    "\n",
    "dataset = tf.data.Dataset.from_generator(gen, output_signature=output_signature)\n",
    "dataset = dataset.shuffle(2048).batch(64).prefetch(tf.data.AUTOTUNE)\n",
    "\n",
    "# split into train/val manually (for simplicity)\n",
    "train_df, val_df = train_test_split(df, test_size=0.1, random_state=42, stratify=df['buy'])\n",
    "def make_ds_from_df(df_sub):\n",
    "    def gen_sub():\n",
    "        for _, row in df_sub.iterrows():\n",
    "            cat_idx, num_vals, mask = session_to_features(row['events_parsed'])\n",
    "            features = {f: cat_idx[f] for f in cat_fields}\n",
    "            features['numeric'] = num_vals\n",
    "            features['mask'] = mask\n",
    "            label = np.array([row['buy']], dtype=np.float32)\n",
    "            yield features, label\n",
    "    return tf.data.Dataset.from_generator(gen_sub, output_signature=output_signature).batch(64).prefetch(tf.data.AUTOTUNE)\n",
    "\n",
    "train_ds = make_ds_from_df(train_df)\n",
    "val_ds = make_ds_from_df(val_df)"
   ]
  },
  {
   "cell_type": "code",
   "execution_count": 27,
   "id": "c2d40ecd",
   "metadata": {},
   "outputs": [
    {
     "name": "stderr",
     "output_type": "stream",
     "text": [
      "c:\\git_files\\e-commerce_cohort\\ecommerce\\Lib\\site-packages\\keras\\src\\layers\\layer.py:970: UserWarning: Layer 'transformer_encoder_block_2' (of type TransformerEncoderBlock) was passed an input with a mask attached to it. However, this layer does not support masking and will therefore destroy the mask information. Downstream layers will not see the mask.\n",
      "  warnings.warn(\n",
      "c:\\git_files\\e-commerce_cohort\\ecommerce\\Lib\\site-packages\\keras\\src\\layers\\layer.py:970: UserWarning: Layer 'transformer_encoder_block_3' (of type TransformerEncoderBlock) was passed an input with a mask attached to it. However, this layer does not support masking and will therefore destroy the mask information. Downstream layers will not see the mask.\n",
      "  warnings.warn(\n"
     ]
    },
    {
     "data": {
      "text/html": [
       "<pre style=\"white-space:pre;overflow-x:auto;line-height:normal;font-family:Menlo,'DejaVu Sans Mono',consolas,'Courier New',monospace\"><span style=\"font-weight: bold\">Model: \"functional_4\"</span>\n",
       "</pre>\n"
      ],
      "text/plain": [
       "\u001b[1mModel: \"functional_4\"\u001b[0m\n"
      ]
     },
     "metadata": {},
     "output_type": "display_data"
    },
    {
     "data": {
      "text/html": [
       "<pre style=\"white-space:pre;overflow-x:auto;line-height:normal;font-family:Menlo,'DejaVu Sans Mono',consolas,'Courier New',monospace\">┏━━━━━━━━━━━━━━━━━━━━━┳━━━━━━━━━━━━━━━━━━━┳━━━━━━━━━━━━┳━━━━━━━━━━━━━━━━━━━┓\n",
       "┃<span style=\"font-weight: bold\"> Layer (type)        </span>┃<span style=\"font-weight: bold\"> Output Shape      </span>┃<span style=\"font-weight: bold\">    Param # </span>┃<span style=\"font-weight: bold\"> Connected to      </span>┃\n",
       "┡━━━━━━━━━━━━━━━━━━━━━╇━━━━━━━━━━━━━━━━━━━╇━━━━━━━━━━━━╇━━━━━━━━━━━━━━━━━━━┩\n",
       "│ event_type          │ (<span style=\"color: #00d7ff; text-decoration-color: #00d7ff\">None</span>, <span style=\"color: #00af00; text-decoration-color: #00af00\">128</span>)       │          <span style=\"color: #00af00; text-decoration-color: #00af00\">0</span> │ -                 │\n",
       "│ (<span style=\"color: #0087ff; text-decoration-color: #0087ff\">InputLayer</span>)        │                   │            │                   │\n",
       "├─────────────────────┼───────────────────┼────────────┼───────────────────┤\n",
       "│ category_code       │ (<span style=\"color: #00d7ff; text-decoration-color: #00d7ff\">None</span>, <span style=\"color: #00af00; text-decoration-color: #00af00\">128</span>)       │          <span style=\"color: #00af00; text-decoration-color: #00af00\">0</span> │ -                 │\n",
       "│ (<span style=\"color: #0087ff; text-decoration-color: #0087ff\">InputLayer</span>)        │                   │            │                   │\n",
       "├─────────────────────┼───────────────────┼────────────┼───────────────────┤\n",
       "│ general_category    │ (<span style=\"color: #00d7ff; text-decoration-color: #00d7ff\">None</span>, <span style=\"color: #00af00; text-decoration-color: #00af00\">128</span>)       │          <span style=\"color: #00af00; text-decoration-color: #00af00\">0</span> │ -                 │\n",
       "│ (<span style=\"color: #0087ff; text-decoration-color: #0087ff\">InputLayer</span>)        │                   │            │                   │\n",
       "├─────────────────────┼───────────────────┼────────────┼───────────────────┤\n",
       "│ brand (<span style=\"color: #0087ff; text-decoration-color: #0087ff\">InputLayer</span>)  │ (<span style=\"color: #00d7ff; text-decoration-color: #00d7ff\">None</span>, <span style=\"color: #00af00; text-decoration-color: #00af00\">128</span>)       │          <span style=\"color: #00af00; text-decoration-color: #00af00\">0</span> │ -                 │\n",
       "├─────────────────────┼───────────────────┼────────────┼───────────────────┤\n",
       "│ numeric             │ (<span style=\"color: #00d7ff; text-decoration-color: #00d7ff\">None</span>, <span style=\"color: #00af00; text-decoration-color: #00af00\">128</span>, <span style=\"color: #00af00; text-decoration-color: #00af00\">4</span>)    │          <span style=\"color: #00af00; text-decoration-color: #00af00\">0</span> │ -                 │\n",
       "│ (<span style=\"color: #0087ff; text-decoration-color: #0087ff\">InputLayer</span>)        │                   │            │                   │\n",
       "├─────────────────────┼───────────────────┼────────────┼───────────────────┤\n",
       "│ emb_event_type      │ (<span style=\"color: #00d7ff; text-decoration-color: #00d7ff\">None</span>, <span style=\"color: #00af00; text-decoration-color: #00af00\">128</span>, <span style=\"color: #00af00; text-decoration-color: #00af00\">32</span>)   │        <span style=\"color: #00af00; text-decoration-color: #00af00\">128</span> │ event_type[<span style=\"color: #00af00; text-decoration-color: #00af00\">0</span>][<span style=\"color: #00af00; text-decoration-color: #00af00\">0</span>]  │\n",
       "│ (<span style=\"color: #0087ff; text-decoration-color: #0087ff\">Embedding</span>)         │                   │            │                   │\n",
       "├─────────────────────┼───────────────────┼────────────┼───────────────────┤\n",
       "│ emb_category_code   │ (<span style=\"color: #00d7ff; text-decoration-color: #00d7ff\">None</span>, <span style=\"color: #00af00; text-decoration-color: #00af00\">128</span>, <span style=\"color: #00af00; text-decoration-color: #00af00\">32</span>)   │      <span style=\"color: #00af00; text-decoration-color: #00af00\">4,000</span> │ category_code[<span style=\"color: #00af00; text-decoration-color: #00af00\">0</span>]… │\n",
       "│ (<span style=\"color: #0087ff; text-decoration-color: #0087ff\">Embedding</span>)         │                   │            │                   │\n",
       "├─────────────────────┼───────────────────┼────────────┼───────────────────┤\n",
       "│ emb_general_catego… │ (<span style=\"color: #00d7ff; text-decoration-color: #00d7ff\">None</span>, <span style=\"color: #00af00; text-decoration-color: #00af00\">128</span>, <span style=\"color: #00af00; text-decoration-color: #00af00\">32</span>)   │        <span style=\"color: #00af00; text-decoration-color: #00af00\">512</span> │ general_category… │\n",
       "│ (<span style=\"color: #0087ff; text-decoration-color: #0087ff\">Embedding</span>)         │                   │            │                   │\n",
       "├─────────────────────┼───────────────────┼────────────┼───────────────────┤\n",
       "│ emb_brand           │ (<span style=\"color: #00d7ff; text-decoration-color: #00d7ff\">None</span>, <span style=\"color: #00af00; text-decoration-color: #00af00\">128</span>, <span style=\"color: #00af00; text-decoration-color: #00af00\">32</span>)   │     <span style=\"color: #00af00; text-decoration-color: #00af00\">59,552</span> │ brand[<span style=\"color: #00af00; text-decoration-color: #00af00\">0</span>][<span style=\"color: #00af00; text-decoration-color: #00af00\">0</span>]       │\n",
       "│ (<span style=\"color: #0087ff; text-decoration-color: #0087ff\">Embedding</span>)         │                   │            │                   │\n",
       "├─────────────────────┼───────────────────┼────────────┼───────────────────┤\n",
       "│ dense_6 (<span style=\"color: #0087ff; text-decoration-color: #0087ff\">Dense</span>)     │ (<span style=\"color: #00d7ff; text-decoration-color: #00d7ff\">None</span>, <span style=\"color: #00af00; text-decoration-color: #00af00\">128</span>, <span style=\"color: #00af00; text-decoration-color: #00af00\">32</span>)   │        <span style=\"color: #00af00; text-decoration-color: #00af00\">160</span> │ numeric[<span style=\"color: #00af00; text-decoration-color: #00af00\">0</span>][<span style=\"color: #00af00; text-decoration-color: #00af00\">0</span>]     │\n",
       "├─────────────────────┼───────────────────┼────────────┼───────────────────┤\n",
       "│ add_2 (<span style=\"color: #0087ff; text-decoration-color: #0087ff\">Add</span>)         │ (<span style=\"color: #00d7ff; text-decoration-color: #00d7ff\">None</span>, <span style=\"color: #00af00; text-decoration-color: #00af00\">128</span>, <span style=\"color: #00af00; text-decoration-color: #00af00\">32</span>)   │          <span style=\"color: #00af00; text-decoration-color: #00af00\">0</span> │ emb_event_type[<span style=\"color: #00af00; text-decoration-color: #00af00\">0</span>… │\n",
       "│                     │                   │            │ emb_category_cod… │\n",
       "│                     │                   │            │ emb_general_cate… │\n",
       "│                     │                   │            │ emb_brand[<span style=\"color: #00af00; text-decoration-color: #00af00\">0</span>][<span style=\"color: #00af00; text-decoration-color: #00af00\">0</span>],  │\n",
       "│                     │                   │            │ dense_6[<span style=\"color: #00af00; text-decoration-color: #00af00\">0</span>][<span style=\"color: #00af00; text-decoration-color: #00af00\">0</span>]     │\n",
       "├─────────────────────┼───────────────────┼────────────┼───────────────────┤\n",
       "│ add_3 (<span style=\"color: #0087ff; text-decoration-color: #0087ff\">Add</span>)         │ (<span style=\"color: #00d7ff; text-decoration-color: #00d7ff\">None</span>, <span style=\"color: #00af00; text-decoration-color: #00af00\">128</span>, <span style=\"color: #00af00; text-decoration-color: #00af00\">32</span>)   │          <span style=\"color: #00af00; text-decoration-color: #00af00\">0</span> │ add_2[<span style=\"color: #00af00; text-decoration-color: #00af00\">0</span>][<span style=\"color: #00af00; text-decoration-color: #00af00\">0</span>]       │\n",
       "├─────────────────────┼───────────────────┼────────────┼───────────────────┤\n",
       "│ mask (<span style=\"color: #0087ff; text-decoration-color: #0087ff\">InputLayer</span>)   │ (<span style=\"color: #00d7ff; text-decoration-color: #00d7ff\">None</span>, <span style=\"color: #00af00; text-decoration-color: #00af00\">128</span>)       │          <span style=\"color: #00af00; text-decoration-color: #00af00\">0</span> │ -                 │\n",
       "├─────────────────────┼───────────────────┼────────────┼───────────────────┤\n",
       "│ transformer_encode… │ (<span style=\"color: #00d7ff; text-decoration-color: #00d7ff\">None</span>, <span style=\"color: #00af00; text-decoration-color: #00af00\">128</span>, <span style=\"color: #00af00; text-decoration-color: #00af00\">32</span>)   │     <span style=\"color: #00af00; text-decoration-color: #00af00\">25,280</span> │ add_3[<span style=\"color: #00af00; text-decoration-color: #00af00\">0</span>][<span style=\"color: #00af00; text-decoration-color: #00af00\">0</span>],      │\n",
       "│ (<span style=\"color: #0087ff; text-decoration-color: #0087ff\">TransformerEncode…</span> │                   │            │ mask[<span style=\"color: #00af00; text-decoration-color: #00af00\">0</span>][<span style=\"color: #00af00; text-decoration-color: #00af00\">0</span>]        │\n",
       "├─────────────────────┼───────────────────┼────────────┼───────────────────┤\n",
       "│ transformer_encode… │ (<span style=\"color: #00d7ff; text-decoration-color: #00d7ff\">None</span>, <span style=\"color: #00af00; text-decoration-color: #00af00\">128</span>, <span style=\"color: #00af00; text-decoration-color: #00af00\">32</span>)   │     <span style=\"color: #00af00; text-decoration-color: #00af00\">25,280</span> │ transformer_enco… │\n",
       "│ (<span style=\"color: #0087ff; text-decoration-color: #0087ff\">TransformerEncode…</span> │                   │            │ mask[<span style=\"color: #00af00; text-decoration-color: #00af00\">0</span>][<span style=\"color: #00af00; text-decoration-color: #00af00\">0</span>]        │\n",
       "├─────────────────────┼───────────────────┼────────────┼───────────────────┤\n",
       "│ lambda (<span style=\"color: #0087ff; text-decoration-color: #0087ff\">Lambda</span>)     │ (<span style=\"color: #00d7ff; text-decoration-color: #00d7ff\">None</span>, <span style=\"color: #00af00; text-decoration-color: #00af00\">128</span>, <span style=\"color: #00af00; text-decoration-color: #00af00\">1</span>)    │          <span style=\"color: #00af00; text-decoration-color: #00af00\">0</span> │ mask[<span style=\"color: #00af00; text-decoration-color: #00af00\">0</span>][<span style=\"color: #00af00; text-decoration-color: #00af00\">0</span>]        │\n",
       "├─────────────────────┼───────────────────┼────────────┼───────────────────┤\n",
       "│ multiply (<span style=\"color: #0087ff; text-decoration-color: #0087ff\">Multiply</span>) │ (<span style=\"color: #00d7ff; text-decoration-color: #00d7ff\">None</span>, <span style=\"color: #00af00; text-decoration-color: #00af00\">128</span>, <span style=\"color: #00af00; text-decoration-color: #00af00\">32</span>)   │          <span style=\"color: #00af00; text-decoration-color: #00af00\">0</span> │ transformer_enco… │\n",
       "│                     │                   │            │ lambda[<span style=\"color: #00af00; text-decoration-color: #00af00\">0</span>][<span style=\"color: #00af00; text-decoration-color: #00af00\">0</span>]      │\n",
       "├─────────────────────┼───────────────────┼────────────┼───────────────────┤\n",
       "│ lambda_1 (<span style=\"color: #0087ff; text-decoration-color: #0087ff\">Lambda</span>)   │ (<span style=\"color: #00d7ff; text-decoration-color: #00d7ff\">None</span>, <span style=\"color: #00af00; text-decoration-color: #00af00\">32</span>)        │          <span style=\"color: #00af00; text-decoration-color: #00af00\">0</span> │ multiply[<span style=\"color: #00af00; text-decoration-color: #00af00\">0</span>][<span style=\"color: #00af00; text-decoration-color: #00af00\">0</span>]    │\n",
       "├─────────────────────┼───────────────────┼────────────┼───────────────────┤\n",
       "│ lambda_2 (<span style=\"color: #0087ff; text-decoration-color: #0087ff\">Lambda</span>)   │ (<span style=\"color: #00d7ff; text-decoration-color: #00d7ff\">None</span>, <span style=\"color: #00af00; text-decoration-color: #00af00\">1</span>)         │          <span style=\"color: #00af00; text-decoration-color: #00af00\">0</span> │ lambda[<span style=\"color: #00af00; text-decoration-color: #00af00\">0</span>][<span style=\"color: #00af00; text-decoration-color: #00af00\">0</span>]      │\n",
       "├─────────────────────┼───────────────────┼────────────┼───────────────────┤\n",
       "│ lambda_3 (<span style=\"color: #0087ff; text-decoration-color: #0087ff\">Lambda</span>)   │ (<span style=\"color: #00d7ff; text-decoration-color: #00d7ff\">None</span>, <span style=\"color: #00af00; text-decoration-color: #00af00\">32</span>)        │          <span style=\"color: #00af00; text-decoration-color: #00af00\">0</span> │ lambda_1[<span style=\"color: #00af00; text-decoration-color: #00af00\">0</span>][<span style=\"color: #00af00; text-decoration-color: #00af00\">0</span>],   │\n",
       "│                     │                   │            │ lambda_2[<span style=\"color: #00af00; text-decoration-color: #00af00\">0</span>][<span style=\"color: #00af00; text-decoration-color: #00af00\">0</span>]    │\n",
       "├─────────────────────┼───────────────────┼────────────┼───────────────────┤\n",
       "│ dense_11 (<span style=\"color: #0087ff; text-decoration-color: #0087ff\">Dense</span>)    │ (<span style=\"color: #00d7ff; text-decoration-color: #00d7ff\">None</span>, <span style=\"color: #00af00; text-decoration-color: #00af00\">64</span>)        │      <span style=\"color: #00af00; text-decoration-color: #00af00\">2,112</span> │ lambda_3[<span style=\"color: #00af00; text-decoration-color: #00af00\">0</span>][<span style=\"color: #00af00; text-decoration-color: #00af00\">0</span>]    │\n",
       "├─────────────────────┼───────────────────┼────────────┼───────────────────┤\n",
       "│ dropout_12          │ (<span style=\"color: #00d7ff; text-decoration-color: #00d7ff\">None</span>, <span style=\"color: #00af00; text-decoration-color: #00af00\">64</span>)        │          <span style=\"color: #00af00; text-decoration-color: #00af00\">0</span> │ dense_11[<span style=\"color: #00af00; text-decoration-color: #00af00\">0</span>][<span style=\"color: #00af00; text-decoration-color: #00af00\">0</span>]    │\n",
       "│ (<span style=\"color: #0087ff; text-decoration-color: #0087ff\">Dropout</span>)           │                   │            │                   │\n",
       "├─────────────────────┼───────────────────┼────────────┼───────────────────┤\n",
       "│ buy_prob (<span style=\"color: #0087ff; text-decoration-color: #0087ff\">Dense</span>)    │ (<span style=\"color: #00d7ff; text-decoration-color: #00d7ff\">None</span>, <span style=\"color: #00af00; text-decoration-color: #00af00\">1</span>)         │         <span style=\"color: #00af00; text-decoration-color: #00af00\">65</span> │ dropout_12[<span style=\"color: #00af00; text-decoration-color: #00af00\">0</span>][<span style=\"color: #00af00; text-decoration-color: #00af00\">0</span>]  │\n",
       "└─────────────────────┴───────────────────┴────────────┴───────────────────┘\n",
       "</pre>\n"
      ],
      "text/plain": [
       "┏━━━━━━━━━━━━━━━━━━━━━┳━━━━━━━━━━━━━━━━━━━┳━━━━━━━━━━━━┳━━━━━━━━━━━━━━━━━━━┓\n",
       "┃\u001b[1m \u001b[0m\u001b[1mLayer (type)       \u001b[0m\u001b[1m \u001b[0m┃\u001b[1m \u001b[0m\u001b[1mOutput Shape     \u001b[0m\u001b[1m \u001b[0m┃\u001b[1m \u001b[0m\u001b[1m   Param #\u001b[0m\u001b[1m \u001b[0m┃\u001b[1m \u001b[0m\u001b[1mConnected to     \u001b[0m\u001b[1m \u001b[0m┃\n",
       "┡━━━━━━━━━━━━━━━━━━━━━╇━━━━━━━━━━━━━━━━━━━╇━━━━━━━━━━━━╇━━━━━━━━━━━━━━━━━━━┩\n",
       "│ event_type          │ (\u001b[38;5;45mNone\u001b[0m, \u001b[38;5;34m128\u001b[0m)       │          \u001b[38;5;34m0\u001b[0m │ -                 │\n",
       "│ (\u001b[38;5;33mInputLayer\u001b[0m)        │                   │            │                   │\n",
       "├─────────────────────┼───────────────────┼────────────┼───────────────────┤\n",
       "│ category_code       │ (\u001b[38;5;45mNone\u001b[0m, \u001b[38;5;34m128\u001b[0m)       │          \u001b[38;5;34m0\u001b[0m │ -                 │\n",
       "│ (\u001b[38;5;33mInputLayer\u001b[0m)        │                   │            │                   │\n",
       "├─────────────────────┼───────────────────┼────────────┼───────────────────┤\n",
       "│ general_category    │ (\u001b[38;5;45mNone\u001b[0m, \u001b[38;5;34m128\u001b[0m)       │          \u001b[38;5;34m0\u001b[0m │ -                 │\n",
       "│ (\u001b[38;5;33mInputLayer\u001b[0m)        │                   │            │                   │\n",
       "├─────────────────────┼───────────────────┼────────────┼───────────────────┤\n",
       "│ brand (\u001b[38;5;33mInputLayer\u001b[0m)  │ (\u001b[38;5;45mNone\u001b[0m, \u001b[38;5;34m128\u001b[0m)       │          \u001b[38;5;34m0\u001b[0m │ -                 │\n",
       "├─────────────────────┼───────────────────┼────────────┼───────────────────┤\n",
       "│ numeric             │ (\u001b[38;5;45mNone\u001b[0m, \u001b[38;5;34m128\u001b[0m, \u001b[38;5;34m4\u001b[0m)    │          \u001b[38;5;34m0\u001b[0m │ -                 │\n",
       "│ (\u001b[38;5;33mInputLayer\u001b[0m)        │                   │            │                   │\n",
       "├─────────────────────┼───────────────────┼────────────┼───────────────────┤\n",
       "│ emb_event_type      │ (\u001b[38;5;45mNone\u001b[0m, \u001b[38;5;34m128\u001b[0m, \u001b[38;5;34m32\u001b[0m)   │        \u001b[38;5;34m128\u001b[0m │ event_type[\u001b[38;5;34m0\u001b[0m][\u001b[38;5;34m0\u001b[0m]  │\n",
       "│ (\u001b[38;5;33mEmbedding\u001b[0m)         │                   │            │                   │\n",
       "├─────────────────────┼───────────────────┼────────────┼───────────────────┤\n",
       "│ emb_category_code   │ (\u001b[38;5;45mNone\u001b[0m, \u001b[38;5;34m128\u001b[0m, \u001b[38;5;34m32\u001b[0m)   │      \u001b[38;5;34m4,000\u001b[0m │ category_code[\u001b[38;5;34m0\u001b[0m]… │\n",
       "│ (\u001b[38;5;33mEmbedding\u001b[0m)         │                   │            │                   │\n",
       "├─────────────────────┼───────────────────┼────────────┼───────────────────┤\n",
       "│ emb_general_catego… │ (\u001b[38;5;45mNone\u001b[0m, \u001b[38;5;34m128\u001b[0m, \u001b[38;5;34m32\u001b[0m)   │        \u001b[38;5;34m512\u001b[0m │ general_category… │\n",
       "│ (\u001b[38;5;33mEmbedding\u001b[0m)         │                   │            │                   │\n",
       "├─────────────────────┼───────────────────┼────────────┼───────────────────┤\n",
       "│ emb_brand           │ (\u001b[38;5;45mNone\u001b[0m, \u001b[38;5;34m128\u001b[0m, \u001b[38;5;34m32\u001b[0m)   │     \u001b[38;5;34m59,552\u001b[0m │ brand[\u001b[38;5;34m0\u001b[0m][\u001b[38;5;34m0\u001b[0m]       │\n",
       "│ (\u001b[38;5;33mEmbedding\u001b[0m)         │                   │            │                   │\n",
       "├─────────────────────┼───────────────────┼────────────┼───────────────────┤\n",
       "│ dense_6 (\u001b[38;5;33mDense\u001b[0m)     │ (\u001b[38;5;45mNone\u001b[0m, \u001b[38;5;34m128\u001b[0m, \u001b[38;5;34m32\u001b[0m)   │        \u001b[38;5;34m160\u001b[0m │ numeric[\u001b[38;5;34m0\u001b[0m][\u001b[38;5;34m0\u001b[0m]     │\n",
       "├─────────────────────┼───────────────────┼────────────┼───────────────────┤\n",
       "│ add_2 (\u001b[38;5;33mAdd\u001b[0m)         │ (\u001b[38;5;45mNone\u001b[0m, \u001b[38;5;34m128\u001b[0m, \u001b[38;5;34m32\u001b[0m)   │          \u001b[38;5;34m0\u001b[0m │ emb_event_type[\u001b[38;5;34m0\u001b[0m… │\n",
       "│                     │                   │            │ emb_category_cod… │\n",
       "│                     │                   │            │ emb_general_cate… │\n",
       "│                     │                   │            │ emb_brand[\u001b[38;5;34m0\u001b[0m][\u001b[38;5;34m0\u001b[0m],  │\n",
       "│                     │                   │            │ dense_6[\u001b[38;5;34m0\u001b[0m][\u001b[38;5;34m0\u001b[0m]     │\n",
       "├─────────────────────┼───────────────────┼────────────┼───────────────────┤\n",
       "│ add_3 (\u001b[38;5;33mAdd\u001b[0m)         │ (\u001b[38;5;45mNone\u001b[0m, \u001b[38;5;34m128\u001b[0m, \u001b[38;5;34m32\u001b[0m)   │          \u001b[38;5;34m0\u001b[0m │ add_2[\u001b[38;5;34m0\u001b[0m][\u001b[38;5;34m0\u001b[0m]       │\n",
       "├─────────────────────┼───────────────────┼────────────┼───────────────────┤\n",
       "│ mask (\u001b[38;5;33mInputLayer\u001b[0m)   │ (\u001b[38;5;45mNone\u001b[0m, \u001b[38;5;34m128\u001b[0m)       │          \u001b[38;5;34m0\u001b[0m │ -                 │\n",
       "├─────────────────────┼───────────────────┼────────────┼───────────────────┤\n",
       "│ transformer_encode… │ (\u001b[38;5;45mNone\u001b[0m, \u001b[38;5;34m128\u001b[0m, \u001b[38;5;34m32\u001b[0m)   │     \u001b[38;5;34m25,280\u001b[0m │ add_3[\u001b[38;5;34m0\u001b[0m][\u001b[38;5;34m0\u001b[0m],      │\n",
       "│ (\u001b[38;5;33mTransformerEncode…\u001b[0m │                   │            │ mask[\u001b[38;5;34m0\u001b[0m][\u001b[38;5;34m0\u001b[0m]        │\n",
       "├─────────────────────┼───────────────────┼────────────┼───────────────────┤\n",
       "│ transformer_encode… │ (\u001b[38;5;45mNone\u001b[0m, \u001b[38;5;34m128\u001b[0m, \u001b[38;5;34m32\u001b[0m)   │     \u001b[38;5;34m25,280\u001b[0m │ transformer_enco… │\n",
       "│ (\u001b[38;5;33mTransformerEncode…\u001b[0m │                   │            │ mask[\u001b[38;5;34m0\u001b[0m][\u001b[38;5;34m0\u001b[0m]        │\n",
       "├─────────────────────┼───────────────────┼────────────┼───────────────────┤\n",
       "│ lambda (\u001b[38;5;33mLambda\u001b[0m)     │ (\u001b[38;5;45mNone\u001b[0m, \u001b[38;5;34m128\u001b[0m, \u001b[38;5;34m1\u001b[0m)    │          \u001b[38;5;34m0\u001b[0m │ mask[\u001b[38;5;34m0\u001b[0m][\u001b[38;5;34m0\u001b[0m]        │\n",
       "├─────────────────────┼───────────────────┼────────────┼───────────────────┤\n",
       "│ multiply (\u001b[38;5;33mMultiply\u001b[0m) │ (\u001b[38;5;45mNone\u001b[0m, \u001b[38;5;34m128\u001b[0m, \u001b[38;5;34m32\u001b[0m)   │          \u001b[38;5;34m0\u001b[0m │ transformer_enco… │\n",
       "│                     │                   │            │ lambda[\u001b[38;5;34m0\u001b[0m][\u001b[38;5;34m0\u001b[0m]      │\n",
       "├─────────────────────┼───────────────────┼────────────┼───────────────────┤\n",
       "│ lambda_1 (\u001b[38;5;33mLambda\u001b[0m)   │ (\u001b[38;5;45mNone\u001b[0m, \u001b[38;5;34m32\u001b[0m)        │          \u001b[38;5;34m0\u001b[0m │ multiply[\u001b[38;5;34m0\u001b[0m][\u001b[38;5;34m0\u001b[0m]    │\n",
       "├─────────────────────┼───────────────────┼────────────┼───────────────────┤\n",
       "│ lambda_2 (\u001b[38;5;33mLambda\u001b[0m)   │ (\u001b[38;5;45mNone\u001b[0m, \u001b[38;5;34m1\u001b[0m)         │          \u001b[38;5;34m0\u001b[0m │ lambda[\u001b[38;5;34m0\u001b[0m][\u001b[38;5;34m0\u001b[0m]      │\n",
       "├─────────────────────┼───────────────────┼────────────┼───────────────────┤\n",
       "│ lambda_3 (\u001b[38;5;33mLambda\u001b[0m)   │ (\u001b[38;5;45mNone\u001b[0m, \u001b[38;5;34m32\u001b[0m)        │          \u001b[38;5;34m0\u001b[0m │ lambda_1[\u001b[38;5;34m0\u001b[0m][\u001b[38;5;34m0\u001b[0m],   │\n",
       "│                     │                   │            │ lambda_2[\u001b[38;5;34m0\u001b[0m][\u001b[38;5;34m0\u001b[0m]    │\n",
       "├─────────────────────┼───────────────────┼────────────┼───────────────────┤\n",
       "│ dense_11 (\u001b[38;5;33mDense\u001b[0m)    │ (\u001b[38;5;45mNone\u001b[0m, \u001b[38;5;34m64\u001b[0m)        │      \u001b[38;5;34m2,112\u001b[0m │ lambda_3[\u001b[38;5;34m0\u001b[0m][\u001b[38;5;34m0\u001b[0m]    │\n",
       "├─────────────────────┼───────────────────┼────────────┼───────────────────┤\n",
       "│ dropout_12          │ (\u001b[38;5;45mNone\u001b[0m, \u001b[38;5;34m64\u001b[0m)        │          \u001b[38;5;34m0\u001b[0m │ dense_11[\u001b[38;5;34m0\u001b[0m][\u001b[38;5;34m0\u001b[0m]    │\n",
       "│ (\u001b[38;5;33mDropout\u001b[0m)           │                   │            │                   │\n",
       "├─────────────────────┼───────────────────┼────────────┼───────────────────┤\n",
       "│ buy_prob (\u001b[38;5;33mDense\u001b[0m)    │ (\u001b[38;5;45mNone\u001b[0m, \u001b[38;5;34m1\u001b[0m)         │         \u001b[38;5;34m65\u001b[0m │ dropout_12[\u001b[38;5;34m0\u001b[0m][\u001b[38;5;34m0\u001b[0m]  │\n",
       "└─────────────────────┴───────────────────┴────────────┴───────────────────┘\n"
      ]
     },
     "metadata": {},
     "output_type": "display_data"
    },
    {
     "data": {
      "text/html": [
       "<pre style=\"white-space:pre;overflow-x:auto;line-height:normal;font-family:Menlo,'DejaVu Sans Mono',consolas,'Courier New',monospace\"><span style=\"font-weight: bold\"> Total params: </span><span style=\"color: #00af00; text-decoration-color: #00af00\">117,089</span> (457.38 KB)\n",
       "</pre>\n"
      ],
      "text/plain": [
       "\u001b[1m Total params: \u001b[0m\u001b[38;5;34m117,089\u001b[0m (457.38 KB)\n"
      ]
     },
     "metadata": {},
     "output_type": "display_data"
    },
    {
     "data": {
      "text/html": [
       "<pre style=\"white-space:pre;overflow-x:auto;line-height:normal;font-family:Menlo,'DejaVu Sans Mono',consolas,'Courier New',monospace\"><span style=\"font-weight: bold\"> Trainable params: </span><span style=\"color: #00af00; text-decoration-color: #00af00\">117,089</span> (457.38 KB)\n",
       "</pre>\n"
      ],
      "text/plain": [
       "\u001b[1m Trainable params: \u001b[0m\u001b[38;5;34m117,089\u001b[0m (457.38 KB)\n"
      ]
     },
     "metadata": {},
     "output_type": "display_data"
    },
    {
     "data": {
      "text/html": [
       "<pre style=\"white-space:pre;overflow-x:auto;line-height:normal;font-family:Menlo,'DejaVu Sans Mono',consolas,'Courier New',monospace\"><span style=\"font-weight: bold\"> Non-trainable params: </span><span style=\"color: #00af00; text-decoration-color: #00af00\">0</span> (0.00 B)\n",
       "</pre>\n"
      ],
      "text/plain": [
       "\u001b[1m Non-trainable params: \u001b[0m\u001b[38;5;34m0\u001b[0m (0.00 B)\n"
      ]
     },
     "metadata": {},
     "output_type": "display_data"
    }
   ],
   "source": [
    "# 6) Build Transformer-based model in Keras\n",
    "# helper: create embedding layers for each categorical feature\n",
    "EMBED_DIM = 32\n",
    "cat_emb_layers = {}\n",
    "for f in cat_fields:\n",
    "    vocab_size = len(vocab[f]) + 1  # plus pad maybe\n",
    "    cat_emb_layers[f] = tf.keras.layers.Embedding(input_dim=vocab_size, output_dim=EMBED_DIM, mask_zero=True, name=f'emb_{f}')\n",
    "\n",
    "# positional encoding (simple learned)\n",
    "pos_emb = tf.keras.layers.Embedding(input_dim=MAX_SEQ_LEN, output_dim=EMBED_DIM, name='pos_emb')\n",
    "\n",
    "class TransformerEncoderBlock(tf.keras.layers.Layer):\n",
    "    def __init__(self, dim, num_heads, mlp_dim, dropout=0.1):\n",
    "        super().__init__()\n",
    "        self.mha = tf.keras.layers.MultiHeadAttention(num_heads=num_heads, key_dim=dim)\n",
    "        self.norm1 = tf.keras.layers.LayerNormalization(epsilon=1e-6)\n",
    "        self.dropout1 = tf.keras.layers.Dropout(dropout)\n",
    "        self.ffn = tf.keras.Sequential([\n",
    "            tf.keras.layers.Dense(mlp_dim, activation='relu'),\n",
    "            tf.keras.layers.Dense(dim),\n",
    "        ])\n",
    "        self.norm2 = tf.keras.layers.LayerNormalization(epsilon=1e-6)\n",
    "        self.dropout2 = tf.keras.layers.Dropout(dropout)\n",
    "\n",
    "    def call(self, x, mask=None, training=False):\n",
    "        # mask: [batch, seq_len] float mask -> convert to attention mask\n",
    "        attn_mask = None\n",
    "        if mask is not None:\n",
    "            # MultiHeadAttention takes boolean mask where True means keep (opposite behavior), or attention_mask with shape [batch, seq_len]?\n",
    "            # We'll create a 2D key mask: shape (batch, seq_len)\n",
    "            # Keras MultiHeadAttention supports attention_mask (boolean) shape [batch, seq_len]\n",
    "            attn_mask = tf.cast(mask[:, tf.newaxis, :], dtype=tf.bool)  # shape (batch,1,seq)\n",
    "        attn_out = self.mha(x, x, attention_mask=attn_mask)\n",
    "        attn_out = self.dropout1(attn_out, training=training)\n",
    "        out1 = self.norm1(x + attn_out)\n",
    "        ff = self.ffn(out1)\n",
    "        ff = self.dropout2(ff, training=training)\n",
    "        out2 = self.norm2(out1 + ff)\n",
    "        return out2\n",
    "\n",
    "def build_model():\n",
    "    # inputs\n",
    "    inputs = {f: tf.keras.Input(shape=(MAX_SEQ_LEN,), dtype=tf.int32, name=f) for f in cat_fields}\n",
    "    inputs['numeric'] = tf.keras.Input(shape=(MAX_SEQ_LEN, len(num_fields)), dtype=tf.float32, name='numeric')\n",
    "    inputs['mask'] = tf.keras.Input(shape=(MAX_SEQ_LEN,), dtype=tf.float32, name='mask')\n",
    "\n",
    "    # embed categorical and sum embeddings (or concat)\n",
    "    emb_list = []\n",
    "    for f in cat_fields:\n",
    "        e = cat_emb_layers[f](inputs[f])  # (batch, seq, emb)\n",
    "        emb_list.append(e)\n",
    "    # project numeric features to embedding space\n",
    "    numeric_proj = tf.keras.layers.Dense(EMBED_DIM)(inputs['numeric'])  # (batch, seq, emb)\n",
    "    emb_list.append(numeric_proj)\n",
    "\n",
    "    x = tf.keras.layers.Add()(emb_list)  # element-wise sum of embeddings\n",
    "    # add position embedding\n",
    "    positions = tf.range(start=0, limit=MAX_SEQ_LEN, delta=1)\n",
    "    pos_embeddings = pos_emb(positions)\n",
    "    x = x + pos_embeddings  # broadcast adds position to every batch\n",
    "\n",
    "    # apply mask (pass to encoder blocks)\n",
    "    mask = inputs['mask']\n",
    "\n",
    "    # stack Transformer encoder blocks\n",
    "    for _ in range(2):  # num encoder layers, tune as needed\n",
    "        x = TransformerEncoderBlock(dim=EMBED_DIM, num_heads=4, mlp_dim=EMBED_DIM*4)(x, mask=mask)\n",
    "\n",
    "    # pooling: use masked mean pooling\n",
    "    mask_expanded = tf.keras.layers.Lambda(lambda m: tf.expand_dims(m, axis=-1))(mask)  # (batch, seq, 1)\n",
    "    x_masked = tf.keras.layers.Multiply()([x, mask_expanded])\n",
    "    sum_x = tf.keras.layers.Lambda(lambda z: tf.reduce_sum(z, axis=1))(x_masked)  # (batch, emb)\n",
    "    lengths = tf.keras.layers.Lambda(lambda m: tf.reduce_sum(m, axis=1))(mask_expanded)  # (batch,1)\n",
    "    pooled = tf.keras.layers.Lambda(lambda z: z[0] / (z[1] + 1e-6))([sum_x, lengths])\n",
    "\n",
    "\n",
    "    # classifier head\n",
    "    h = tf.keras.layers.Dense(64, activation='relu')(pooled)\n",
    "    h = tf.keras.layers.Dropout(0.3)(h)\n",
    "    out = tf.keras.layers.Dense(1, activation='sigmoid', name='buy_prob')(h)\n",
    "\n",
    "    model = tf.keras.Model(inputs=inputs, outputs=out)\n",
    "    return model\n",
    "\n",
    "model = build_model()\n",
    "model.compile(optimizer=tf.keras.optimizers.Adam(1e-4),\n",
    "              loss='binary_crossentropy',\n",
    "              metrics=[tf.keras.metrics.AUC(name='auc'), tf.keras.metrics.BinaryAccuracy(name='acc')])\n",
    "model.summary()"
   ]
  },
  {
   "cell_type": "code",
   "execution_count": null,
   "id": "97993712",
   "metadata": {},
   "outputs": [
    {
     "name": "stdout",
     "output_type": "stream",
     "text": [
      "Epoch 1/10\n",
      "    598/Unknown \u001b[1m175s\u001b[0m 285ms/step - acc: 0.5845 - auc: 0.5690 - loss: 1.3211"
     ]
    },
    {
     "name": "stderr",
     "output_type": "stream",
     "text": [
      "c:\\git_files\\e-commerce_cohort\\ecommerce\\Lib\\site-packages\\keras\\src\\trainers\\epoch_iterator.py:164: UserWarning: Your input ran out of data; interrupting training. Make sure that your dataset or generator can generate at least `steps_per_epoch * epochs` batches. You may need to use the `.repeat()` function when building your dataset.\n",
      "  self._interrupted_warning()\n",
      "c:\\git_files\\e-commerce_cohort\\ecommerce\\Lib\\site-packages\\keras\\src\\layers\\layer.py:970: UserWarning: Layer 'transformer_encoder_block_2' (of type TransformerEncoderBlock) was passed an input with a mask attached to it. However, this layer does not support masking and will therefore destroy the mask information. Downstream layers will not see the mask.\n",
      "  warnings.warn(\n",
      "c:\\git_files\\e-commerce_cohort\\ecommerce\\Lib\\site-packages\\keras\\src\\layers\\layer.py:970: UserWarning: Layer 'transformer_encoder_block_3' (of type TransformerEncoderBlock) was passed an input with a mask attached to it. However, this layer does not support masking and will therefore destroy the mask information. Downstream layers will not see the mask.\n",
      "  warnings.warn(\n"
     ]
    },
    {
     "name": "stdout",
     "output_type": "stream",
     "text": [
      "\u001b[1m598/598\u001b[0m \u001b[32m━━━━━━━━━━━━━━━━━━━━\u001b[0m\u001b[37m\u001b[0m \u001b[1m189s\u001b[0m 308ms/step - acc: 0.6076 - auc: 0.6134 - loss: 1.3132 - val_acc: 0.6791 - val_auc: 0.7263 - val_loss: 0.6408\n",
      "Epoch 2/10\n"
     ]
    },
    {
     "name": "stderr",
     "output_type": "stream",
     "text": [
      "c:\\git_files\\e-commerce_cohort\\ecommerce\\Lib\\site-packages\\keras\\src\\trainers\\epoch_iterator.py:164: UserWarning: Your input ran out of data; interrupting training. Make sure that your dataset or generator can generate at least `steps_per_epoch * epochs` batches. You may need to use the `.repeat()` function when building your dataset.\n",
      "  self._interrupted_warning()\n"
     ]
    },
    {
     "name": "stdout",
     "output_type": "stream",
     "text": [
      "\u001b[1m598/598\u001b[0m \u001b[32m━━━━━━━━━━━━━━━━━━━━\u001b[0m\u001b[37m\u001b[0m \u001b[1m0s\u001b[0m 310ms/step - acc: 0.7344 - auc: 0.7387 - loss: 1.1252"
     ]
    },
    {
     "name": "stderr",
     "output_type": "stream",
     "text": [
      "c:\\git_files\\e-commerce_cohort\\ecommerce\\Lib\\site-packages\\keras\\src\\trainers\\epoch_iterator.py:164: UserWarning: Your input ran out of data; interrupting training. Make sure that your dataset or generator can generate at least `steps_per_epoch * epochs` batches. You may need to use the `.repeat()` function when building your dataset.\n",
      "  self._interrupted_warning()\n"
     ]
    },
    {
     "name": "stdout",
     "output_type": "stream",
     "text": [
      "\u001b[1m598/598\u001b[0m \u001b[32m━━━━━━━━━━━━━━━━━━━━\u001b[0m\u001b[37m\u001b[0m \u001b[1m201s\u001b[0m 337ms/step - acc: 0.7413 - auc: 0.7661 - loss: 1.1183 - val_acc: 0.7130 - val_auc: 0.7643 - val_loss: 0.5600\n",
      "Epoch 3/10\n"
     ]
    },
    {
     "name": "stderr",
     "output_type": "stream",
     "text": [
      "c:\\git_files\\e-commerce_cohort\\ecommerce\\Lib\\site-packages\\keras\\src\\trainers\\epoch_iterator.py:164: UserWarning: Your input ran out of data; interrupting training. Make sure that your dataset or generator can generate at least `steps_per_epoch * epochs` batches. You may need to use the `.repeat()` function when building your dataset.\n",
      "  self._interrupted_warning()\n"
     ]
    },
    {
     "name": "stdout",
     "output_type": "stream",
     "text": [
      "\u001b[1m598/598\u001b[0m \u001b[32m━━━━━━━━━━━━━━━━━━━━\u001b[0m\u001b[37m\u001b[0m \u001b[1m0s\u001b[0m 349ms/step - acc: 0.7894 - auc: 0.8059 - loss: 0.9984"
     ]
    },
    {
     "name": "stderr",
     "output_type": "stream",
     "text": [
      "c:\\git_files\\e-commerce_cohort\\ecommerce\\Lib\\site-packages\\keras\\src\\trainers\\epoch_iterator.py:164: UserWarning: Your input ran out of data; interrupting training. Make sure that your dataset or generator can generate at least `steps_per_epoch * epochs` batches. You may need to use the `.repeat()` function when building your dataset.\n",
      "  self._interrupted_warning()\n"
     ]
    },
    {
     "name": "stdout",
     "output_type": "stream",
     "text": [
      "\u001b[1m598/598\u001b[0m \u001b[32m━━━━━━━━━━━━━━━━━━━━\u001b[0m\u001b[37m\u001b[0m \u001b[1m225s\u001b[0m 377ms/step - acc: 0.7920 - auc: 0.8175 - loss: 1.0061 - val_acc: 0.7956 - val_auc: 0.7757 - val_loss: 0.4820\n",
      "Epoch 4/10\n"
     ]
    },
    {
     "name": "stderr",
     "output_type": "stream",
     "text": [
      "c:\\git_files\\e-commerce_cohort\\ecommerce\\Lib\\site-packages\\keras\\src\\trainers\\epoch_iterator.py:164: UserWarning: Your input ran out of data; interrupting training. Make sure that your dataset or generator can generate at least `steps_per_epoch * epochs` batches. You may need to use the `.repeat()` function when building your dataset.\n",
      "  self._interrupted_warning()\n"
     ]
    },
    {
     "name": "stdout",
     "output_type": "stream",
     "text": [
      "\u001b[1m598/598\u001b[0m \u001b[32m━━━━━━━━━━━━━━━━━━━━\u001b[0m\u001b[37m\u001b[0m \u001b[1m0s\u001b[0m 302ms/step - acc: 0.8184 - auc: 0.8345 - loss: 0.9268"
     ]
    },
    {
     "name": "stderr",
     "output_type": "stream",
     "text": [
      "c:\\git_files\\e-commerce_cohort\\ecommerce\\Lib\\site-packages\\keras\\src\\trainers\\epoch_iterator.py:164: UserWarning: Your input ran out of data; interrupting training. Make sure that your dataset or generator can generate at least `steps_per_epoch * epochs` batches. You may need to use the `.repeat()` function when building your dataset.\n",
      "  self._interrupted_warning()\n"
     ]
    },
    {
     "name": "stdout",
     "output_type": "stream",
     "text": [
      "\u001b[1m598/598\u001b[0m \u001b[32m━━━━━━━━━━━━━━━━━━━━\u001b[0m\u001b[37m\u001b[0m \u001b[1m194s\u001b[0m 324ms/step - acc: 0.8160 - auc: 0.8419 - loss: 0.9414 - val_acc: 0.7864 - val_auc: 0.7752 - val_loss: 0.4867\n",
      "Epoch 5/10\n"
     ]
    },
    {
     "name": "stderr",
     "output_type": "stream",
     "text": [
      "c:\\git_files\\e-commerce_cohort\\ecommerce\\Lib\\site-packages\\keras\\src\\trainers\\epoch_iterator.py:164: UserWarning: Your input ran out of data; interrupting training. Make sure that your dataset or generator can generate at least `steps_per_epoch * epochs` batches. You may need to use the `.repeat()` function when building your dataset.\n",
      "  self._interrupted_warning()\n"
     ]
    },
    {
     "name": "stdout",
     "output_type": "stream",
     "text": [
      "\u001b[1m598/598\u001b[0m \u001b[32m━━━━━━━━━━━━━━━━━━━━\u001b[0m\u001b[37m\u001b[0m \u001b[1m0s\u001b[0m 284ms/step - acc: 0.8236 - auc: 0.8500 - loss: 0.8913"
     ]
    },
    {
     "name": "stderr",
     "output_type": "stream",
     "text": [
      "c:\\git_files\\e-commerce_cohort\\ecommerce\\Lib\\site-packages\\keras\\src\\trainers\\epoch_iterator.py:164: UserWarning: Your input ran out of data; interrupting training. Make sure that your dataset or generator can generate at least `steps_per_epoch * epochs` batches. You may need to use the `.repeat()` function when building your dataset.\n",
      "  self._interrupted_warning()\n"
     ]
    },
    {
     "name": "stdout",
     "output_type": "stream",
     "text": [
      "\u001b[1m598/598\u001b[0m \u001b[32m━━━━━━━━━━━━━━━━━━━━\u001b[0m\u001b[37m\u001b[0m \u001b[1m183s\u001b[0m 306ms/step - acc: 0.8208 - auc: 0.8527 - loss: 0.9133 - val_acc: 0.7956 - val_auc: 0.7763 - val_loss: 0.4733\n",
      "Epoch 6/10\n"
     ]
    },
    {
     "name": "stderr",
     "output_type": "stream",
     "text": [
      "c:\\git_files\\e-commerce_cohort\\ecommerce\\Lib\\site-packages\\keras\\src\\trainers\\epoch_iterator.py:164: UserWarning: Your input ran out of data; interrupting training. Make sure that your dataset or generator can generate at least `steps_per_epoch * epochs` batches. You may need to use the `.repeat()` function when building your dataset.\n",
      "  self._interrupted_warning()\n"
     ]
    },
    {
     "name": "stdout",
     "output_type": "stream",
     "text": [
      "\u001b[1m598/598\u001b[0m \u001b[32m━━━━━━━━━━━━━━━━━━━━\u001b[0m\u001b[37m\u001b[0m \u001b[1m0s\u001b[0m 278ms/step - acc: 0.8288 - auc: 0.8572 - loss: 0.8698"
     ]
    },
    {
     "name": "stderr",
     "output_type": "stream",
     "text": [
      "c:\\git_files\\e-commerce_cohort\\ecommerce\\Lib\\site-packages\\keras\\src\\trainers\\epoch_iterator.py:164: UserWarning: Your input ran out of data; interrupting training. Make sure that your dataset or generator can generate at least `steps_per_epoch * epochs` batches. You may need to use the `.repeat()` function when building your dataset.\n",
      "  self._interrupted_warning()\n"
     ]
    },
    {
     "name": "stdout",
     "output_type": "stream",
     "text": [
      "\u001b[1m598/598\u001b[0m \u001b[32m━━━━━━━━━━━━━━━━━━━━\u001b[0m\u001b[37m\u001b[0m \u001b[1m181s\u001b[0m 303ms/step - acc: 0.8302 - auc: 0.8652 - loss: 0.8782 - val_acc: 0.7996 - val_auc: 0.7731 - val_loss: 0.4700\n",
      "Epoch 7/10\n"
     ]
    },
    {
     "name": "stderr",
     "output_type": "stream",
     "text": [
      "c:\\git_files\\e-commerce_cohort\\ecommerce\\Lib\\site-packages\\keras\\src\\trainers\\epoch_iterator.py:164: UserWarning: Your input ran out of data; interrupting training. Make sure that your dataset or generator can generate at least `steps_per_epoch * epochs` batches. You may need to use the `.repeat()` function when building your dataset.\n",
      "  self._interrupted_warning()\n"
     ]
    },
    {
     "name": "stdout",
     "output_type": "stream",
     "text": [
      "\u001b[1m598/598\u001b[0m \u001b[32m━━━━━━━━━━━━━━━━━━━━\u001b[0m\u001b[37m\u001b[0m \u001b[1m0s\u001b[0m 299ms/step - acc: 0.8344 - auc: 0.8710 - loss: 0.8337"
     ]
    },
    {
     "name": "stderr",
     "output_type": "stream",
     "text": [
      "c:\\git_files\\e-commerce_cohort\\ecommerce\\Lib\\site-packages\\keras\\src\\trainers\\epoch_iterator.py:164: UserWarning: Your input ran out of data; interrupting training. Make sure that your dataset or generator can generate at least `steps_per_epoch * epochs` batches. You may need to use the `.repeat()` function when building your dataset.\n",
      "  self._interrupted_warning()\n"
     ]
    },
    {
     "name": "stdout",
     "output_type": "stream",
     "text": [
      "\u001b[1m598/598\u001b[0m \u001b[32m━━━━━━━━━━━━━━━━━━━━\u001b[0m\u001b[37m\u001b[0m \u001b[1m195s\u001b[0m 326ms/step - acc: 0.8319 - auc: 0.8731 - loss: 0.8551 - val_acc: 0.7888 - val_auc: 0.7767 - val_loss: 0.4777\n",
      "Epoch 8/10\n"
     ]
    },
    {
     "name": "stderr",
     "output_type": "stream",
     "text": [
      "c:\\git_files\\e-commerce_cohort\\ecommerce\\Lib\\site-packages\\keras\\src\\trainers\\epoch_iterator.py:164: UserWarning: Your input ran out of data; interrupting training. Make sure that your dataset or generator can generate at least `steps_per_epoch * epochs` batches. You may need to use the `.repeat()` function when building your dataset.\n",
      "  self._interrupted_warning()\n"
     ]
    },
    {
     "name": "stdout",
     "output_type": "stream",
     "text": [
      "\u001b[1m598/598\u001b[0m \u001b[32m━━━━━━━━━━━━━━━━━━━━\u001b[0m\u001b[37m\u001b[0m \u001b[1m0s\u001b[0m 297ms/step - acc: 0.8374 - auc: 0.8763 - loss: 0.8207"
     ]
    },
    {
     "name": "stderr",
     "output_type": "stream",
     "text": [
      "c:\\git_files\\e-commerce_cohort\\ecommerce\\Lib\\site-packages\\keras\\src\\trainers\\epoch_iterator.py:164: UserWarning: Your input ran out of data; interrupting training. Make sure that your dataset or generator can generate at least `steps_per_epoch * epochs` batches. You may need to use the `.repeat()` function when building your dataset.\n",
      "  self._interrupted_warning()\n"
     ]
    },
    {
     "name": "stdout",
     "output_type": "stream",
     "text": [
      "\u001b[1m598/598\u001b[0m \u001b[32m━━━━━━━━━━━━━━━━━━━━\u001b[0m\u001b[37m\u001b[0m \u001b[1m192s\u001b[0m 321ms/step - acc: 0.8359 - auc: 0.8784 - loss: 0.8403 - val_acc: 0.7838 - val_auc: 0.7754 - val_loss: 0.4972\n",
      "Epoch 9/10\n"
     ]
    },
    {
     "name": "stderr",
     "output_type": "stream",
     "text": [
      "c:\\git_files\\e-commerce_cohort\\ecommerce\\Lib\\site-packages\\keras\\src\\trainers\\epoch_iterator.py:164: UserWarning: Your input ran out of data; interrupting training. Make sure that your dataset or generator can generate at least `steps_per_epoch * epochs` batches. You may need to use the `.repeat()` function when building your dataset.\n",
      "  self._interrupted_warning()\n"
     ]
    },
    {
     "name": "stdout",
     "output_type": "stream",
     "text": [
      "\u001b[1m598/598\u001b[0m \u001b[32m━━━━━━━━━━━━━━━━━━━━\u001b[0m\u001b[37m\u001b[0m \u001b[1m0s\u001b[0m 6s/step - acc: 0.8352 - auc: 0.8815 - loss: 0.8045"
     ]
    },
    {
     "name": "stderr",
     "output_type": "stream",
     "text": [
      "c:\\git_files\\e-commerce_cohort\\ecommerce\\Lib\\site-packages\\keras\\src\\trainers\\epoch_iterator.py:164: UserWarning: Your input ran out of data; interrupting training. Make sure that your dataset or generator can generate at least `steps_per_epoch * epochs` batches. You may need to use the `.repeat()` function when building your dataset.\n",
      "  self._interrupted_warning()\n"
     ]
    },
    {
     "name": "stdout",
     "output_type": "stream",
     "text": [
      "\u001b[1m598/598\u001b[0m \u001b[32m━━━━━━━━━━━━━━━━━━━━\u001b[0m\u001b[37m\u001b[0m \u001b[1m3373s\u001b[0m 6s/step - acc: 0.8333 - auc: 0.8831 - loss: 0.8244 - val_acc: 0.8095 - val_auc: 0.7726 - val_loss: 0.4433\n",
      "Epoch 10/10\n"
     ]
    },
    {
     "name": "stderr",
     "output_type": "stream",
     "text": [
      "c:\\git_files\\e-commerce_cohort\\ecommerce\\Lib\\site-packages\\keras\\src\\trainers\\epoch_iterator.py:164: UserWarning: Your input ran out of data; interrupting training. Make sure that your dataset or generator can generate at least `steps_per_epoch * epochs` batches. You may need to use the `.repeat()` function when building your dataset.\n",
      "  self._interrupted_warning()\n"
     ]
    },
    {
     "name": "stdout",
     "output_type": "stream",
     "text": [
      "\u001b[1m598/598\u001b[0m \u001b[32m━━━━━━━━━━━━━━━━━━━━\u001b[0m\u001b[37m\u001b[0m \u001b[1m0s\u001b[0m 207ms/step - acc: 0.8422 - auc: 0.8860 - loss: 0.7887"
     ]
    },
    {
     "name": "stderr",
     "output_type": "stream",
     "text": [
      "c:\\git_files\\e-commerce_cohort\\ecommerce\\Lib\\site-packages\\keras\\src\\trainers\\epoch_iterator.py:164: UserWarning: Your input ran out of data; interrupting training. Make sure that your dataset or generator can generate at least `steps_per_epoch * epochs` batches. You may need to use the `.repeat()` function when building your dataset.\n",
      "  self._interrupted_warning()\n"
     ]
    },
    {
     "name": "stdout",
     "output_type": "stream",
     "text": [
      "\u001b[1m598/598\u001b[0m \u001b[32m━━━━━━━━━━━━━━━━━━━━\u001b[0m\u001b[37m\u001b[0m \u001b[1m137s\u001b[0m 228ms/step - acc: 0.8401 - auc: 0.8868 - loss: 0.8100 - val_acc: 0.8217 - val_auc: 0.7740 - val_loss: 0.4399\n"
     ]
    },
    {
     "name": "stderr",
     "output_type": "stream",
     "text": [
      "c:\\git_files\\e-commerce_cohort\\ecommerce\\Lib\\site-packages\\keras\\src\\trainers\\epoch_iterator.py:164: UserWarning: Your input ran out of data; interrupting training. Make sure that your dataset or generator can generate at least `steps_per_epoch * epochs` batches. You may need to use the `.repeat()` function when building your dataset.\n",
      "  self._interrupted_warning()\n"
     ]
    }
   ],
   "source": [
    "# 7) Train\n",
    "# Option: compute class weights if imbalanced\n",
    "labels = df['buy'].values\n",
    "pos = labels.sum()\n",
    "neg = len(labels) - pos\n",
    "class_weight = {0: 1.0, 1: (neg / (pos + 1e-6))}  # simple balancing\n",
    "\n",
    "# fit\n",
    "history = model.fit(train_ds, validation_data=val_ds, epochs=10, class_weight=class_weight)"
   ]
  },
  {
   "cell_type": "code",
   "execution_count": 29,
   "id": "d09353bc",
   "metadata": {},
   "outputs": [],
   "source": [
    "# 8) Evaluate and inference\n",
    "# example inference on raw session\n",
    "def predict_session(model, ev_list):\n",
    "    cat_idx, num_vals, mask = session_to_features(ev_list)\n",
    "    feed = {f: np.expand_dims(cat_idx[f], 0) for f in cat_fields}\n",
    "    feed['numeric'] = np.expand_dims(num_vals, 0)\n",
    "    feed['mask'] = np.expand_dims(mask, 0)\n",
    "    prob = model.predict(feed)[0,0]\n",
    "    return prob"
   ]
  },
  {
   "cell_type": "code",
   "execution_count": 34,
   "id": "8aaaccf9",
   "metadata": {},
   "outputs": [
    {
     "name": "stdout",
     "output_type": "stream",
     "text": [
      "\u001b[1m1/1\u001b[0m \u001b[32m━━━━━━━━━━━━━━━━━━━━\u001b[0m\u001b[37m\u001b[0m \u001b[1m0s\u001b[0m 25ms/step\n",
      "구매 확률: 0.4306\n"
     ]
    }
   ],
   "source": [
    "example_session = [\n",
    "    {\n",
    "        \"event_type\": 2, \n",
    "        \"product_id\": 22200103, \n",
    "        \"category_code\": \"electronics.smartphone\",\n",
    "        \"general_category\": \"electronics\",\n",
    "        \"brand\": \"samsung\",\n",
    "        \"price\": 350.0,\n",
    "        \"relative_price\": 0.45,\n",
    "        \"time_since_start\": 0.0,\n",
    "        \"time_since_prev\": 0.0\n",
    "    },\n",
    "    {\n",
    "        \"event_type\": 2, \n",
    "        \"product_id\": 6902133, \n",
    "        \"category_code\": \"computers.notebook\",\n",
    "        \"general_category\": \"computers\",\n",
    "        \"brand\": \"apple\",\n",
    "        \"price\": 1200.0,\n",
    "        \"relative_price\": 0.9,\n",
    "        \"time_since_start\": 30.0,\n",
    "        \"time_since_prev\": 30.0\n",
    "    }\n",
    "]\n",
    "\n",
    "prob = predict_session(model, example_session)\n",
    "print(f\"구매 확률: {prob:.4f}\")\n"
   ]
  },
  {
   "cell_type": "code",
   "execution_count": 56,
   "id": "9b6fa5aa",
   "metadata": {},
   "outputs": [
    {
     "name": "stdout",
     "output_type": "stream",
     "text": [
      "\u001b[1m1/1\u001b[0m \u001b[32m━━━━━━━━━━━━━━━━━━━━\u001b[0m\u001b[37m\u001b[0m \u001b[1m0s\u001b[0m 63ms/step\n",
      "구매 확률: 0.5014\n"
     ]
    }
   ],
   "source": [
    "example_session = [\n",
    "    {\n",
    "        \"event_type\": 2, \n",
    "        \"product_id\": 22200103, \n",
    "        \"category_code\": \"electronics.smartphone\",\n",
    "        \"general_category\": \"electronics\",\n",
    "        \"brand\": \"samsung\",\n",
    "        \"price\": 350.0,\n",
    "        \"relative_price\": 0.45,\n",
    "        \"time_since_start\": 0.0,\n",
    "        \"time_since_prev\": 0.0\n",
    "    },\n",
    "    {\n",
    "        \"event_type\": 2, \n",
    "        \"product_id\": 6902133, \n",
    "        \"category_code\": \"computers.notebook\",\n",
    "        \"general_category\": \"computers\",\n",
    "        \"brand\": \"apple\",\n",
    "        \"price\": 1200.0,\n",
    "        \"relative_price\": 0.9,\n",
    "        \"time_since_start\": 14.0,\n",
    "        \"time_since_prev\": 14.0\n",
    "    },\n",
    "    {\n",
    "        \"event_type\": 2, \n",
    "        \"product_id\": 22200103, \n",
    "        \"category_code\": \"electronics.smartphone\",\n",
    "        \"general_category\": \"electronics\",\n",
    "        \"brand\": \"samsung\",\n",
    "        \"price\": 350.0,\n",
    "        \"relative_price\": 0.45,\n",
    "        \"time_since_start\": 27.0,\n",
    "        \"time_since_prev\": 13.0\n",
    "    },\n",
    "    {\n",
    "        \"event_type\": 1, \n",
    "        \"product_id\": 22200103, \n",
    "        \"category_code\": \"electronics.smartphone\",\n",
    "        \"general_category\": \"electronics\",\n",
    "        \"brand\": \"samsung\",\n",
    "        \"price\": 350.0,\n",
    "        \"relative_price\": 0.45,\n",
    "        \"time_since_start\": 28.0,\n",
    "        \"time_since_prev\": 1.0\n",
    "    }\n",
    "]\n",
    "\n",
    "prob = predict_session(model, example_session)\n",
    "print(f\"구매 확률: {prob:.4f}\")"
   ]
  },
  {
   "cell_type": "code",
   "execution_count": 58,
   "id": "2f43ed65",
   "metadata": {},
   "outputs": [
    {
     "name": "stdout",
     "output_type": "stream",
     "text": [
      "\u001b[1m1/1\u001b[0m \u001b[32m━━━━━━━━━━━━━━━━━━━━\u001b[0m\u001b[37m\u001b[0m \u001b[1m0s\u001b[0m 52ms/step\n",
      "구매 확률: 0.3777\n"
     ]
    }
   ],
   "source": [
    "example_session = [\n",
    "    {\n",
    "        \"event_type\": 2, \n",
    "        \"product_id\": 22200103, \n",
    "        \"category_code\": \"electronics.smartphone\",\n",
    "        \"general_category\": \"electronics\",\n",
    "        \"brand\": \"samsung\",\n",
    "        \"price\": 350.0,\n",
    "        \"relative_price\": 0.45,\n",
    "        \"time_since_start\": 0.0,\n",
    "        \"time_since_prev\": 0.0\n",
    "    },\n",
    "    {\n",
    "        \"event_type\": 2, \n",
    "        \"product_id\": 6902133, \n",
    "        \"category_code\": \"computers.notebook\",\n",
    "        \"general_category\": \"computers\",\n",
    "        \"brand\": \"apple\",\n",
    "        \"price\": 1200.0,\n",
    "        \"relative_price\": 0.9,\n",
    "        \"time_since_start\": 14.0,\n",
    "        \"time_since_prev\": 14.0\n",
    "    },\n",
    "    {\n",
    "        \"event_type\": 2, \n",
    "        \"product_id\": 22200103, \n",
    "        \"category_code\": \"electronics.smartphone\",\n",
    "        \"general_category\": \"electronics\",\n",
    "        \"brand\": \"samsung\",\n",
    "        \"price\": 350.0,\n",
    "        \"relative_price\": 0.45,\n",
    "        \"time_since_start\": 27.0,\n",
    "        \"time_since_prev\": 13.0\n",
    "    }\n",
    "]\n",
    "\n",
    "prob = predict_session(model, example_session)\n",
    "print(f\"구매 확률: {prob:.4f}\")\n"
   ]
  },
  {
   "cell_type": "code",
   "execution_count": null,
   "id": "a8641ab9",
   "metadata": {},
   "outputs": [],
   "source": []
  },
  {
   "cell_type": "code",
   "execution_count": 53,
   "id": "f83ee8cb",
   "metadata": {},
   "outputs": [
    {
     "name": "stdout",
     "output_type": "stream",
     "text": [
      "[{'event_type': np.int64(2), 'product_id': 17301541, 'category_code': 'unknown.', 'general_category': 'unknown', 'brand': 'unknown', 'price': 162.17, 'relative_price': 1.8000888000887998, 'time_since_start': 0.0, 'time_since_prev': 0}, {'event_type': np.int64(2), 'product_id': 17301541, 'category_code': 'unknown.', 'general_category': 'unknown', 'brand': 'unknown', 'price': 162.17, 'relative_price': 1.8000888000887998, 'time_since_start': 25.0, 'time_since_prev': 25.0}]\n"
     ]
    }
   ],
   "source": [
    "print(log_dict.iloc[7]['event'])"
   ]
  },
  {
   "cell_type": "code",
   "execution_count": 52,
   "id": "efe0dcef",
   "metadata": {},
   "outputs": [
    {
     "name": "stdout",
     "output_type": "stream",
     "text": [
      "\u001b[1m1/1\u001b[0m \u001b[32m━━━━━━━━━━━━━━━━━━━━\u001b[0m\u001b[37m\u001b[0m \u001b[1m0s\u001b[0m 65ms/step\n",
      "구매 확률: 0.5479\n"
     ]
    }
   ],
   "source": [
    "prob = predict_session(model, log_dict.iloc[7]['event'])\n",
    "print(f\"구매 확률: {prob:.4f}\")"
   ]
  },
  {
   "cell_type": "code",
   "execution_count": 54,
   "id": "18af7f7f",
   "metadata": {},
   "outputs": [
    {
     "data": {
      "text/plain": [
       "42509"
      ]
     },
     "execution_count": 54,
     "metadata": {},
     "output_type": "execute_result"
    }
   ],
   "source": [
    "len(log_dict)"
   ]
  },
  {
   "cell_type": "code",
   "execution_count": 59,
   "id": "296a9b06",
   "metadata": {},
   "outputs": [
    {
     "data": {
      "text/plain": [
       "[30033, 9564, 37938, 18471, 17924]"
      ]
     },
     "execution_count": 59,
     "metadata": {},
     "output_type": "execute_result"
    }
   ],
   "source": [
    "import random\n",
    "randlist = random.sample(range(len(log_dict)), 5)\n",
    "randlist"
   ]
  },
  {
   "cell_type": "code",
   "execution_count": 62,
   "id": "77190d46",
   "metadata": {},
   "outputs": [
    {
     "name": "stdout",
     "output_type": "stream",
     "text": [
      "\u001b[1m1/1\u001b[0m \u001b[32m━━━━━━━━━━━━━━━━━━━━\u001b[0m\u001b[37m\u001b[0m \u001b[1m0s\u001b[0m 59ms/step\n",
      "30033\n",
      "Index 30033 구매 확률: 0.3113\n",
      "------------------------------------------\n",
      "\u001b[1m1/1\u001b[0m \u001b[32m━━━━━━━━━━━━━━━━━━━━\u001b[0m\u001b[37m\u001b[0m \u001b[1m0s\u001b[0m 55ms/step\n",
      "9564\n",
      "Index 9564 구매 확률: 0.2456\n",
      "------------------------------------------\n",
      "\u001b[1m1/1\u001b[0m \u001b[32m━━━━━━━━━━━━━━━━━━━━\u001b[0m\u001b[37m\u001b[0m \u001b[1m0s\u001b[0m 46ms/step\n",
      "37938\n",
      "Index 37938 구매 확률: 0.2646\n",
      "------------------------------------------\n",
      "\u001b[1m1/1\u001b[0m \u001b[32m━━━━━━━━━━━━━━━━━━━━\u001b[0m\u001b[37m\u001b[0m \u001b[1m0s\u001b[0m 48ms/step\n",
      "18471\n",
      "Index 18471 구매 확률: 0.1179\n",
      "------------------------------------------\n",
      "\u001b[1m1/1\u001b[0m \u001b[32m━━━━━━━━━━━━━━━━━━━━\u001b[0m\u001b[37m\u001b[0m \u001b[1m0s\u001b[0m 55ms/step\n",
      "17924\n",
      "Index 17924 구매 확률: 0.0370\n",
      "------------------------------------------\n"
     ]
    }
   ],
   "source": [
    "for i  in randlist:\n",
    "    prob = predict_session(model, log_dict.iloc[i]['event'])\n",
    "    print(i)\n",
    "    print(f\"Index {i} 구매 확률: {prob:.4f}\")\n",
    "    print(\"-\"*42)"
   ]
  },
  {
   "cell_type": "code",
   "execution_count": 65,
   "id": "4fbfed05",
   "metadata": {},
   "outputs": [
    {
     "name": "stdout",
     "output_type": "stream",
     "text": [
      "[{'event_type': np.int64(2), 'product_id': 21407370, 'category_code': 'electronics.clocks', 'general_category': 'electronics', 'brand': 'casio', 'price': 162.17, 'relative_price': 0.642130271233419, 'time_since_start': 0.0, 'time_since_prev': 0}, {'event_type': np.int64(2), 'product_id': 21400403, 'category_code': 'electronics.clocks', 'general_category': 'electronics', 'brand': 'boccia', 'price': 87.52, 'relative_price': 0.34654523856662045, 'time_since_start': 312.0, 'time_since_prev': 312.0}]\n"
     ]
    }
   ],
   "source": [
    "print(log_dict.iloc[17924]['event'])"
   ]
  },
  {
   "cell_type": "code",
   "execution_count": null,
   "id": "43d995e7",
   "metadata": {},
   "outputs": [],
   "source": []
  }
 ],
 "metadata": {
  "kernelspec": {
   "display_name": "ecommerce",
   "language": "python",
   "name": "python3"
  },
  "language_info": {
   "codemirror_mode": {
    "name": "ipython",
    "version": 3
   },
   "file_extension": ".py",
   "mimetype": "text/x-python",
   "name": "python",
   "nbconvert_exporter": "python",
   "pygments_lexer": "ipython3",
   "version": "3.11.2"
  }
 },
 "nbformat": 4,
 "nbformat_minor": 5
}
