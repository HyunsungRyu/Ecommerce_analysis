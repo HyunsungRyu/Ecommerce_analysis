{
 "cells": [
  {
   "cell_type": "code",
   "execution_count": 1,
   "id": "d4e33e1b",
   "metadata": {},
   "outputs": [],
   "source": [
    "import pandas as pd\n",
    "from IPython.display import display\n",
    "import datetime as dt\n",
    "import matplotlib.pyplot as plt\n",
    "import seaborn as sns\n",
    "import plotly.express as px\n",
    "from scipy.stats import mannwhitneyu\n",
    "import gc\n",
    "import numpy as np\n",
    "import ast"
   ]
  },
  {
   "cell_type": "code",
   "execution_count": 42,
   "id": "2c09ef59",
   "metadata": {},
   "outputs": [],
   "source": [
    "# # df1 = pd.read_csv(\"c:\\\\data\\\\e-commerce\\\\2019-Oct.csv\", usecols=['event_time', 'event_type', 'product_id', 'brand', 'category_code', 'price', 'user_id', 'user_session'])\n",
    "# df = pd.read_csv(\"c:\\\\data\\\\e-commerce\\\\2019-Nov.csv\", usecols=['event_time', 'event_type', 'product_id', 'brand', 'category_code', 'price', 'user_id', 'user_session'])\n",
    "# # df = pd.concat([df1, df2])\n",
    "# # del df1, df2\n",
    "# # gc.collect()\n",
    "# df.head(2)"
   ]
  },
  {
   "cell_type": "code",
   "execution_count": 43,
   "id": "9f84d687",
   "metadata": {},
   "outputs": [],
   "source": [
    "# display(df['brand'].nunique())\n",
    "# display(df['category_code'].nunique())"
   ]
  },
  {
   "cell_type": "code",
   "execution_count": 44,
   "id": "9571995b",
   "metadata": {},
   "outputs": [],
   "source": [
    "# display(df['category_code'].isnull().sum())\n",
    "# display(len(df))"
   ]
  },
  {
   "cell_type": "code",
   "execution_count": 45,
   "id": "e0c5be40",
   "metadata": {},
   "outputs": [],
   "source": [
    "# df['category_code'] = df['category_code'].astype('category')\n",
    "# df['category_code'] = df['category_code'].cat.add_categories('unknown.')\n",
    "# df['category_code'].fillna('unknown.', inplace=True)\n",
    "\n",
    "# df['general_category'] = df['category_code'].apply(lambda x: x.split('.')[0])\n",
    "# display(df.head(2))"
   ]
  },
  {
   "cell_type": "code",
   "execution_count": 46,
   "id": "16f9f12c",
   "metadata": {},
   "outputs": [],
   "source": [
    "# df['user_session'] = df['user_session'].astype('category').cat.codes\n",
    "# df.head()"
   ]
  },
  {
   "cell_type": "code",
   "execution_count": 47,
   "id": "84042593",
   "metadata": {},
   "outputs": [],
   "source": [
    "# # datetime 처리\n",
    "# df['event_time'] = pd.to_datetime(df['event_time'])\n",
    "# df['date'] = df['event_time'].dt.date\n",
    "\n",
    "# # 사용자별, 시간순 정렬\n",
    "# df = df.sort_values(['user_id', 'event_time'])\n",
    "\n",
    "# # 구매 발생 플래그\n",
    "# df['is_purchase'] = df['event_type'] == 'purchase'\n",
    "\n",
    "# # 하루 단위 기준 세션 초기화\n",
    "# df['daily_session'] = df['user_id'].astype(str) + '_' + df['date'].astype(str)\n",
    "\n",
    "# # 구매 발생 시 세션 쪼개기: 구매 이후는 새로운 세션으로\n",
    "# def split_on_purchase(group):\n",
    "#     session_id = []\n",
    "#     counter = 0\n",
    "#     for is_p in group['is_purchase']:\n",
    "#         session_id.append(counter)\n",
    "#         if is_p:\n",
    "#             counter += 1\n",
    "#     return session_id\n",
    "\n",
    "# # 사용자 + 날짜별로 쪼개서 세션 나누기\n",
    "# df['session_split_id'] = df.groupby(['user_id', 'date']).apply(split_on_purchase).explode().values\n",
    "\n",
    "# df['custom_session'] = (\n",
    "#     df['user_id'].astype(str) + '_' +\n",
    "#     df['date'].astype(str) + '_' +\n",
    "#     df['session_split_id'].astype(str)\n",
    "# )\n",
    "# df.head(2)"
   ]
  },
  {
   "cell_type": "code",
   "execution_count": 48,
   "id": "ad2052ab",
   "metadata": {},
   "outputs": [],
   "source": [
    "# df1.to_csv(\"c:\\\\data\\\\e-commerce\\\\custom_session.csv\", index=False) # event_time, event_type, product_id, category_code, brand, price, user_id, user_session, general_category, date, is_purchase, daily_session, session_split_id, custom_session\n",
    "# df2.to_csv(\"c:\\\\data\\\\e-commerce\\\\custom_session_2.csv\", index=False)"
   ]
  },
  {
   "cell_type": "code",
   "execution_count": 49,
   "id": "f8292c5d",
   "metadata": {},
   "outputs": [],
   "source": [
    "# df1 = pd.read_csv(\"c:\\\\data\\\\e-commerce\\\\custom_session.csv\", usecols=['event_time', 'event_type', 'product_id', 'category_code', 'brand', 'price', 'user_id', 'general_category', 'custom_session'])\n",
    "# df2 = pd.read_csv(\"c:\\\\data\\\\e-commerce\\\\custom_session_sample.csv\", usecols=['event_time', 'event_type', 'product_id', 'category_code', 'brand', 'price', 'user_id', 'general_category', 'custom_session'])\n",
    "# display(df1.head(2))\n",
    "# display(df2.head(2))"
   ]
  },
  {
   "cell_type": "code",
   "execution_count": 50,
   "id": "d7aaa783",
   "metadata": {},
   "outputs": [],
   "source": [
    "# real_final_custom_session = pd.concat([df1, df2])\n",
    "# len(real_final_custom_session)\n",
    "# real_final_custom_session.to_csv(\"c:\\\\data\\\\e-commerce\\\\real_final_custom_session.csv\", index=False)"
   ]
  },
  {
   "cell_type": "code",
   "execution_count": 51,
   "id": "82f037e3",
   "metadata": {},
   "outputs": [],
   "source": [
    "# custom_session = pd.read_csv(\"c:\\\\data\\\\e-commerce\\\\custom_session.csv\")\n",
    "# custom_session.head(2)"
   ]
  },
  {
   "cell_type": "code",
   "execution_count": 52,
   "id": "82cc74db",
   "metadata": {},
   "outputs": [],
   "source": [
    "# buy_sessions = custom_session[custom_session['event_type'] == 'purchase']['custom_session'].unique()\n",
    "\n",
    "# buy_log = custom_session[custom_session['custom_session'].isin(buy_sessions)]\n",
    "# not_buy_log = custom_session[~custom_session['custom_session'].isin(buy_sessions)]\n",
    "# custom_session['buy'] = custom_session['custom_session'].isin(buy_log['custom_session']).astype(int)\n",
    "# custom_session.head(2)"
   ]
  },
  {
   "cell_type": "code",
   "execution_count": 53,
   "id": "e669d470",
   "metadata": {},
   "outputs": [],
   "source": [
    "# custom_session = pd.read_csv(\"C:\\\\Users\\\\User\\\\Downloads\\\\custom_session_sample_oct_nov.csv\") # sampled 0 + all 1 of Oct N Nov\n",
    "# custom_session.head(2)"
   ]
  },
  {
   "cell_type": "code",
   "execution_count": 54,
   "id": "c4f01c73",
   "metadata": {},
   "outputs": [],
   "source": [
    "# median_price_category = custom_session.groupby('general_category')['price'].median().to_dict()\n",
    "# custom_session['relative_price'] = custom_session['price'] / custom_session['general_category'].map(median_price_category)\n",
    "# custom_session.head(2)"
   ]
  },
  {
   "cell_type": "code",
   "execution_count": 55,
   "id": "f08d97d5",
   "metadata": {},
   "outputs": [],
   "source": [
    "# del median_price_category\n",
    "# gc.collect()"
   ]
  },
  {
   "cell_type": "code",
   "execution_count": 56,
   "id": "5505040a",
   "metadata": {},
   "outputs": [],
   "source": [
    "# custom_session['custom_session'] = custom_session['custom_session'].astype('category').cat.codes\n",
    "# custom_session.head(2)"
   ]
  },
  {
   "cell_type": "code",
   "execution_count": 57,
   "id": "129d3263",
   "metadata": {},
   "outputs": [],
   "source": [
    "# def log_dictionary(df):\n",
    "#     df = df.sort_values(['user_id', 'event_time'])\n",
    "#     df['event_time'] = pd.to_datetime(df['event_time'])\n",
    "\n",
    "#     session_data = []\n",
    "\n",
    "#     for session, group in df.groupby('custom_session'):\n",
    "#         group = group.sort_values('event_time')\n",
    "\n",
    "#         times = group['event_time'].tolist()\n",
    "#         time_since_start = [(t - times[0]).total_seconds() for t in times]\n",
    "#         time_since_prev = [0] + [(times[i] - times[i-1]).total_seconds() for i in range(1, len(times))]\n",
    "\n",
    "#         events = []\n",
    "#         for _, row in group.iterrows():\n",
    "#             if row['event_type'] == 'purchase':\n",
    "#                 continue  # 구매 제외\n",
    "            \n",
    "#             events.append({\n",
    "#                 \"event_type\": row[\"event_type\"],\n",
    "#                 \"product_id\": row[\"product_id\"],\n",
    "#                 \"category_code\": row[\"category_code\"] if pd.notna(row[\"category_code\"]) else \"unknown.\",\n",
    "#                 \"general_category\": row[\"general_category\"] if pd.notna(row[\"general_category\"]) else \"unknown\",\n",
    "#                 \"brand\": row[\"brand\"] if pd.notna(row[\"brand\"]) else \"unknown\",\n",
    "#                 \"price\": row[\"price\"],\n",
    "#                 \"relative_price\": row[\"relative_price\"],\n",
    "#                 \"time_since_start\": time_since_start[len(events)],\n",
    "#                 \"time_since_prev\": time_since_prev[len(events)]\n",
    "#             })\n",
    "\n",
    "#         session_data.append({\n",
    "#             \"session\": session,\n",
    "#             \"event\": events,\n",
    "#             \"buy\": int(group[\"buy\"].max())\n",
    "#         })\n",
    "\n",
    "#     return pd.DataFrame(session_data)"
   ]
  },
  {
   "cell_type": "code",
   "execution_count": 58,
   "id": "eaecb10d",
   "metadata": {},
   "outputs": [],
   "source": [
    "# log_dict = log_dictionary(custom_session) # 80m\n",
    "# log_dict.to_csv(\"C:\\\\Users\\\\User\\\\Downloads\\\\custom_session_sample_oct_nov_log_dict.csv\", index=False)"
   ]
  },
  {
   "cell_type": "code",
   "execution_count": 59,
   "id": "81e999fb",
   "metadata": {},
   "outputs": [],
   "source": [
    "\n",
    "# log_dict = pd.read_csv(\"C:\\\\Users\\\\User\\\\Downloads\\\\custom_session_sample_oct_nov_log_dict.csv\")\n",
    "# log_dict[\"event\"] = log_dict[\"event\"].apply(ast.literal_eval)\n",
    "# log_dict.head(2)"
   ]
  },
  {
   "cell_type": "code",
   "execution_count": 60,
   "id": "7e4ef9c9",
   "metadata": {},
   "outputs": [],
   "source": [
    "# # pd.set_option(\"display.max_colwidth\", None)\n",
    "# # pd.set_option(\"display.max_rows\", None)\n",
    "# # pd.set_option(\"display.max_columns\", None) \n",
    "\n",
    "# pd.reset_option(\"display.max_colwidth\")\n",
    "# pd.reset_option(\"display.max_rows\")\n",
    "# pd.reset_option(\"display.max_columns\")"
   ]
  },
  {
   "cell_type": "code",
   "execution_count": 61,
   "id": "fefccfd1",
   "metadata": {},
   "outputs": [],
   "source": [
    "# def category_code(events):\n",
    "#     for event in events:\n",
    "#         if event['category_code'] == 'unknown.':\n",
    "#             event['category_code'] = 'unknown'\n",
    "#     return events\n",
    "# log_dict['event'] = log_dict['event'].apply(category_code)"
   ]
  },
  {
   "cell_type": "code",
   "execution_count": 62,
   "id": "5e2881ee",
   "metadata": {},
   "outputs": [],
   "source": [
    "# from sklearn.preprocessing import LabelEncoder\n",
    "# le_event = LabelEncoder()\n",
    "# unique_events = ['view', 'cart', 'purchase']\n",
    "# le_event.fit(unique_events)\n",
    "# # le_event.fit(custom_session['event_type'].unique())\n",
    "# le_event.classes_"
   ]
  },
  {
   "cell_type": "code",
   "execution_count": 63,
   "id": "7e1a41e3",
   "metadata": {},
   "outputs": [],
   "source": [
    "# del custom_session\n",
    "# gc.collect()"
   ]
  },
  {
   "cell_type": "code",
   "execution_count": 64,
   "id": "181b52c8",
   "metadata": {},
   "outputs": [],
   "source": [
    "# def encode_event_type(events):\n",
    "#     for event in events:\n",
    "#         event['event_type'] = le_event.transform([event['event_type']])[0]\n",
    "#     return events\n",
    "\n",
    "# log_dict['event'] = log_dict['event'].apply(encode_event_type)"
   ]
  },
  {
   "cell_type": "code",
   "execution_count": 65,
   "id": "5a439133",
   "metadata": {},
   "outputs": [],
   "source": [
    "# log_dict.head(2)"
   ]
  },
  {
   "cell_type": "code",
   "execution_count": 66,
   "id": "d2b53442",
   "metadata": {},
   "outputs": [],
   "source": [
    "# df = log_dict\n",
    "# del log_dict\n",
    "# gc.collect()"
   ]
  },
  {
   "cell_type": "code",
   "execution_count": 67,
   "id": "1683b745",
   "metadata": {},
   "outputs": [],
   "source": [
    "# df.to_csv(\"C:\\\\Users\\\\User\\\\Downloads\\\\custom_session_sample_oct_nov_log_dict_encoded.csv\", index=False)"
   ]
  },
  {
   "cell_type": "code",
   "execution_count": 68,
   "id": "f356c2a2",
   "metadata": {},
   "outputs": [
    {
     "data": {
      "text/html": [
       "<div>\n",
       "<style scoped>\n",
       "    .dataframe tbody tr th:only-of-type {\n",
       "        vertical-align: middle;\n",
       "    }\n",
       "\n",
       "    .dataframe tbody tr th {\n",
       "        vertical-align: top;\n",
       "    }\n",
       "\n",
       "    .dataframe thead th {\n",
       "        text-align: right;\n",
       "    }\n",
       "</style>\n",
       "<table border=\"1\" class=\"dataframe\">\n",
       "  <thead>\n",
       "    <tr style=\"text-align: right;\">\n",
       "      <th></th>\n",
       "      <th>session</th>\n",
       "      <th>event</th>\n",
       "      <th>buy</th>\n",
       "    </tr>\n",
       "  </thead>\n",
       "  <tbody>\n",
       "    <tr>\n",
       "      <th>0</th>\n",
       "      <td>47</td>\n",
       "      <td>[{'event_type': np.int64(2), 'product_id': 173...</td>\n",
       "      <td>1</td>\n",
       "    </tr>\n",
       "    <tr>\n",
       "      <th>1</th>\n",
       "      <td>222</td>\n",
       "      <td>[{'event_type': np.int64(2), 'product_id': 680...</td>\n",
       "      <td>1</td>\n",
       "    </tr>\n",
       "  </tbody>\n",
       "</table>\n",
       "</div>"
      ],
      "text/plain": [
       "   session                                              event  buy\n",
       "0       47  [{'event_type': np.int64(2), 'product_id': 173...    1\n",
       "1      222  [{'event_type': np.int64(2), 'product_id': 680...    1"
      ]
     },
     "execution_count": 68,
     "metadata": {},
     "output_type": "execute_result"
    }
   ],
   "source": [
    "# df = pd.read_csv(\"C:\\\\Users\\\\User\\\\Downloads\\\\custom_session_sample_oct_nov_log_dict_encoded.csv\")\n",
    "df = pd.read_csv(\"C:\\\\Users\\\\User\\\\Desktop\\\\RyuEcommerce\\\\e-commerce_analysis\\\\custom_session_sample_oct_nov_log_dict_encoded_sampled.csv\")\n",
    "df.head(2)"
   ]
  },
  {
   "cell_type": "code",
   "execution_count": 69,
   "id": "995fbdef",
   "metadata": {},
   "outputs": [],
   "source": [
    "df[\"event\"] = df[\"event\"].apply(eval)"
   ]
  },
  {
   "cell_type": "code",
   "execution_count": 70,
   "id": "5d3884ac",
   "metadata": {},
   "outputs": [
    {
     "name": "stdout",
     "output_type": "stream",
     "text": [
      "GPU Available: [PhysicalDevice(name='/physical_device:GPU:0', device_type='GPU')]\n"
     ]
    }
   ],
   "source": [
    "# 전체 파이프라인: 데이터 파싱 -> vocabs -> tf.data -> Transformer 모델 -> 학습\n",
    "import json\n",
    "import tensorflow as tf\n",
    "print(\"GPU Available:\", tf.config.list_physical_devices('GPU'))\n",
    "\n",
    "from sklearn.model_selection import train_test_split\n",
    "from sklearn.preprocessing import StandardScaler\n",
    "import warnings\n",
    "warnings.filterwarnings('ignore')\n",
    "import os"
   ]
  },
  {
   "cell_type": "code",
   "execution_count": 71,
   "id": "7fc72d28",
   "metadata": {},
   "outputs": [
    {
     "name": "stdout",
     "output_type": "stream",
     "text": [
      "n_sessions: 3319576\n",
      "example session events: [{'event_type': 2, 'product_id': 17301868, 'category_code': 'unknown', 'general_category': 'unknown', 'brand': 'sheba', 'price': 144.14, 'relative_price': 1.78922542204568, 'time_since_start': 0.0, 'time_since_prev': 0}, {'event_type': 2, 'product_id': 17300771, 'category_code': 'unknown', 'general_category': 'unknown', 'brand': 'bulgari', 'price': 57.72, 'relative_price': 0.7164846077457795, 'time_since_start': 66.0, 'time_since_prev': 66.0}, {'event_type': 2, 'product_id': 17300789, 'category_code': 'unknown', 'general_category': 'unknown', 'brand': 'bulgari', 'price': 55.79, 'relative_price': 0.6925273088381331, 'time_since_start': 81.0, 'time_since_prev': 15.0}, {'event_type': 2, 'product_id': 17301041, 'category_code': 'unknown', 'general_category': 'unknown', 'brand': 'shiseido', 'price': 93.5, 'relative_price': 1.160625620655412, 'time_since_start': 134.0, 'time_since_prev': 53.0}]\n"
     ]
    }
   ],
   "source": [
    "# 1) 파싱\n",
    "# columns = ['session', 'event', 'buy']\n",
    "# event 컬럼은 문자열화된 리스트(예: \"[{...}, {...}]\")\n",
    "# parse if string\n",
    "def parse_events(x):\n",
    "    if isinstance(x, str):\n",
    "        try:\n",
    "            return ast.literal_eval(x)\n",
    "        except Exception:\n",
    "            try:\n",
    "                return json.loads(x)\n",
    "            except Exception:\n",
    "                return []\n",
    "    elif isinstance(x, list):\n",
    "        return x\n",
    "    else:\n",
    "        return []\n",
    "\n",
    "df['events_parsed'] = df['event'].apply(parse_events)\n",
    "\n",
    "# quick inspect\n",
    "print(\"n_sessions:\", len(df))\n",
    "print(\"example session events:\", df['events_parsed'].iloc[0])"
   ]
  },
  {
   "cell_type": "code",
   "execution_count": 72,
   "id": "fbac1f1c",
   "metadata": {},
   "outputs": [],
   "source": [
    "from sklearn.model_selection import train_test_split\n",
    "\n",
    "train_df, val_df = train_test_split(df, test_size=0.1, random_state=42, stratify=df['buy'])"
   ]
  },
  {
   "cell_type": "code",
   "execution_count": 73,
   "id": "643357c9",
   "metadata": {},
   "outputs": [
    {
     "name": "stdout",
     "output_type": "stream",
     "text": [
      "event_type unique: 2 top: [('2', 25381921), ('0', 2957419)]\n",
      "category_code unique: 130 top: [('unknown', 8606962), ('electronics.smartphone', 8236112), ('electronics.video.tv', 890927), ('electronics.audio.headphone', 830001), ('electronics.clocks', 809179)]\n",
      "general_category unique: 14 top: [('electronics', 11393043), ('unknown', 8606962), ('appliances', 3720935), ('computers', 1487998), ('apparel', 944203)]\n",
      "brand unique: 4067 top: [('samsung', 4108248), ('unknown', 3480237), ('apple', 3061547), ('xiaomi', 2037508), ('huawei', 700771)]\n",
      "event_type vocab_size: 3\n",
      "category_code vocab_size: 131\n",
      "general_category vocab_size: 15\n",
      "brand vocab_size: 3001\n"
     ]
    }
   ],
   "source": [
    "# 2) Extract features per event and build vocabs for categorical fields\n",
    "cat_fields = ['event_type', 'category_code', 'general_category', 'brand']\n",
    "num_fields = ['price', 'relative_price', 'time_since_start', 'time_since_prev']\n",
    "\n",
    "# Flatten to collect uniques\n",
    "from collections import Counter, defaultdict\n",
    "counters = {f: Counter() for f in cat_fields}\n",
    "sess_lengths = []\n",
    "\n",
    "for ev_list in train_df['events_parsed']: # train_df 기준의 vocab\n",
    "    sess_lengths.append(len(ev_list))\n",
    "    for ev in ev_list:\n",
    "        for f in cat_fields:\n",
    "            val = ev.get(f, 'unknown')\n",
    "            # unify missing / weird strings\n",
    "            if val is None or (isinstance(val, float) and np.isnan(val)):\n",
    "                val = 'unknown'\n",
    "            counters[f][str(val)] += 1\n",
    "\n",
    "# Show top uniques\n",
    "for f in cat_fields:\n",
    "    print(f, \"unique:\", len(counters[f]), \"top:\", counters[f].most_common(5))\n",
    "\n",
    "# decide vocab sizes (example)\n",
    "VOCAB_SIZES = {\n",
    "    'event_type': None,\n",
    "    'category_code': 200, \n",
    "    'general_category': None,\n",
    "    'brand': 3000\n",
    "}\n",
    "\n",
    "def build_vocab(counter, max_size=None, min_freq=1, add_oov=True):\n",
    "    items = [k for k, v in counter.items() if v >= min_freq]\n",
    "    items_sorted = sorted(items, key=lambda x: counter[x], reverse=True)\n",
    "    if max_size:\n",
    "        items_sorted = items_sorted[:max_size]\n",
    "    vocab = {v: i+1 for i, v in enumerate(items_sorted)}  # reserve 0 for PAD\n",
    "    if add_oov:\n",
    "        vocab['<OOV>'] = len(vocab) + 1\n",
    "    return vocab\n",
    "\n",
    "vocab = {}\n",
    "for f in cat_fields:\n",
    "    vocab[f] = build_vocab(counters[f], max_size=VOCAB_SIZES.get(f, None))\n",
    "    print(f, 'vocab_size:', len(vocab[f]))"
   ]
  },
  {
   "cell_type": "code",
   "execution_count": 74,
   "id": "de2c2462",
   "metadata": {},
   "outputs": [],
   "source": [
    "# session_lengths = [len(ev) for ev in df['events_parsed']]\n",
    "\n",
    "# plt.hist(session_lengths, bins=50)\n",
    "# plt.xlabel(\"Session length\")\n",
    "# plt.ylabel(\"Number of sessions\")\n",
    "# plt.title(\"Distribution of session lengths\")\n",
    "# plt.show()"
   ]
  },
  {
   "cell_type": "code",
   "execution_count": 75,
   "id": "0bb971cb",
   "metadata": {},
   "outputs": [],
   "source": [
    "# lengths = np.array(session_lengths)\n",
    "# print(np.percentile(lengths, [50, 90, 95,97,98,98.5,99, 100]))\n"
   ]
  },
  {
   "cell_type": "code",
   "execution_count": 76,
   "id": "b1c76e3a",
   "metadata": {},
   "outputs": [],
   "source": [
    "# 3) Feature encoding utilities\n",
    "MAX_SEQ_LEN = 32  # 128 -> 32 | percentile[50, 90, 95, 99, 100] = [  2.  11.  17.  40. 374.] \n",
    "def map_cat(value, vocab_map):\n",
    "    if value is None:\n",
    "        return vocab_map.get('<OOV>', 1)\n",
    "    s = str(value)\n",
    "    if s in vocab_map:\n",
    "        return vocab_map[s]\n",
    "    else:\n",
    "        return vocab_map.get('<OOV>', 1)\n",
    "\n",
    "# prepare numeric scaler: compute from flattened events\n",
    "all_nums_train = {f: [] for f in num_fields} # train_df 기준\n",
    "for ev_list in train_df['events_parsed']: # train_df 기준\n",
    "    for ev in ev_list:\n",
    "        for nf in num_fields:\n",
    "            val = ev.get(nf, 0.0)\n",
    "            if val is None:\n",
    "                val = 0.0\n",
    "            all_nums_train[nf].append(float(val)) # train_df 기준\n",
    "\n",
    "scalers = {}\n",
    "for nf in num_fields:\n",
    "    scaler = StandardScaler()\n",
    "    vals = np.array(all_nums_train[nf]).reshape(-1, 1) # train_df 기준\n",
    "    scaler.fit(vals)\n",
    "    scalers[nf] = scaler"
   ]
  },
  {
   "cell_type": "code",
   "execution_count": 77,
   "id": "a98c1f8a",
   "metadata": {},
   "outputs": [
    {
     "name": "stdout",
     "output_type": "stream",
     "text": [
      "{'event_type': (32,), 'category_code': (32,), 'general_category': (32,), 'brand': (32,)} (32, 4) 4.0\n"
     ]
    }
   ],
   "source": [
    "# 4) Convert each session to fixed tensors (padded/truncated)\n",
    "def session_to_features(ev_list):\n",
    "    seq_len = min(len(ev_list), MAX_SEQ_LEN)\n",
    "    cat_indices = {f: np.zeros(MAX_SEQ_LEN, dtype=np.int32) for f in cat_fields}\n",
    "    num_values = np.zeros((MAX_SEQ_LEN, len(num_fields)), dtype=np.float32)\n",
    "    mask = np.zeros((MAX_SEQ_LEN,), dtype=np.float32)\n",
    "    for i in range(seq_len):\n",
    "        ev = ev_list[-seq_len+i] # max_seq_len 초과하는 세션은 뒤에서 자르기(if 0~100, max_seq_len=64 -> 36~100) 앞부터 자르려면 ev = ev_list[i]\n",
    "        mask[i] = 1.0\n",
    "        for f in cat_fields:\n",
    "            cat_indices[f][i] = map_cat(ev.get(f, 'unknown'), vocab[f])\n",
    "        # numeric\n",
    "        for j, nf in enumerate(num_fields):\n",
    "            val = ev.get(nf, 0.0)\n",
    "            if val is None:\n",
    "                val = 0.0\n",
    "            # scale\n",
    "            scaled = scalers[nf].transform(np.array([[float(val)]]))[0,0]\n",
    "            num_values[i, j] = scaled\n",
    "    return cat_indices, num_values, mask\n",
    "\n",
    "# Example transform on first few sessions\n",
    "sample = df['events_parsed'].iloc[0]\n",
    "cat_idx, num_vals, mask = session_to_features(sample)\n",
    "print({k: v.shape for k, v in cat_idx.items()}, num_vals.shape, mask.sum())"
   ]
  },
  {
   "cell_type": "code",
   "execution_count": 78,
   "id": "6ee2ba76",
   "metadata": {},
   "outputs": [],
   "source": [
    "# 5) Build tf.data pipeline\n",
    "def gen():\n",
    "    for _, row in df.iterrows():\n",
    "        cat_idx, num_vals, mask = session_to_features(row['events_parsed'])\n",
    "        # combine categorical indices into a dict or stacked array\n",
    "        # We'll return a dict for clarity\n",
    "        features = {f: cat_idx[f] for f in cat_fields}\n",
    "        features['numeric'] = num_vals\n",
    "        features['mask'] = mask\n",
    "        label = np.array([row['buy']], dtype=np.float32)\n",
    "        yield features, label\n",
    "\n",
    "# define output signature for tf.data\n",
    "output_signature = (\n",
    "    {\n",
    "        **{f: tf.TensorSpec(shape=(MAX_SEQ_LEN,), dtype=tf.int32) for f in cat_fields},\n",
    "        'numeric': tf.TensorSpec(shape=(MAX_SEQ_LEN, len(num_fields)), dtype=tf.float32),\n",
    "        'mask': tf.TensorSpec(shape=(MAX_SEQ_LEN,), dtype=tf.float32)\n",
    "    },\n",
    "    tf.TensorSpec(shape=(1,), dtype=tf.float32)\n",
    ")\n",
    "\n",
    "BATCH_SIZE = 512\n",
    "dataset = tf.data.Dataset.from_generator(gen, output_signature=output_signature)\n",
    "dataset = dataset.shuffle(2048).batch(BATCH_SIZE).prefetch(tf.data.AUTOTUNE)\n",
    "\n",
    "def make_ds_from_df(df_sub):\n",
    "    def gen_sub():\n",
    "        for _, row in df_sub.iterrows():\n",
    "            cat_idx, num_vals, mask = session_to_features(row['events_parsed'])\n",
    "            features = {f: cat_idx[f] for f in cat_fields}\n",
    "            features['numeric'] = num_vals\n",
    "            features['mask'] = mask\n",
    "            label = np.array([row['buy']], dtype=np.float32)\n",
    "            yield features, label\n",
    "    return tf.data.Dataset.from_generator(gen_sub, output_signature=output_signature).batch(BATCH_SIZE).prefetch(tf.data.AUTOTUNE)\n",
    "\n",
    "train_ds = make_ds_from_df(train_df)\n",
    "val_ds = make_ds_from_df(val_df)"
   ]
  },
  {
   "cell_type": "code",
   "execution_count": 79,
   "id": "c2d40ecd",
   "metadata": {},
   "outputs": [
    {
     "name": "stdout",
     "output_type": "stream",
     "text": [
      "Model: \"model_1\"\n",
      "__________________________________________________________________________________________________\n",
      " Layer (type)                   Output Shape         Param #     Connected to                     \n",
      "==================================================================================================\n",
      " event_type (InputLayer)        [(None, 32)]         0           []                               \n",
      "                                                                                                  \n",
      " category_code (InputLayer)     [(None, 32)]         0           []                               \n",
      "                                                                                                  \n",
      " general_category (InputLayer)  [(None, 32)]         0           []                               \n",
      "                                                                                                  \n",
      " brand (InputLayer)             [(None, 32)]         0           []                               \n",
      "                                                                                                  \n",
      " numeric (InputLayer)           [(None, 32, 4)]      0           []                               \n",
      "                                                                                                  \n",
      " emb_event_type (Embedding)     (None, 32, 16)       64          ['event_type[0][0]']             \n",
      "                                                                                                  \n",
      " emb_category_code (Embedding)  (None, 32, 16)       2112        ['category_code[0][0]']          \n",
      "                                                                                                  \n",
      " emb_general_category (Embeddin  (None, 32, 16)      256         ['general_category[0][0]']       \n",
      " g)                                                                                               \n",
      "                                                                                                  \n",
      " emb_brand (Embedding)          (None, 32, 16)       48032       ['brand[0][0]']                  \n",
      "                                                                                                  \n",
      " dense_6 (Dense)                (None, 32, 16)       80          ['numeric[0][0]']                \n",
      "                                                                                                  \n",
      " add_1 (Add)                    (None, 32, 16)       0           ['emb_event_type[0][0]',         \n",
      "                                                                  'emb_category_code[0][0]',      \n",
      "                                                                  'emb_general_category[0][0]',   \n",
      "                                                                  'emb_brand[0][0]',              \n",
      "                                                                  'dense_6[0][0]']                \n",
      "                                                                                                  \n",
      " tf.__operators__.add_1 (TFOpLa  (None, 32, 16)      0           ['add_1[0][0]']                  \n",
      " mbda)                                                                                            \n",
      "                                                                                                  \n",
      " mask (InputLayer)              [(None, 32)]         0           []                               \n",
      "                                                                                                  \n",
      " transformer_encoder_block_2 (T  (None, 32, 16)      6496        ['tf.__operators__.add_1[0][0]', \n",
      " ransformerEncoderBlock)                                          'mask[0][0]']                   \n",
      "                                                                                                  \n",
      " transformer_encoder_block_3 (T  (None, 32, 16)      6496        ['transformer_encoder_block_2[0][\n",
      " ransformerEncoderBlock)                                         0]',                             \n",
      "                                                                  'mask[0][0]']                   \n",
      "                                                                                                  \n",
      " lambda_4 (Lambda)              (None, 32, 1)        0           ['mask[0][0]']                   \n",
      "                                                                                                  \n",
      " multiply_1 (Multiply)          (None, 32, 16)       0           ['transformer_encoder_block_3[0][\n",
      "                                                                 0]',                             \n",
      "                                                                  'lambda_4[0][0]']               \n",
      "                                                                                                  \n",
      " lambda_5 (Lambda)              (None, 16)           0           ['multiply_1[0][0]']             \n",
      "                                                                                                  \n",
      " lambda_6 (Lambda)              (None, 1)            0           ['lambda_4[0][0]']               \n",
      "                                                                                                  \n",
      " lambda_7 (Lambda)              (None, 16)           0           ['lambda_5[0][0]',               \n",
      "                                                                  'lambda_6[0][0]']               \n",
      "                                                                                                  \n",
      " dense_11 (Dense)               (None, 64)           1088        ['lambda_7[0][0]']               \n",
      "                                                                                                  \n",
      " dropout_9 (Dropout)            (None, 64)           0           ['dense_11[0][0]']               \n",
      "                                                                                                  \n",
      " buy_prob (Dense)               (None, 1)            65          ['dropout_9[0][0]']              \n",
      "                                                                                                  \n",
      "==================================================================================================\n",
      "Total params: 64,689\n",
      "Trainable params: 64,689\n",
      "Non-trainable params: 0\n",
      "__________________________________________________________________________________________________\n"
     ]
    }
   ],
   "source": [
    "# 6) Build Transformer-based model in Keras\n",
    "# helper: create embedding layers for each categorical feature\n",
    "EMBED_DIM = 16\n",
    "cat_emb_layers = {}\n",
    "for f in cat_fields:\n",
    "    vocab_size = len(vocab[f]) + 1  # plus pad maybe\n",
    "    cat_emb_layers[f] = tf.keras.layers.Embedding(input_dim=vocab_size, output_dim=EMBED_DIM, mask_zero=True, name=f'emb_{f}')\n",
    "\n",
    "# positional encoding (simple learned)\n",
    "pos_emb = tf.keras.layers.Embedding(input_dim=MAX_SEQ_LEN, output_dim=EMBED_DIM, name='pos_emb')\n",
    "\n",
    "class TransformerEncoderBlock(tf.keras.layers.Layer):\n",
    "    def __init__(self, dim, num_heads, mlp_dim, dropout=0.1, **kwargs): # add **kwargs for saving and loading model\n",
    "        super().__init__(**kwargs) # add **kwargs for saving and loading model\n",
    "\n",
    "        self.dim = dim\n",
    "        self.num_heads = num_heads\n",
    "        self.mlp_dim = mlp_dim\n",
    "        self.dropout = dropout\n",
    "        \n",
    "        self.mha = tf.keras.layers.MultiHeadAttention(num_heads=num_heads, key_dim=dim)\n",
    "        self.norm1 = tf.keras.layers.LayerNormalization(epsilon=1e-6)\n",
    "        self.dropout1 = tf.keras.layers.Dropout(dropout)\n",
    "        self.ffn = tf.keras.Sequential([\n",
    "            tf.keras.layers.Dense(mlp_dim, activation='relu'),\n",
    "            tf.keras.layers.Dense(dim),\n",
    "        ])\n",
    "        self.norm2 = tf.keras.layers.LayerNormalization(epsilon=1e-6)\n",
    "        self.dropout2 = tf.keras.layers.Dropout(dropout)\n",
    "\n",
    "    def call(self, x, mask=None, training=False):\n",
    "        # mask: [batch, seq_len] float mask -> convert to attention mask\n",
    "        attn_mask = None\n",
    "        if mask is not None:\n",
    "            # MultiHeadAttention takes boolean mask where True means keep (opposite behavior), or attention_mask with shape [batch, seq_len]?\n",
    "            # We'll create a 2D key mask: shape (batch, seq_len)\n",
    "            # Keras MultiHeadAttention supports attention_mask (boolean) shape [batch, seq_len]\n",
    "            attn_mask = tf.cast(mask[:, tf.newaxis, :], dtype=tf.bool)  # shape (batch,1,seq_len)\n",
    "            # attn_mask = ~attn_mask # keras | True -> (keep), False -> (mask)\n",
    "\n",
    "        attn_out = self.mha(x, x, attention_mask=attn_mask)\n",
    "        attn_out = self.dropout1(attn_out, training=training)\n",
    "        out1 = self.norm1(x + attn_out)\n",
    "        ff = self.ffn(out1)\n",
    "        ff = self.dropout2(ff, training=training)\n",
    "        out2 = self.norm2(out1 + ff)\n",
    "        return out2\n",
    "    \n",
    "    def get_config(self):\n",
    "        config = super().get_config()\n",
    "        config.update({\n",
    "            \"dim\": self.dim,\n",
    "            \"num_heads\": self.num_heads,\n",
    "            \"mlp_dim\": self.mlp_dim,\n",
    "            \"dropout\": self.dropout,\n",
    "        })\n",
    "        return config \n",
    "\n",
    "\n",
    "def build_model():\n",
    "    # inputs\n",
    "    inputs = {f: tf.keras.Input(shape=(MAX_SEQ_LEN,), dtype=tf.int32, name=f) for f in cat_fields}\n",
    "    inputs['numeric'] = tf.keras.Input(shape=(MAX_SEQ_LEN, len(num_fields)), dtype=tf.float32, name='numeric')\n",
    "    inputs['mask'] = tf.keras.Input(shape=(MAX_SEQ_LEN,), dtype=tf.float32, name='mask')\n",
    "\n",
    "    # embed categorical and sum embeddings (or concat)\n",
    "    emb_list = []\n",
    "    for f in cat_fields:\n",
    "        e = cat_emb_layers[f](inputs[f])  # (batch, seq, emb)\n",
    "        emb_list.append(e)\n",
    "        \n",
    "    # project numeric features to embedding space\n",
    "    numeric_proj = tf.keras.layers.Dense(EMBED_DIM)(inputs['numeric'])  # (batch, seq, emb)\n",
    "    emb_list.append(numeric_proj)\n",
    "\n",
    "    x = tf.keras.layers.Add()(emb_list)  # element-wise sum of embeddings\n",
    "    # add position embedding\n",
    "    positions = tf.range(start=0, limit=MAX_SEQ_LEN, delta=1)\n",
    "    pos_embeddings = pos_emb(positions)\n",
    "    x = x + pos_embeddings  # broadcast adds position to every batch\n",
    "\n",
    "    # apply mask (pass to encoder blocks)\n",
    "    mask = inputs['mask']\n",
    "\n",
    "    # stack Transformer encoder blocks\n",
    "    for _ in range(2):  # num encoder layers, tune as needed | 2 -> 4 x -> 3 o\n",
    "        x = TransformerEncoderBlock(dim=EMBED_DIM, num_heads=4, mlp_dim=EMBED_DIM*4)(x, mask=mask)\n",
    "\n",
    "    # pooling: use masked mean pooling\n",
    "    mask_expanded = tf.keras.layers.Lambda(lambda m: tf.expand_dims(m, axis=-1))(mask)  # (batch, seq, 1)\n",
    "    x_masked = tf.keras.layers.Multiply()([x, mask_expanded])\n",
    "    sum_x = tf.keras.layers.Lambda(lambda z: tf.reduce_sum(z, axis=1))(x_masked)  # (batch, emb)\n",
    "    lengths = tf.keras.layers.Lambda(lambda m: tf.reduce_sum(m, axis=1))(mask_expanded)  # (batch,1)\n",
    "    pooled = tf.keras.layers.Lambda(lambda z: z[0] / (z[1] + 1e-6))([sum_x, lengths])\n",
    "    \n",
    "    # classifier head\n",
    "    h = tf.keras.layers.Dense(64, activation='relu')(pooled)\n",
    "    h = tf.keras.layers.Dropout(0.3)(h)\n",
    "    out = tf.keras.layers.Dense(1, activation='sigmoid', name='buy_prob')(h)\n",
    "\n",
    "    model = tf.keras.Model(inputs=inputs, outputs=out)\n",
    "    return model\n",
    "\n",
    "model = build_model()\n",
    "model.compile(optimizer=tf.keras.optimizers.Adam(1e-4),\n",
    "              loss='binary_crossentropy',\n",
    "              metrics=[tf.keras.metrics.AUC(name='auc'), tf.keras.metrics.BinaryAccuracy(name='acc')])\n",
    "model.summary()"
   ]
  },
  {
   "cell_type": "code",
   "execution_count": 80,
   "id": "97993712",
   "metadata": {},
   "outputs": [
    {
     "name": "stdout",
     "output_type": "stream",
     "text": [
      "Epoch 1/10\n",
      "   1819/Unknown - 1218s 669ms/step - loss: 0.4743 - auc: 0.8514 - acc: 0.7728"
     ]
    },
    {
     "ename": "KeyboardInterrupt",
     "evalue": "",
     "output_type": "error",
     "traceback": [
      "\u001b[1;31m---------------------------------------------------------------------------\u001b[0m",
      "\u001b[1;31mKeyboardInterrupt\u001b[0m                         Traceback (most recent call last)",
      "Cell \u001b[1;32mIn[80], line 26\u001b[0m\n\u001b[0;32m     24\u001b[0m \u001b[38;5;66;03m# fit\u001b[39;00m\n\u001b[0;32m     25\u001b[0m epochs \u001b[38;5;241m=\u001b[39m \u001b[38;5;241m10\u001b[39m \u001b[38;5;66;03m# before setting : 40000/Unknoun 3315s |1 EPOCH = 1HOUR MAYBE\u001b[39;00m\n\u001b[1;32m---> 26\u001b[0m history \u001b[38;5;241m=\u001b[39m \u001b[43mmodel\u001b[49m\u001b[38;5;241;43m.\u001b[39;49m\u001b[43mfit\u001b[49m\u001b[43m(\u001b[49m\u001b[43mtrain_ds\u001b[49m\u001b[43m,\u001b[49m\u001b[43m \u001b[49m\u001b[43mvalidation_data\u001b[49m\u001b[38;5;241;43m=\u001b[39;49m\u001b[43mval_ds\u001b[49m\u001b[43m,\u001b[49m\u001b[43m \u001b[49m\u001b[43mepochs\u001b[49m\u001b[38;5;241;43m=\u001b[39;49m\u001b[43mepochs\u001b[49m\u001b[43m,\u001b[49m\u001b[43m \u001b[49m\u001b[43mclass_weight\u001b[49m\u001b[38;5;241;43m=\u001b[39;49m\u001b[43mclass_weight\u001b[49m\u001b[43m,\u001b[49m\u001b[43m \u001b[49m\u001b[43mcallbacks\u001b[49m\u001b[38;5;241;43m=\u001b[39;49m\u001b[43m[\u001b[49m\u001b[43mearly_stop\u001b[49m\u001b[43m,\u001b[49m\u001b[43mcheckpoint\u001b[49m\u001b[43m]\u001b[49m\u001b[43m)\u001b[49m\n",
      "File \u001b[1;32mc:\\Users\\User\\Desktop\\RyuEcommerce\\.venv\\lib\\site-packages\\keras\\utils\\traceback_utils.py:65\u001b[0m, in \u001b[0;36mfilter_traceback.<locals>.error_handler\u001b[1;34m(*args, **kwargs)\u001b[0m\n\u001b[0;32m     63\u001b[0m filtered_tb \u001b[38;5;241m=\u001b[39m \u001b[38;5;28;01mNone\u001b[39;00m\n\u001b[0;32m     64\u001b[0m \u001b[38;5;28;01mtry\u001b[39;00m:\n\u001b[1;32m---> 65\u001b[0m     \u001b[38;5;28;01mreturn\u001b[39;00m fn(\u001b[38;5;241m*\u001b[39margs, \u001b[38;5;241m*\u001b[39m\u001b[38;5;241m*\u001b[39mkwargs)\n\u001b[0;32m     66\u001b[0m \u001b[38;5;28;01mexcept\u001b[39;00m \u001b[38;5;167;01mException\u001b[39;00m \u001b[38;5;28;01mas\u001b[39;00m e:\n\u001b[0;32m     67\u001b[0m     filtered_tb \u001b[38;5;241m=\u001b[39m _process_traceback_frames(e\u001b[38;5;241m.\u001b[39m__traceback__)\n",
      "File \u001b[1;32mc:\\Users\\User\\Desktop\\RyuEcommerce\\.venv\\lib\\site-packages\\keras\\engine\\training.py:1564\u001b[0m, in \u001b[0;36mModel.fit\u001b[1;34m(self, x, y, batch_size, epochs, verbose, callbacks, validation_split, validation_data, shuffle, class_weight, sample_weight, initial_epoch, steps_per_epoch, validation_steps, validation_batch_size, validation_freq, max_queue_size, workers, use_multiprocessing)\u001b[0m\n\u001b[0;32m   1556\u001b[0m \u001b[38;5;28;01mwith\u001b[39;00m tf\u001b[38;5;241m.\u001b[39mprofiler\u001b[38;5;241m.\u001b[39mexperimental\u001b[38;5;241m.\u001b[39mTrace(\n\u001b[0;32m   1557\u001b[0m     \u001b[38;5;124m\"\u001b[39m\u001b[38;5;124mtrain\u001b[39m\u001b[38;5;124m\"\u001b[39m,\n\u001b[0;32m   1558\u001b[0m     epoch_num\u001b[38;5;241m=\u001b[39mepoch,\n\u001b[1;32m   (...)\u001b[0m\n\u001b[0;32m   1561\u001b[0m     _r\u001b[38;5;241m=\u001b[39m\u001b[38;5;241m1\u001b[39m,\n\u001b[0;32m   1562\u001b[0m ):\n\u001b[0;32m   1563\u001b[0m     callbacks\u001b[38;5;241m.\u001b[39mon_train_batch_begin(step)\n\u001b[1;32m-> 1564\u001b[0m     tmp_logs \u001b[38;5;241m=\u001b[39m \u001b[38;5;28;43mself\u001b[39;49m\u001b[38;5;241;43m.\u001b[39;49m\u001b[43mtrain_function\u001b[49m\u001b[43m(\u001b[49m\u001b[43miterator\u001b[49m\u001b[43m)\u001b[49m\n\u001b[0;32m   1565\u001b[0m     \u001b[38;5;28;01mif\u001b[39;00m data_handler\u001b[38;5;241m.\u001b[39mshould_sync:\n\u001b[0;32m   1566\u001b[0m         context\u001b[38;5;241m.\u001b[39masync_wait()\n",
      "File \u001b[1;32mc:\\Users\\User\\Desktop\\RyuEcommerce\\.venv\\lib\\site-packages\\tensorflow\\python\\util\\traceback_utils.py:150\u001b[0m, in \u001b[0;36mfilter_traceback.<locals>.error_handler\u001b[1;34m(*args, **kwargs)\u001b[0m\n\u001b[0;32m    148\u001b[0m filtered_tb \u001b[38;5;241m=\u001b[39m \u001b[38;5;28;01mNone\u001b[39;00m\n\u001b[0;32m    149\u001b[0m \u001b[38;5;28;01mtry\u001b[39;00m:\n\u001b[1;32m--> 150\u001b[0m   \u001b[38;5;28;01mreturn\u001b[39;00m fn(\u001b[38;5;241m*\u001b[39margs, \u001b[38;5;241m*\u001b[39m\u001b[38;5;241m*\u001b[39mkwargs)\n\u001b[0;32m    151\u001b[0m \u001b[38;5;28;01mexcept\u001b[39;00m \u001b[38;5;167;01mException\u001b[39;00m \u001b[38;5;28;01mas\u001b[39;00m e:\n\u001b[0;32m    152\u001b[0m   filtered_tb \u001b[38;5;241m=\u001b[39m _process_traceback_frames(e\u001b[38;5;241m.\u001b[39m__traceback__)\n",
      "File \u001b[1;32mc:\\Users\\User\\Desktop\\RyuEcommerce\\.venv\\lib\\site-packages\\tensorflow\\python\\eager\\def_function.py:915\u001b[0m, in \u001b[0;36mFunction.__call__\u001b[1;34m(self, *args, **kwds)\u001b[0m\n\u001b[0;32m    912\u001b[0m compiler \u001b[38;5;241m=\u001b[39m \u001b[38;5;124m\"\u001b[39m\u001b[38;5;124mxla\u001b[39m\u001b[38;5;124m\"\u001b[39m \u001b[38;5;28;01mif\u001b[39;00m \u001b[38;5;28mself\u001b[39m\u001b[38;5;241m.\u001b[39m_jit_compile \u001b[38;5;28;01melse\u001b[39;00m \u001b[38;5;124m\"\u001b[39m\u001b[38;5;124mnonXla\u001b[39m\u001b[38;5;124m\"\u001b[39m\n\u001b[0;32m    914\u001b[0m \u001b[38;5;28;01mwith\u001b[39;00m OptionalXlaContext(\u001b[38;5;28mself\u001b[39m\u001b[38;5;241m.\u001b[39m_jit_compile):\n\u001b[1;32m--> 915\u001b[0m   result \u001b[38;5;241m=\u001b[39m \u001b[38;5;28mself\u001b[39m\u001b[38;5;241m.\u001b[39m_call(\u001b[38;5;241m*\u001b[39margs, \u001b[38;5;241m*\u001b[39m\u001b[38;5;241m*\u001b[39mkwds)\n\u001b[0;32m    917\u001b[0m new_tracing_count \u001b[38;5;241m=\u001b[39m \u001b[38;5;28mself\u001b[39m\u001b[38;5;241m.\u001b[39mexperimental_get_tracing_count()\n\u001b[0;32m    918\u001b[0m without_tracing \u001b[38;5;241m=\u001b[39m (tracing_count \u001b[38;5;241m==\u001b[39m new_tracing_count)\n",
      "File \u001b[1;32mc:\\Users\\User\\Desktop\\RyuEcommerce\\.venv\\lib\\site-packages\\tensorflow\\python\\eager\\def_function.py:947\u001b[0m, in \u001b[0;36mFunction._call\u001b[1;34m(self, *args, **kwds)\u001b[0m\n\u001b[0;32m    944\u001b[0m   \u001b[38;5;28mself\u001b[39m\u001b[38;5;241m.\u001b[39m_lock\u001b[38;5;241m.\u001b[39mrelease()\n\u001b[0;32m    945\u001b[0m   \u001b[38;5;66;03m# In this case we have created variables on the first call, so we run the\u001b[39;00m\n\u001b[0;32m    946\u001b[0m   \u001b[38;5;66;03m# defunned version which is guaranteed to never create variables.\u001b[39;00m\n\u001b[1;32m--> 947\u001b[0m   \u001b[38;5;28;01mreturn\u001b[39;00m \u001b[38;5;28mself\u001b[39m\u001b[38;5;241m.\u001b[39m_stateless_fn(\u001b[38;5;241m*\u001b[39margs, \u001b[38;5;241m*\u001b[39m\u001b[38;5;241m*\u001b[39mkwds)  \u001b[38;5;66;03m# pylint: disable=not-callable\u001b[39;00m\n\u001b[0;32m    948\u001b[0m \u001b[38;5;28;01melif\u001b[39;00m \u001b[38;5;28mself\u001b[39m\u001b[38;5;241m.\u001b[39m_stateful_fn \u001b[38;5;129;01mis\u001b[39;00m \u001b[38;5;129;01mnot\u001b[39;00m \u001b[38;5;28;01mNone\u001b[39;00m:\n\u001b[0;32m    949\u001b[0m   \u001b[38;5;66;03m# Release the lock early so that multiple threads can perform the call\u001b[39;00m\n\u001b[0;32m    950\u001b[0m   \u001b[38;5;66;03m# in parallel.\u001b[39;00m\n\u001b[0;32m    951\u001b[0m   \u001b[38;5;28mself\u001b[39m\u001b[38;5;241m.\u001b[39m_lock\u001b[38;5;241m.\u001b[39mrelease()\n",
      "File \u001b[1;32mc:\\Users\\User\\Desktop\\RyuEcommerce\\.venv\\lib\\site-packages\\tensorflow\\python\\eager\\function.py:2496\u001b[0m, in \u001b[0;36mFunction.__call__\u001b[1;34m(self, *args, **kwargs)\u001b[0m\n\u001b[0;32m   2493\u001b[0m \u001b[38;5;28;01mwith\u001b[39;00m \u001b[38;5;28mself\u001b[39m\u001b[38;5;241m.\u001b[39m_lock:\n\u001b[0;32m   2494\u001b[0m   (graph_function,\n\u001b[0;32m   2495\u001b[0m    filtered_flat_args) \u001b[38;5;241m=\u001b[39m \u001b[38;5;28mself\u001b[39m\u001b[38;5;241m.\u001b[39m_maybe_define_function(args, kwargs)\n\u001b[1;32m-> 2496\u001b[0m \u001b[38;5;28;01mreturn\u001b[39;00m \u001b[43mgraph_function\u001b[49m\u001b[38;5;241;43m.\u001b[39;49m\u001b[43m_call_flat\u001b[49m\u001b[43m(\u001b[49m\n\u001b[0;32m   2497\u001b[0m \u001b[43m    \u001b[49m\u001b[43mfiltered_flat_args\u001b[49m\u001b[43m,\u001b[49m\u001b[43m \u001b[49m\u001b[43mcaptured_inputs\u001b[49m\u001b[38;5;241;43m=\u001b[39;49m\u001b[43mgraph_function\u001b[49m\u001b[38;5;241;43m.\u001b[39;49m\u001b[43mcaptured_inputs\u001b[49m\u001b[43m)\u001b[49m\n",
      "File \u001b[1;32mc:\\Users\\User\\Desktop\\RyuEcommerce\\.venv\\lib\\site-packages\\tensorflow\\python\\eager\\function.py:1862\u001b[0m, in \u001b[0;36mConcreteFunction._call_flat\u001b[1;34m(self, args, captured_inputs, cancellation_manager)\u001b[0m\n\u001b[0;32m   1858\u001b[0m possible_gradient_type \u001b[38;5;241m=\u001b[39m gradients_util\u001b[38;5;241m.\u001b[39mPossibleTapeGradientTypes(args)\n\u001b[0;32m   1859\u001b[0m \u001b[38;5;28;01mif\u001b[39;00m (possible_gradient_type \u001b[38;5;241m==\u001b[39m gradients_util\u001b[38;5;241m.\u001b[39mPOSSIBLE_GRADIENT_TYPES_NONE\n\u001b[0;32m   1860\u001b[0m     \u001b[38;5;129;01mand\u001b[39;00m executing_eagerly):\n\u001b[0;32m   1861\u001b[0m   \u001b[38;5;66;03m# No tape is watching; skip to running the function.\u001b[39;00m\n\u001b[1;32m-> 1862\u001b[0m   \u001b[38;5;28;01mreturn\u001b[39;00m \u001b[38;5;28mself\u001b[39m\u001b[38;5;241m.\u001b[39m_build_call_outputs(\u001b[38;5;28;43mself\u001b[39;49m\u001b[38;5;241;43m.\u001b[39;49m\u001b[43m_inference_function\u001b[49m\u001b[38;5;241;43m.\u001b[39;49m\u001b[43mcall\u001b[49m\u001b[43m(\u001b[49m\n\u001b[0;32m   1863\u001b[0m \u001b[43m      \u001b[49m\u001b[43mctx\u001b[49m\u001b[43m,\u001b[49m\u001b[43m \u001b[49m\u001b[43margs\u001b[49m\u001b[43m,\u001b[49m\u001b[43m \u001b[49m\u001b[43mcancellation_manager\u001b[49m\u001b[38;5;241;43m=\u001b[39;49m\u001b[43mcancellation_manager\u001b[49m\u001b[43m)\u001b[49m)\n\u001b[0;32m   1864\u001b[0m forward_backward \u001b[38;5;241m=\u001b[39m \u001b[38;5;28mself\u001b[39m\u001b[38;5;241m.\u001b[39m_select_forward_and_backward_functions(\n\u001b[0;32m   1865\u001b[0m     args,\n\u001b[0;32m   1866\u001b[0m     possible_gradient_type,\n\u001b[0;32m   1867\u001b[0m     executing_eagerly)\n\u001b[0;32m   1868\u001b[0m forward_function, args_with_tangents \u001b[38;5;241m=\u001b[39m forward_backward\u001b[38;5;241m.\u001b[39mforward()\n",
      "File \u001b[1;32mc:\\Users\\User\\Desktop\\RyuEcommerce\\.venv\\lib\\site-packages\\tensorflow\\python\\eager\\function.py:499\u001b[0m, in \u001b[0;36m_EagerDefinedFunction.call\u001b[1;34m(self, ctx, args, cancellation_manager)\u001b[0m\n\u001b[0;32m    497\u001b[0m \u001b[38;5;28;01mwith\u001b[39;00m _InterpolateFunctionError(\u001b[38;5;28mself\u001b[39m):\n\u001b[0;32m    498\u001b[0m   \u001b[38;5;28;01mif\u001b[39;00m cancellation_manager \u001b[38;5;129;01mis\u001b[39;00m \u001b[38;5;28;01mNone\u001b[39;00m:\n\u001b[1;32m--> 499\u001b[0m     outputs \u001b[38;5;241m=\u001b[39m \u001b[43mexecute\u001b[49m\u001b[38;5;241;43m.\u001b[39;49m\u001b[43mexecute\u001b[49m\u001b[43m(\u001b[49m\n\u001b[0;32m    500\u001b[0m \u001b[43m        \u001b[49m\u001b[38;5;28;43mstr\u001b[39;49m\u001b[43m(\u001b[49m\u001b[38;5;28;43mself\u001b[39;49m\u001b[38;5;241;43m.\u001b[39;49m\u001b[43msignature\u001b[49m\u001b[38;5;241;43m.\u001b[39;49m\u001b[43mname\u001b[49m\u001b[43m)\u001b[49m\u001b[43m,\u001b[49m\n\u001b[0;32m    501\u001b[0m \u001b[43m        \u001b[49m\u001b[43mnum_outputs\u001b[49m\u001b[38;5;241;43m=\u001b[39;49m\u001b[38;5;28;43mself\u001b[39;49m\u001b[38;5;241;43m.\u001b[39;49m\u001b[43m_num_outputs\u001b[49m\u001b[43m,\u001b[49m\n\u001b[0;32m    502\u001b[0m \u001b[43m        \u001b[49m\u001b[43minputs\u001b[49m\u001b[38;5;241;43m=\u001b[39;49m\u001b[43margs\u001b[49m\u001b[43m,\u001b[49m\n\u001b[0;32m    503\u001b[0m \u001b[43m        \u001b[49m\u001b[43mattrs\u001b[49m\u001b[38;5;241;43m=\u001b[39;49m\u001b[43mattrs\u001b[49m\u001b[43m,\u001b[49m\n\u001b[0;32m    504\u001b[0m \u001b[43m        \u001b[49m\u001b[43mctx\u001b[49m\u001b[38;5;241;43m=\u001b[39;49m\u001b[43mctx\u001b[49m\u001b[43m)\u001b[49m\n\u001b[0;32m    505\u001b[0m   \u001b[38;5;28;01melse\u001b[39;00m:\n\u001b[0;32m    506\u001b[0m     outputs \u001b[38;5;241m=\u001b[39m execute\u001b[38;5;241m.\u001b[39mexecute_with_cancellation(\n\u001b[0;32m    507\u001b[0m         \u001b[38;5;28mstr\u001b[39m(\u001b[38;5;28mself\u001b[39m\u001b[38;5;241m.\u001b[39msignature\u001b[38;5;241m.\u001b[39mname),\n\u001b[0;32m    508\u001b[0m         num_outputs\u001b[38;5;241m=\u001b[39m\u001b[38;5;28mself\u001b[39m\u001b[38;5;241m.\u001b[39m_num_outputs,\n\u001b[1;32m   (...)\u001b[0m\n\u001b[0;32m    511\u001b[0m         ctx\u001b[38;5;241m=\u001b[39mctx,\n\u001b[0;32m    512\u001b[0m         cancellation_manager\u001b[38;5;241m=\u001b[39mcancellation_manager)\n",
      "File \u001b[1;32mc:\\Users\\User\\Desktop\\RyuEcommerce\\.venv\\lib\\site-packages\\tensorflow\\python\\eager\\execute.py:54\u001b[0m, in \u001b[0;36mquick_execute\u001b[1;34m(op_name, num_outputs, inputs, attrs, ctx, name)\u001b[0m\n\u001b[0;32m     52\u001b[0m \u001b[38;5;28;01mtry\u001b[39;00m:\n\u001b[0;32m     53\u001b[0m   ctx\u001b[38;5;241m.\u001b[39mensure_initialized()\n\u001b[1;32m---> 54\u001b[0m   tensors \u001b[38;5;241m=\u001b[39m \u001b[43mpywrap_tfe\u001b[49m\u001b[38;5;241;43m.\u001b[39;49m\u001b[43mTFE_Py_Execute\u001b[49m\u001b[43m(\u001b[49m\u001b[43mctx\u001b[49m\u001b[38;5;241;43m.\u001b[39;49m\u001b[43m_handle\u001b[49m\u001b[43m,\u001b[49m\u001b[43m \u001b[49m\u001b[43mdevice_name\u001b[49m\u001b[43m,\u001b[49m\u001b[43m \u001b[49m\u001b[43mop_name\u001b[49m\u001b[43m,\u001b[49m\n\u001b[0;32m     55\u001b[0m \u001b[43m                                      \u001b[49m\u001b[43minputs\u001b[49m\u001b[43m,\u001b[49m\u001b[43m \u001b[49m\u001b[43mattrs\u001b[49m\u001b[43m,\u001b[49m\u001b[43m \u001b[49m\u001b[43mnum_outputs\u001b[49m\u001b[43m)\u001b[49m\n\u001b[0;32m     56\u001b[0m \u001b[38;5;28;01mexcept\u001b[39;00m core\u001b[38;5;241m.\u001b[39m_NotOkStatusException \u001b[38;5;28;01mas\u001b[39;00m e:\n\u001b[0;32m     57\u001b[0m   \u001b[38;5;28;01mif\u001b[39;00m name \u001b[38;5;129;01mis\u001b[39;00m \u001b[38;5;129;01mnot\u001b[39;00m \u001b[38;5;28;01mNone\u001b[39;00m:\n",
      "\u001b[1;31mKeyboardInterrupt\u001b[0m: "
     ]
    }
   ],
   "source": [
    "# 7) Train\n",
    "# Option: compute class weights if imbalanced\n",
    "from tensorflow.keras.callbacks import EarlyStopping, ModelCheckpoint\n",
    "\n",
    "labels = train_df['buy'].values # df -> train_df\n",
    "pos = labels.sum()\n",
    "neg = len(labels) - pos\n",
    "class_weight = {0: 1.0, 1: (neg / (pos + 1e-6))}  # simple balancing, 1e-6은 0으로 나누는 오류 방지용 아주 작은 수\n",
    "\n",
    "early_stop = EarlyStopping(\n",
    "    monitor='val_auc', # val_loss -> val_auc\n",
    "    patience=3, # 개선 없으면 3 epoch 후 중단\n",
    "    restore_best_weights=True\n",
    ")\n",
    "\n",
    "checkpoint = ModelCheckpoint(\n",
    "    'best_model.keras',  # best_model.h5 -> best_model.keras\n",
    "    # WARNING:absl:You are saving your model as an HDF5 file via `model.save()` or `keras.saving.save_model(model)`. This file format is considered legacy. We recommend using instead the native Keras format, e.g. `model.save('my_model.keras')` or `keras.saving.save_model(model, 'my_model.keras')`.\n",
    "    monitor='val_auc',\n",
    "    save_best_only=True,\n",
    "    mode='max'\n",
    ")\n",
    "\n",
    "# fit\n",
    "epochs = 10 # before setting : 40000/Unknoun 3315s |1 EPOCH = 1HOUR MAYBE\n",
    "history = model.fit(train_ds, validation_data=val_ds, epochs=epochs, class_weight=class_weight, callbacks=[early_stop,checkpoint])"
   ]
  },
  {
   "cell_type": "code",
   "execution_count": null,
   "id": "26d62e6e",
   "metadata": {},
   "outputs": [],
   "source": [
    "from tensorflow.keras.models import load_model\n",
    "\n",
    "# 반드시 custom_objects에 등록\n",
    "loaded_model = load_model(\n",
    "    \"best_model.keras\",\n",
    "    custom_objects={\"TransformerEncoderBlock\": TransformerEncoderBlock}\n",
    ")"
   ]
  },
  {
   "cell_type": "code",
   "execution_count": null,
   "id": "f31853ca",
   "metadata": {},
   "outputs": [
    {
     "ename": "NameError",
     "evalue": "name 'val_df' is not defined",
     "output_type": "error",
     "traceback": [
      "\u001b[31m---------------------------------------------------------------------------\u001b[39m",
      "\u001b[31mNameError\u001b[39m                                 Traceback (most recent call last)",
      "\u001b[36mCell\u001b[39m\u001b[36m \u001b[39m\u001b[32mIn[20]\u001b[39m\u001b[32m, line 4\u001b[39m\n\u001b[32m      1\u001b[39m \u001b[38;5;28;01mfrom\u001b[39;00m\u001b[38;5;250m \u001b[39m\u001b[34;01msklearn\u001b[39;00m\u001b[34;01m.\u001b[39;00m\u001b[34;01mmetrics\u001b[39;00m\u001b[38;5;250m \u001b[39m\u001b[38;5;28;01mimport\u001b[39;00m confusion_matrix, classification_report\n\u001b[32m      3\u001b[39m threshold = \u001b[32m0.6\u001b[39m\n\u001b[32m----> \u001b[39m\u001b[32m4\u001b[39m y_true = \u001b[43mval_df\u001b[49m[\u001b[33m'\u001b[39m\u001b[33mbuy\u001b[39m\u001b[33m'\u001b[39m].values\n\u001b[32m      5\u001b[39m y_pred = (model.predict(val_ds) > threshold).astype(\u001b[38;5;28mint\u001b[39m).flatten()\n\u001b[32m      7\u001b[39m \u001b[38;5;28mprint\u001b[39m(confusion_matrix(y_true, y_pred))\n",
      "\u001b[31mNameError\u001b[39m: name 'val_df' is not defined"
     ]
    }
   ],
   "source": [
    "from sklearn.metrics import confusion_matrix, classification_report\n",
    "\n",
    "threshold = 0.6\n",
    "y_true = val_df['buy'].values\n",
    "y_pred = (model.predict(val_ds) > threshold).astype(int).flatten()\n",
    "\n",
    "print(confusion_matrix(y_true, y_pred))\n",
    "print(classification_report(y_true, y_pred))"
   ]
  },
  {
   "cell_type": "code",
   "execution_count": null,
   "id": "106355db",
   "metadata": {},
   "outputs": [
    {
     "name": "stdout",
     "output_type": "stream",
     "text": [
      "\u001b[1m67/67\u001b[0m \u001b[32m━━━━━━━━━━━━━━━━━━━━\u001b[0m\u001b[37m\u001b[0m \u001b[1m17s\u001b[0m 254ms/step\n"
     ]
    },
    {
     "data": {
      "image/png": "[encoded data removed]",
      "text/plain": [
       "<Figure size 1000x600 with 1 Axes>"
      ]
     },
     "metadata": {},
     "output_type": "display_data"
    }
   ],
   "source": [
    "import matplotlib.pyplot as plt\n",
    "from sklearn.metrics import precision_recall_curve\n",
    "\n",
    "# 예측 확률\n",
    "y_probs = model.predict(val_ds)  # ← val_ds는 y_true 포함되어 있어야 함\n",
    "y_probs = y_probs.ravel()  # (n, 1) → (n,)\n",
    "\n",
    "# precision, recall, threshold 계산\n",
    "precision, recall, thresholds = precision_recall_curve(y_true, y_probs)\n",
    "\n",
    "# 그래프 그리기\n",
    "plt.figure(figsize=(10, 6))\n",
    "plt.plot(thresholds, precision[:-1], label='Precision', color='blue')\n",
    "plt.plot(thresholds, recall[:-1], label='Recall', color='green')\n",
    "plt.xlabel('Threshold')\n",
    "plt.ylabel('Score')\n",
    "plt.title('Precision and Recall vs Threshold')\n",
    "plt.legend()\n",
    "plt.grid()\n",
    "plt.show()"
   ]
  },
  {
   "cell_type": "code",
   "execution_count": null,
   "id": "d09353bc",
   "metadata": {},
   "outputs": [],
   "source": [
    "# 8) Evaluate and inference\n",
    "# example inference on raw session\n",
    "def predict_session(model, ev_list):\n",
    "    cat_idx, num_vals, mask = session_to_features(ev_list)\n",
    "    feed = {f: np.expand_dims(cat_idx[f], 0) for f in cat_fields}\n",
    "    feed['numeric'] = np.expand_dims(num_vals, 0)\n",
    "    feed['mask'] = np.expand_dims(mask, 0)\n",
    "    prob = model.predict(feed)[0,0]\n",
    "    return prob "
   ]
  },
  {
   "cell_type": "code",
   "execution_count": null,
   "id": "8aaaccf9",
   "metadata": {},
   "outputs": [
    {
     "name": "stdout",
     "output_type": "stream",
     "text": [
      "\u001b[1m1/1\u001b[0m \u001b[32m━━━━━━━━━━━━━━━━━━━━\u001b[0m\u001b[37m\u001b[0m \u001b[1m0s\u001b[0m 489ms/step\n",
      "구매 확률: 0.6079\n"
     ]
    }
   ],
   "source": [
    "example_session = [\n",
    "    {\n",
    "        \"event_type\": 2, \n",
    "        \"product_id\": 22200103, \n",
    "        \"category_code\": \"electronics.smartphone\",\n",
    "        \"general_category\": \"electronics\",\n",
    "        \"brand\": \"samsung\",\n",
    "        \"price\": 350.0,\n",
    "        \"relative_price\": 0.45,\n",
    "        \"time_since_start\": 0.0,\n",
    "        \"time_since_prev\": 0.0\n",
    "    },\n",
    "    {\n",
    "        \"event_type\": 2, \n",
    "        \"product_id\": 6902133, \n",
    "        \"category_code\": \"computers.notebook\",\n",
    "        \"general_category\": \"computers\",\n",
    "        \"brand\": \"apple\",\n",
    "        \"price\": 1200.0,\n",
    "        \"relative_price\": 0.9,\n",
    "        \"time_since_start\": 30.0,\n",
    "        \"time_since_prev\": 30.0\n",
    "    }\n",
    "]\n",
    "\n",
    "prob = predict_session(model, example_session)\n",
    "print(f\"구매 확률: {prob:.4f}\")\n"
   ]
  },
  {
   "cell_type": "code",
   "execution_count": null,
   "id": "9b6fa5aa",
   "metadata": {},
   "outputs": [
    {
     "name": "stdout",
     "output_type": "stream",
     "text": [
      "\u001b[1m1/1\u001b[0m \u001b[32m━━━━━━━━━━━━━━━━━━━━\u001b[0m\u001b[37m\u001b[0m \u001b[1m0s\u001b[0m 56ms/step\n",
      "구매 확률: 0.5644\n"
     ]
    }
   ],
   "source": [
    "example_session = [\n",
    "    {\n",
    "        \"event_type\": 2, \n",
    "        \"product_id\": 22200103, \n",
    "        \"category_code\": \"electronics.smartphone\",\n",
    "        \"general_category\": \"electronics\",\n",
    "        \"brand\": \"samsung\",\n",
    "        \"price\": 350.0,\n",
    "        \"relative_price\": 0.45,\n",
    "        \"time_since_start\": 0.0,\n",
    "        \"time_since_prev\": 0.0\n",
    "    },\n",
    "    {\n",
    "        \"event_type\": 2, \n",
    "        \"product_id\": 6902133, \n",
    "        \"category_code\": \"computers.notebook\",\n",
    "        \"general_category\": \"computers\",\n",
    "        \"brand\": \"apple\",\n",
    "        \"price\": 1200.0,\n",
    "        \"relative_price\": 0.9,\n",
    "        \"time_since_start\": 14.0,\n",
    "        \"time_since_prev\": 14.0\n",
    "    },\n",
    "    {\n",
    "        \"event_type\": 2, \n",
    "        \"product_id\": 22200103, \n",
    "        \"category_code\": \"electronics.smartphone\",\n",
    "        \"general_category\": \"electronics\",\n",
    "        \"brand\": \"samsung\",\n",
    "        \"price\": 350.0,\n",
    "        \"relative_price\": 0.45,\n",
    "        \"time_since_start\": 27.0,\n",
    "        \"time_since_prev\": 13.0\n",
    "    },\n",
    "    {\n",
    "        \"event_type\": 1, \n",
    "        \"product_id\": 22200103, \n",
    "        \"category_code\": \"electronics.smartphone\",\n",
    "        \"general_category\": \"electronics\",\n",
    "        \"brand\": \"samsung\",\n",
    "        \"price\": 350.0,\n",
    "        \"relative_price\": 0.45,\n",
    "        \"time_since_start\": 28.0,\n",
    "        \"time_since_prev\": 1.0\n",
    "    }\n",
    "]\n",
    "\n",
    "prob = predict_session(model, example_session)\n",
    "print(f\"구매 확률: {prob:.4f}\")"
   ]
  },
  {
   "cell_type": "code",
   "execution_count": null,
   "id": "2f43ed65",
   "metadata": {},
   "outputs": [
    {
     "name": "stdout",
     "output_type": "stream",
     "text": [
      "\u001b[1m1/1\u001b[0m \u001b[32m━━━━━━━━━━━━━━━━━━━━\u001b[0m\u001b[37m\u001b[0m \u001b[1m0s\u001b[0m 56ms/step\n",
      "구매 확률: 0.5509\n"
     ]
    }
   ],
   "source": [
    "example_session = [\n",
    "    {\n",
    "        \"event_type\": 2, \n",
    "        \"product_id\": 22200103, \n",
    "        \"category_code\": \"electronics.smartphone\",\n",
    "        \"general_category\": \"electronics\",\n",
    "        \"brand\": \"samsung\",\n",
    "        \"price\": 350.0,\n",
    "        \"relative_price\": 0.45,\n",
    "        \"time_since_start\": 0.0,\n",
    "        \"time_since_prev\": 0.0\n",
    "    },\n",
    "    {\n",
    "        \"event_type\": 2, \n",
    "        \"product_id\": 6902133, \n",
    "        \"category_code\": \"computers.notebook\",\n",
    "        \"general_category\": \"computers\",\n",
    "        \"brand\": \"apple\",\n",
    "        \"price\": 1200.0,\n",
    "        \"relative_price\": 0.9,\n",
    "        \"time_since_start\": 14.0,\n",
    "        \"time_since_prev\": 14.0\n",
    "    },\n",
    "    {\n",
    "        \"event_type\": 2, \n",
    "        \"product_id\": 22200103, \n",
    "        \"category_code\": \"electronics.smartphone\",\n",
    "        \"general_category\": \"electronics\",\n",
    "        \"brand\": \"samsung\",\n",
    "        \"price\": 350.0,\n",
    "        \"relative_price\": 0.45,\n",
    "        \"time_since_start\": 27.0,\n",
    "        \"time_since_prev\": 13.0\n",
    "    }\n",
    "]\n",
    "\n",
    "prob = predict_session(model, example_session)\n",
    "print(f\"구매 확률: {prob:.4f}\")\n"
   ]
  },
  {
   "cell_type": "code",
   "execution_count": null,
   "id": "522f59d9",
   "metadata": {},
   "outputs": [],
   "source": []
  },
  {
   "cell_type": "markdown",
   "id": "dadf7b24",
   "metadata": {},
   "source": [
    "## problems\n",
    "1. StandardScaler을 학습 전체에서 fit함. -> data leakage 가능성 | 해결 \n",
    "2. 모델 확장"
   ]
  },
  {
   "cell_type": "markdown",
   "id": "d633c78d",
   "metadata": {},
   "source": []
  }
 ],
 "metadata": {
  "kernelspec": {
   "display_name": ".venv",
   "language": "python",
   "name": "python3"
  },
  "language_info": {
   "codemirror_mode": {
    "name": "ipython",
    "version": 3
   },
   "file_extension": ".py",
   "mimetype": "text/x-python",
   "name": "python",
   "nbconvert_exporter": "python",
   "pygments_lexer": "ipython3",
   "version": "3.10.0"
  }
 },
 "nbformat": 4,
 "nbformat_minor": 5
}
