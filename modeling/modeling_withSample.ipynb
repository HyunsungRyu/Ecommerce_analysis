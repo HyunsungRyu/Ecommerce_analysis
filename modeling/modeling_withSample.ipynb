{
 "cells": [
  {
   "cell_type": "code",
   "execution_count": 1,
   "id": "de176770",
   "metadata": {},
   "outputs": [
    {
     "name": "stdout",
     "output_type": "stream",
     "text": [
      "GPU Available: [PhysicalDevice(name='/physical_device:GPU:0', device_type='GPU')]\n"
     ]
    }
   ],
   "source": [
    "import pandas as pd\n",
    "from IPython.display import display\n",
    "import datetime as dt\n",
    "import matplotlib.pyplot as plt\n",
    "import seaborn as sns\n",
    "import plotly.express as px\n",
    "from scipy.stats import mannwhitneyu\n",
    "import gc\n",
    "import numpy as np\n",
    "import ast\n",
    "import json\n",
    "import joblib\n",
    "import tensorflow as tf\n",
    "from collections import Counter\n",
    "from sklearn.preprocessing import StandardScaler\n",
    "from sklearn.model_selection import train_test_split\n",
    "import warnings\n",
    "warnings.filterwarnings('ignore')\n",
    "\n",
    "print(\"GPU Available:\", tf.config.list_physical_devices('GPU'))"
   ]
  },
  {
   "cell_type": "code",
   "execution_count": 2,
   "id": "91d6575d",
   "metadata": {},
   "outputs": [],
   "source": [
    "data_path = \"C:\\\\Users\\\\User\\\\Downloads\\\\\""
   ]
  },
  {
   "cell_type": "code",
   "execution_count": 3,
   "id": "7af06fc1",
   "metadata": {},
   "outputs": [
    {
     "data": {
      "text/plain": [
       "0"
      ]
     },
     "execution_count": 3,
     "metadata": {},
     "output_type": "execute_result"
    }
   ],
   "source": [
    "df1 = pd.read_csv(f\"{data_path}2019-Oct.csv\", usecols=['event_time', 'event_type', 'product_id', 'brand', 'category_code', 'price', 'user_id', 'user_session'])\n",
    "df2 = pd.read_csv(f\"{data_path}2019-Nov.csv\", usecols=['event_time', 'event_type', 'product_id', 'brand', 'category_code', 'price', 'user_id', 'user_session'])\n",
    "df = pd.concat([df1, df2])\n",
    "del df1, df2\n",
    "gc.collect()"
   ]
  },
  {
   "cell_type": "code",
   "execution_count": 4,
   "id": "d88ecb62",
   "metadata": {},
   "outputs": [],
   "source": [
    "df['category_code'] = df['category_code'].astype('category')\n",
    "df['category_code'] = df['category_code'].cat.add_categories('unknown.')\n",
    "df['category_code'].fillna('unknown.', inplace=True)\n",
    "\n",
    "df['general_category'] = df['category_code'].apply(lambda x: x.split('.')[0])"
   ]
  },
  {
   "cell_type": "code",
   "execution_count": 5,
   "id": "5089c9a3",
   "metadata": {},
   "outputs": [],
   "source": [
    "df['user_session'] = df['user_session'].astype('category').cat.codes"
   ]
  },
  {
   "cell_type": "code",
   "execution_count": 6,
   "id": "2b782293",
   "metadata": {},
   "outputs": [],
   "source": [
    "# datetime 처리\n",
    "df['event_time'] = pd.to_datetime(df['event_time'])\n",
    "df['date'] = df['event_time'].dt.date\n",
    "\n",
    "# 사용자별, 시간순 정렬\n",
    "df = df.sort_values(['user_id', 'event_time'])\n",
    "\n",
    "# 구매 발생 플래그\n",
    "df['is_purchase'] = df['event_type'] == 'purchase'\n",
    "\n",
    "# 하루 단위 기준 세션 초기화\n",
    "df['daily_session'] = df['user_id'].astype(str) + '_' + df['date'].astype(str)\n",
    "\n",
    "# 구매 발생 시 세션 쪼개기: 구매 이후는 새로운 세션으로\n",
    "def split_on_purchase(group):\n",
    "    session_id = []\n",
    "    counter = 0\n",
    "    for is_p in group['is_purchase']:\n",
    "        session_id.append(counter)\n",
    "        if is_p:\n",
    "            counter += 1\n",
    "    return session_id\n",
    "\n",
    "# 사용자 + 날짜별로 쪼개서 세션 나누기\n",
    "df['session_split_id'] = df.groupby(['user_id', 'date']).apply(split_on_purchase).explode().values\n",
    "\n",
    "df['custom_session'] = (\n",
    "    df['user_id'].astype(str) + '_' +\n",
    "    df['date'].astype(str) + '_' +\n",
    "    df['session_split_id'].astype(str)\n",
    ")"
   ]
  },
  {
   "cell_type": "code",
   "execution_count": 7,
   "id": "d868a7ca",
   "metadata": {},
   "outputs": [
    {
     "data": {
      "text/html": [
       "<div>\n",
       "<style scoped>\n",
       "    .dataframe tbody tr th:only-of-type {\n",
       "        vertical-align: middle;\n",
       "    }\n",
       "\n",
       "    .dataframe tbody tr th {\n",
       "        vertical-align: top;\n",
       "    }\n",
       "\n",
       "    .dataframe thead th {\n",
       "        text-align: right;\n",
       "    }\n",
       "</style>\n",
       "<table border=\"1\" class=\"dataframe\">\n",
       "  <thead>\n",
       "    <tr style=\"text-align: right;\">\n",
       "      <th></th>\n",
       "      <th>event_time</th>\n",
       "      <th>event_type</th>\n",
       "      <th>product_id</th>\n",
       "      <th>category_code</th>\n",
       "      <th>brand</th>\n",
       "      <th>price</th>\n",
       "      <th>user_id</th>\n",
       "      <th>general_category</th>\n",
       "      <th>date</th>\n",
       "      <th>custom_session</th>\n",
       "    </tr>\n",
       "  </thead>\n",
       "  <tbody>\n",
       "    <tr>\n",
       "      <th>8425249</th>\n",
       "      <td>2019-11-06 06:51:52+00:00</td>\n",
       "      <td>view</td>\n",
       "      <td>26300219</td>\n",
       "      <td>unknown.</td>\n",
       "      <td>sokolov</td>\n",
       "      <td>40.54</td>\n",
       "      <td>10300217</td>\n",
       "      <td>unknown</td>\n",
       "      <td>2019-11-06</td>\n",
       "      <td>10300217_2019-11-06_0</td>\n",
       "    </tr>\n",
       "    <tr>\n",
       "      <th>15378293</th>\n",
       "      <td>2019-11-10 02:08:39+00:00</td>\n",
       "      <td>view</td>\n",
       "      <td>13200917</td>\n",
       "      <td>furniture.bedroom.bed</td>\n",
       "      <td>NaN</td>\n",
       "      <td>514.81</td>\n",
       "      <td>29515875</td>\n",
       "      <td>furniture</td>\n",
       "      <td>2019-11-10</td>\n",
       "      <td>29515875_2019-11-10_0</td>\n",
       "    </tr>\n",
       "  </tbody>\n",
       "</table>\n",
       "</div>"
      ],
      "text/plain": [
       "                        event_time event_type  product_id  \\\n",
       "8425249  2019-11-06 06:51:52+00:00       view    26300219   \n",
       "15378293 2019-11-10 02:08:39+00:00       view    13200917   \n",
       "\n",
       "                  category_code    brand   price   user_id general_category  \\\n",
       "8425249                unknown.  sokolov   40.54  10300217          unknown   \n",
       "15378293  furniture.bedroom.bed      NaN  514.81  29515875        furniture   \n",
       "\n",
       "                date         custom_session  \n",
       "8425249   2019-11-06  10300217_2019-11-06_0  \n",
       "15378293  2019-11-10  29515875_2019-11-10_0  "
      ]
     },
     "execution_count": 7,
     "metadata": {},
     "output_type": "execute_result"
    }
   ],
   "source": [
    "# df_col : ['user_id', 'event_time', 'event_type', 'product_id', 'brand', 'category_code', 'price', 'user_session', 'is_purchase', 'daily_session', 'custom_session']\n",
    "df.drop(columns=['user_session', 'is_purchase', 'daily_session', 'session_split_id'], inplace=True)\n",
    "df.head(2)"
   ]
  },
  {
   "cell_type": "markdown",
   "id": "5451980b",
   "metadata": {},
   "source": [
    "### 0/1 sampling"
   ]
  },
  {
   "cell_type": "code",
   "execution_count": 8,
   "id": "4e384982",
   "metadata": {},
   "outputs": [],
   "source": [
    "buy_sessions = df[df['event_type'] == 'purchase']['custom_session'].unique()\n",
    "df['buy'] = df['custom_session'].isin(buy_sessions).astype(int)"
   ]
  },
  {
   "cell_type": "code",
   "execution_count": 9,
   "id": "79a8926e",
   "metadata": {},
   "outputs": [],
   "source": [
    "buy = df[df['buy'] == 1]\n",
    "df = df[df['buy'] == 0].sample(n=int(len(buy)), random_state=42)\n",
    "df = pd.concat([buy, df])"
   ]
  },
  {
   "cell_type": "code",
   "execution_count": 10,
   "id": "daf07bd7",
   "metadata": {},
   "outputs": [
    {
     "data": {
      "text/plain": [
       "16"
      ]
     },
     "execution_count": 10,
     "metadata": {},
     "output_type": "execute_result"
    }
   ],
   "source": [
    "del buy\n",
    "gc.collect()"
   ]
  },
  {
   "cell_type": "code",
   "execution_count": 11,
   "id": "e3385caa",
   "metadata": {},
   "outputs": [
    {
     "data": {
      "text/html": [
       "<div>\n",
       "<style scoped>\n",
       "    .dataframe tbody tr th:only-of-type {\n",
       "        vertical-align: middle;\n",
       "    }\n",
       "\n",
       "    .dataframe tbody tr th {\n",
       "        vertical-align: top;\n",
       "    }\n",
       "\n",
       "    .dataframe thead th {\n",
       "        text-align: right;\n",
       "    }\n",
       "</style>\n",
       "<table border=\"1\" class=\"dataframe\">\n",
       "  <thead>\n",
       "    <tr style=\"text-align: right;\">\n",
       "      <th></th>\n",
       "      <th>event_time</th>\n",
       "      <th>event_type</th>\n",
       "      <th>product_id</th>\n",
       "      <th>category_code</th>\n",
       "      <th>brand</th>\n",
       "      <th>price</th>\n",
       "      <th>user_id</th>\n",
       "      <th>general_category</th>\n",
       "      <th>date</th>\n",
       "      <th>custom_session</th>\n",
       "      <th>buy</th>\n",
       "      <th>relative_price</th>\n",
       "    </tr>\n",
       "  </thead>\n",
       "  <tbody>\n",
       "    <tr>\n",
       "      <th>17585804</th>\n",
       "      <td>2019-11-11 05:41:18+00:00</td>\n",
       "      <td>view</td>\n",
       "      <td>17301868</td>\n",
       "      <td>unknown.</td>\n",
       "      <td>sheba</td>\n",
       "      <td>144.14</td>\n",
       "      <td>138340325</td>\n",
       "      <td>unknown</td>\n",
       "      <td>2019-11-11</td>\n",
       "      <td>138340325_2019-11-11_0</td>\n",
       "      <td>1</td>\n",
       "      <td>1.867098</td>\n",
       "    </tr>\n",
       "    <tr>\n",
       "      <th>17587691</th>\n",
       "      <td>2019-11-11 05:42:24+00:00</td>\n",
       "      <td>view</td>\n",
       "      <td>17300771</td>\n",
       "      <td>unknown.</td>\n",
       "      <td>bulgari</td>\n",
       "      <td>57.72</td>\n",
       "      <td>138340325</td>\n",
       "      <td>unknown</td>\n",
       "      <td>2019-11-11</td>\n",
       "      <td>138340325_2019-11-11_0</td>\n",
       "      <td>1</td>\n",
       "      <td>0.747668</td>\n",
       "    </tr>\n",
       "  </tbody>\n",
       "</table>\n",
       "</div>"
      ],
      "text/plain": [
       "                        event_time event_type  product_id category_code  \\\n",
       "17585804 2019-11-11 05:41:18+00:00       view    17301868      unknown.   \n",
       "17587691 2019-11-11 05:42:24+00:00       view    17300771      unknown.   \n",
       "\n",
       "            brand   price    user_id general_category        date  \\\n",
       "17585804    sheba  144.14  138340325          unknown  2019-11-11   \n",
       "17587691  bulgari   57.72  138340325          unknown  2019-11-11   \n",
       "\n",
       "                  custom_session  buy  relative_price  \n",
       "17585804  138340325_2019-11-11_0    1        1.867098  \n",
       "17587691  138340325_2019-11-11_0    1        0.747668  "
      ]
     },
     "execution_count": 11,
     "metadata": {},
     "output_type": "execute_result"
    }
   ],
   "source": [
    "median_price_category = df.groupby('general_category')['price'].median().to_dict()\n",
    "df['relative_price'] = df['price'] / df['general_category'].map(median_price_category)\n",
    "df.head(2) "
   ]
  },
  {
   "cell_type": "code",
   "execution_count": 12,
   "id": "d43e5018",
   "metadata": {},
   "outputs": [
    {
     "data": {
      "text/plain": [
       "32"
      ]
     },
     "execution_count": 12,
     "metadata": {},
     "output_type": "execute_result"
    }
   ],
   "source": [
    "del median_price_category\n",
    "gc.collect()"
   ]
  },
  {
   "cell_type": "code",
   "execution_count": 13,
   "id": "f0e4de73",
   "metadata": {},
   "outputs": [],
   "source": [
    "df['custom_session'] = df['custom_session'].astype('category').cat.codes"
   ]
  },
  {
   "cell_type": "markdown",
   "id": "1003a3c4",
   "metadata": {},
   "source": [
    "### first save"
   ]
  },
  {
   "cell_type": "code",
   "execution_count": 14,
   "id": "cd162089",
   "metadata": {},
   "outputs": [],
   "source": [
    "df.to_csv(f\"{data_path}custom_session_sampled.csv\", index=False)"
   ]
  },
  {
   "cell_type": "code",
   "execution_count": 15,
   "id": "b1062e6f",
   "metadata": {},
   "outputs": [],
   "source": [
    "df = pd.read_csv(f\"{data_path}custom_session_sampled.csv\")"
   ]
  },
  {
   "cell_type": "markdown",
   "id": "9669a7af",
   "metadata": {},
   "source": [
    "### make log_dictionary"
   ]
  },
  {
   "cell_type": "code",
   "execution_count": 16,
   "id": "4965b39a",
   "metadata": {},
   "outputs": [],
   "source": [
    "def log_dictionary(df):\n",
    "    df = df.sort_values(['user_id', 'event_time'])\n",
    "    df['event_time'] = pd.to_datetime(df['event_time'])\n",
    "\n",
    "    session_data = []\n",
    "\n",
    "    for session, group in df.groupby('custom_session'):\n",
    "        group = group.sort_values('event_time')\n",
    "\n",
    "        times = group['event_time'].tolist()\n",
    "        time_since_start = [(t - times[0]).total_seconds() for t in times]\n",
    "        time_since_prev = [0] + [(times[i] - times[i-1]).total_seconds() for i in range(1, len(times))]\n",
    "\n",
    "        events = []\n",
    "        for _, row in group.iterrows():\n",
    "            if row['event_type'] == 'purchase':\n",
    "                continue  # 구매 제외\n",
    "            \n",
    "            events.append({\n",
    "                \"event_type\": row[\"event_type\"],\n",
    "                \"product_id\": row[\"product_id\"],\n",
    "                \"category_code\": row[\"category_code\"] if pd.notna(row[\"category_code\"]) else \"unknown.\",\n",
    "                \"general_category\": row[\"general_category\"] if pd.notna(row[\"general_category\"]) else \"unknown\",\n",
    "                \"brand\": row[\"brand\"] if pd.notna(row[\"brand\"]) else \"unknown\",\n",
    "                \"price\": row[\"price\"],\n",
    "                \"relative_price\": row[\"relative_price\"],\n",
    "                \"time_since_start\": time_since_start[len(events)],\n",
    "                \"time_since_prev\": time_since_prev[len(events)]\n",
    "            })\n",
    "\n",
    "        session_data.append({\n",
    "            \"session\": session,\n",
    "            \"event\": events,\n",
    "            \"buy\": int(group[\"buy\"].max())\n",
    "        })\n",
    "\n",
    "    return pd.DataFrame(session_data)\n",
    "\n",
    "df = log_dictionary(df)"
   ]
  },
  {
   "cell_type": "code",
   "execution_count": 17,
   "id": "8aa910dc",
   "metadata": {},
   "outputs": [],
   "source": [
    "def category_code(events):\n",
    "    for event in events:\n",
    "        if event['category_code'] == 'unknown.':\n",
    "            event['category_code'] = 'unknown'\n",
    "    return events\n",
    "\n",
    "df['event'] = df['event'].apply(category_code)"
   ]
  },
  {
   "cell_type": "code",
   "execution_count": 18,
   "id": "76cb46ad",
   "metadata": {},
   "outputs": [
    {
     "data": {
      "text/plain": [
       "array(['cart', 'purchase', 'view'], dtype='<U8')"
      ]
     },
     "execution_count": 18,
     "metadata": {},
     "output_type": "execute_result"
    }
   ],
   "source": [
    "from sklearn.preprocessing import LabelEncoder\n",
    "le_event = LabelEncoder()\n",
    "unique_events = ['view', 'cart', 'purchase']\n",
    "le_event.fit(unique_events)\n",
    "le_event.classes_"
   ]
  },
  {
   "cell_type": "code",
   "execution_count": 19,
   "id": "ace5957b",
   "metadata": {},
   "outputs": [],
   "source": [
    "def encode_event_type(events):\n",
    "    for event in events:\n",
    "        event['event_type'] = le_event.transform([event['event_type']])[0]\n",
    "    return events\n",
    "\n",
    "df['event'] = df['event'].apply(encode_event_type)"
   ]
  },
  {
   "cell_type": "markdown",
   "id": "a86e4309",
   "metadata": {},
   "source": [
    "### second save"
   ]
  },
  {
   "cell_type": "code",
   "execution_count": 20,
   "id": "59ef286f",
   "metadata": {},
   "outputs": [],
   "source": [
    "df.to_csv(f\"{data_path}custom_session_sample_oct_nov_log_dict_encoded_sampled.csv\", index=False)"
   ]
  },
  {
   "cell_type": "markdown",
   "id": "256188bc",
   "metadata": {},
   "source": [
    "### 전체 파이프라인: 데이터 파싱 -> vocabs -> tf.data -> Transformer 모델 -> 학습"
   ]
  },
  {
   "cell_type": "code",
   "execution_count": 21,
   "id": "a06210f7",
   "metadata": {},
   "outputs": [
    {
     "name": "stdout",
     "output_type": "stream",
     "text": [
      "n_sessions: 8342472\n",
      "example session events: [{'event_type': 2, 'product_id': 4700199, 'category_code': 'auto.accessories.videoregister', 'general_category': 'auto', 'brand': 'inspector', 'price': 175.0, 'relative_price': 1.443418013856813, 'time_since_start': 0.0, 'time_since_prev': 0}]\n"
     ]
    }
   ],
   "source": [
    "df = pd.read_csv(f\"{data_path}custom_session_sample_oct_nov_log_dict_encoded_sampled.csv\")\n",
    "df['event'] = df['event'].apply(eval)\n",
    "\n",
    "def parse_events(x):\n",
    "    if isinstance(x, str):\n",
    "        try:\n",
    "            return ast.literal_eval(x)\n",
    "        except Exception:\n",
    "            try:\n",
    "                return json.loads(x)\n",
    "            except Exception:\n",
    "                return []\n",
    "    elif isinstance(x, list):\n",
    "        return x\n",
    "    else:\n",
    "        return []\n",
    "\n",
    "df['events_parsed'] = df['event'].apply(parse_events)\n",
    "\n",
    "print(\"n_sessions:\", len(df))\n",
    "print(\"example session events:\", df['events_parsed'].iloc[0])\n"
   ]
  },
  {
   "cell_type": "code",
   "execution_count": 22,
   "id": "35120d35",
   "metadata": {},
   "outputs": [],
   "source": [
    "# 2) Split train/val stratified\n",
    "train_df, val_df = train_test_split(df, test_size=0.1, random_state=42, stratify=df['buy'])\n"
   ]
  },
  {
   "cell_type": "code",
   "execution_count": 23,
   "id": "435ad149",
   "metadata": {},
   "outputs": [
    {
     "name": "stdout",
     "output_type": "stream",
     "text": [
      "event_type vocab_size: 3\n",
      "category_code vocab_size: 131\n",
      "general_category vocab_size: 15\n",
      "brand vocab_size: 4140\n"
     ]
    }
   ],
   "source": [
    "# 3) Build vocabs on train_df\n",
    "cat_fields = ['event_type', 'category_code', 'general_category', 'brand']\n",
    "num_fields = ['price', 'relative_price', 'time_since_start', 'time_since_prev']\n",
    "VOCAB_SIZES = {\n",
    "    'event_type': None,\n",
    "    'category_code': 200,\n",
    "    'general_category': None,\n",
    "    'brand': 5000\n",
    "}\n",
    "\n",
    "counters = {f: Counter() for f in cat_fields}\n",
    "for ev_list in train_df['events_parsed']:\n",
    "    for ev in ev_list:\n",
    "        for f in cat_fields:\n",
    "            val = ev.get(f, 'unknown')\n",
    "            if val is None or (isinstance(val, float) and np.isnan(val)):\n",
    "                val = 'unknown'\n",
    "            counters[f][str(val)] += 1\n",
    "\n",
    "def build_vocab(counter, max_size=None, min_freq=1, add_oov=True):\n",
    "    items = [k for k,v in counter.items() if v >= min_freq]\n",
    "    items_sorted = sorted(items, key=lambda x: counter[x], reverse=True)\n",
    "    if max_size:\n",
    "        items_sorted = items_sorted[:max_size]\n",
    "    vocab = {v: i+1 for i, v in enumerate(items_sorted)}  # reserve 0 for PAD\n",
    "    if add_oov:\n",
    "        vocab['<OOV>'] = len(vocab) + 1\n",
    "    return vocab\n",
    "\n",
    "vocab = {}\n",
    "for f in cat_fields:\n",
    "    vocab[f] = build_vocab(counters[f], max_size=VOCAB_SIZES.get(f, None))\n",
    "    print(f, 'vocab_size:', len(vocab[f]))\n"
   ]
  },
  {
   "cell_type": "code",
   "execution_count": 24,
   "id": "152f751c",
   "metadata": {},
   "outputs": [],
   "source": [
    "# 4) fit scalers on train_df\n",
    "all_nums_train = {f: [] for f in num_fields}\n",
    "for ev_list in train_df['events_parsed']:\n",
    "    for ev in ev_list:\n",
    "        for nf in num_fields:\n",
    "            val = ev.get(nf, 0.0)\n",
    "            if val is None:\n",
    "                val = 0.0\n",
    "            all_nums_train[nf].append(float(val))\n",
    "\n",
    "scalers = {}\n",
    "for nf in num_fields:\n",
    "    scaler = StandardScaler()\n",
    "    vals = np.array(all_nums_train[nf]).reshape(-1,1)\n",
    "    scaler.fit(vals)\n",
    "    scalers[nf] = scaler\n"
   ]
  },
  {
   "cell_type": "code",
   "execution_count": 25,
   "id": "6567fa77",
   "metadata": {},
   "outputs": [],
   "source": [
    "# 5) session_to_features\n",
    "MAX_SEQ_LEN = 64\n",
    "\n",
    "def map_cat(value, vocab_map):\n",
    "    if value is None:\n",
    "        return vocab_map.get('<OOV>', 1)\n",
    "    s = str(value)\n",
    "    if s in vocab_map:\n",
    "        return vocab_map[s]\n",
    "    else:\n",
    "        return vocab_map.get('<OOV>', 1)\n",
    "\n",
    "def session_to_features(ev_list):\n",
    "    seq_len = min(len(ev_list), MAX_SEQ_LEN)\n",
    "    cat_indices = {f: np.zeros(MAX_SEQ_LEN, dtype=np.int32) for f in cat_fields}\n",
    "    num_values = np.zeros((MAX_SEQ_LEN, len(num_fields)), dtype=np.float32)\n",
    "    mask = np.zeros((MAX_SEQ_LEN,), dtype=np.float32)\n",
    "    for i in range(seq_len):\n",
    "        ev = ev_list[-seq_len + i]\n",
    "        mask[i] = 1.0\n",
    "        for f in cat_fields:\n",
    "            cat_indices[f][i] = map_cat(ev.get(f, 'unknown'), vocab[f])\n",
    "        for j, nf in enumerate(num_fields):\n",
    "            val = ev.get(nf, 0.0)\n",
    "            if val is None:\n",
    "                val = 0.0\n",
    "            scaled = scalers[nf].transform(np.array([[float(val)]]))[0,0]\n",
    "            num_values[i, j] = scaled\n",
    "    return cat_indices, num_values, mask\n"
   ]
  },
  {
   "cell_type": "code",
   "execution_count": 26,
   "id": "d16095e2",
   "metadata": {},
   "outputs": [
    {
     "name": "stdout",
     "output_type": "stream",
     "text": [
      "Start preprocessing 7508224 sessions...\n",
      "Saved preprocessed data to train_preprocessed.npz\n",
      "Start preprocessing 834248 sessions...\n",
      "Saved preprocessed data to val_preprocessed.npz\n"
     ]
    },
    {
     "data": {
      "text/plain": [
       "['scalers.pkl']"
      ]
     },
     "execution_count": 26,
     "metadata": {},
     "output_type": "execute_result"
    }
   ],
   "source": [
    "# 6) transform and save (.npz)\n",
    "def preprocess_and_save(df_input, filename):\n",
    "    all_cat = {f: [] for f in cat_fields}\n",
    "    all_num = []\n",
    "    all_mask = []\n",
    "    all_labels = []\n",
    "    print(f\"Start preprocessing {len(df_input)} sessions...\")\n",
    "    for i, row in df_input.iterrows():\n",
    "        cat_idx, num_vals, mask = session_to_features(row['events_parsed'])\n",
    "        for f in cat_fields:\n",
    "            all_cat[f].append(cat_idx[f])\n",
    "        all_num.append(num_vals)\n",
    "        all_mask.append(mask)\n",
    "        all_labels.append(row['buy'])\n",
    "\n",
    "    # to numpy\n",
    "    for f in cat_fields:\n",
    "        all_cat[f] = np.array(all_cat[f], dtype=np.int32)\n",
    "    all_num = np.array(all_num, dtype=np.float32)\n",
    "    all_mask = np.array(all_mask, dtype=np.float32)\n",
    "    all_labels = np.array(all_labels, dtype=np.float32)\n",
    "    np.savez_compressed(filename, **all_cat, numeric=all_num, mask=all_mask, labels=all_labels)\n",
    "    print(f\"Saved preprocessed data to {filename}\")\n",
    "\n",
    "preprocess_and_save(train_df, \"train_preprocessed.npz\")\n",
    "preprocess_and_save(val_df, \"val_preprocessed.npz\")\n",
    "\n",
    "# save vocab\n",
    "with open('vocab.json', 'w', encoding='utf-8') as f:\n",
    "    json.dump(vocab, f, ensure_ascii=False, indent=2)\n",
    "\n",
    "# save scaler\n",
    "joblib.dump(scalers, 'scalers.pkl')\n"
   ]
  },
  {
   "cell_type": "markdown",
   "id": "c0ce7102",
   "metadata": {},
   "source": [
    "# checkpoint"
   ]
  },
  {
   "cell_type": "code",
   "execution_count": 32,
   "id": "62519302",
   "metadata": {},
   "outputs": [
    {
     "name": "stdout",
     "output_type": "stream",
     "text": [
      "GPU Available: [PhysicalDevice(name='/physical_device:GPU:0', device_type='GPU')]\n"
     ]
    }
   ],
   "source": [
    "import pandas as pd\n",
    "from IPython.display import display\n",
    "import datetime as dt\n",
    "import matplotlib.pyplot as plt\n",
    "import seaborn as sns\n",
    "import plotly.express as px\n",
    "from scipy.stats import mannwhitneyu\n",
    "import gc\n",
    "import numpy as np\n",
    "import ast\n",
    "import json\n",
    "import joblib\n",
    "import tensorflow as tf\n",
    "from tensorflow.keras.callbacks import EarlyStopping, ModelCheckpoint\n",
    "from collections import Counter\n",
    "from sklearn.preprocessing import StandardScaler\n",
    "from sklearn.model_selection import train_test_split\n",
    "\n",
    "import warnings\n",
    "warnings.filterwarnings('ignore')\n",
    "\n",
    "print(\"GPU Available:\", tf.config.list_physical_devices('GPU'))"
   ]
  },
  {
   "cell_type": "code",
   "execution_count": 45,
   "id": "27fe4242",
   "metadata": {},
   "outputs": [],
   "source": [
    "# 7) Load preprocessed data and make tf.data.Dataset\n",
    "cat_fields = ['event_type', 'category_code', 'general_category', 'brand']\n",
    "num_fields = ['price', 'relative_price', 'time_since_start', 'time_since_prev']\n",
    "MAX_SEQ_LEN = 64\n",
    "\n",
    "# load vocab \n",
    "with open('vocab.json', 'r', encoding='utf-8') as f:\n",
    "    vocab = json.load(f)\n",
    "\n",
    "# load scaler\n",
    "scalers = joblib.load('scalers.pkl')\n"
   ]
  },
  {
   "cell_type": "code",
   "execution_count": 50,
   "id": "39f8ae3e",
   "metadata": {},
   "outputs": [],
   "source": [
    "def load_preprocessed_npz(filename):\n",
    "    data = np.load(filename)\n",
    "    features = {f: data[f] for f in cat_fields}\n",
    "    features['numeric'] = data['numeric']\n",
    "    features['mask'] = data['mask']\n",
    "    labels = data['labels']\n",
    "    return features, labels\n",
    "\n",
    "def make_tf_dataset(features, labels, batch_size=2048, shuffle=True):\n",
    "    def gen():\n",
    "        for i in range(len(labels)):\n",
    "            feat = {f: features[f][i] for f in cat_fields}\n",
    "            feat['numeric'] = features['numeric'][i]\n",
    "            feat['mask'] = features['mask'][i]\n",
    "            label = np.array([labels[i]], dtype=np.float32)\n",
    "            yield feat, label\n",
    "    output_signature = (\n",
    "        {**{f: tf.TensorSpec(shape=(MAX_SEQ_LEN,), dtype=tf.int32) for f in cat_fields},\n",
    "         'numeric': tf.TensorSpec(shape=(MAX_SEQ_LEN, len(num_fields)), dtype=tf.float32),\n",
    "         'mask': tf.TensorSpec(shape=(MAX_SEQ_LEN,), dtype=tf.float32)},\n",
    "        tf.TensorSpec(shape=(1,), dtype=tf.float32)\n",
    "    )\n",
    "    ds = tf.data.Dataset.from_generator(gen, output_signature=output_signature)\n",
    "    if shuffle:\n",
    "        ds = ds.shuffle(buffer_size=2048)\n",
    "    ds = ds.batch(batch_size).prefetch(tf.data.AUTOTUNE)\n",
    "    return ds\n",
    "\n",
    "train_features, train_labels = load_preprocessed_npz(\"train_preprocessed.npz\")\n",
    "val_features, val_labels = load_preprocessed_npz(\"val_preprocessed.npz\")\n",
    "\n",
    "train_ds = make_tf_dataset(train_features, train_labels, shuffle=True)\n",
    "val_ds = make_tf_dataset(val_features, val_labels, shuffle=False)"
   ]
  },
  {
   "cell_type": "code",
   "execution_count": 51,
   "id": "e70c626b",
   "metadata": {},
   "outputs": [
    {
     "name": "stdout",
     "output_type": "stream",
     "text": [
      "Model: \"model_5\"\n",
      "__________________________________________________________________________________________________\n",
      " Layer (type)                   Output Shape         Param #     Connected to                     \n",
      "==================================================================================================\n",
      " event_type (InputLayer)        [(None, 64)]         0           []                               \n",
      "                                                                                                  \n",
      " category_code (InputLayer)     [(None, 64)]         0           []                               \n",
      "                                                                                                  \n",
      " general_category (InputLayer)  [(None, 64)]         0           []                               \n",
      "                                                                                                  \n",
      " brand (InputLayer)             [(None, 64)]         0           []                               \n",
      "                                                                                                  \n",
      " numeric (InputLayer)           [(None, 64, 4)]      0           []                               \n",
      "                                                                                                  \n",
      " emb_event_type (Embedding)     (None, 64, 64)       256         ['event_type[0][0]']             \n",
      "                                                                                                  \n",
      " emb_category_code (Embedding)  (None, 64, 64)       8448        ['category_code[0][0]']          \n",
      "                                                                                                  \n",
      " emb_general_category (Embeddin  (None, 64, 64)      1024        ['general_category[0][0]']       \n",
      " g)                                                                                               \n",
      "                                                                                                  \n",
      " emb_brand (Embedding)          (None, 64, 64)       265024      ['brand[0][0]']                  \n",
      "                                                                                                  \n",
      " dense_40 (Dense)               (None, 64, 64)       320         ['numeric[0][0]']                \n",
      "                                                                                                  \n",
      " add_5 (Add)                    (None, 64, 64)       0           ['emb_event_type[0][0]',         \n",
      "                                                                  'emb_category_code[0][0]',      \n",
      "                                                                  'emb_general_category[0][0]',   \n",
      "                                                                  'emb_brand[0][0]',              \n",
      "                                                                  'dense_40[0][0]']               \n",
      "                                                                                                  \n",
      " tf.__operators__.add_10 (TFOpL  (None, 64, 64)      0           ['add_5[0][0]']                  \n",
      " ambda)                                                                                           \n",
      "                                                                                                  \n",
      " mask (InputLayer)              [(None, 64)]         0           []                               \n",
      "                                                                                                  \n",
      " transformer_encoder_block_15 (  (None, 64, 64)      99712       ['tf.__operators__.add_10[0][0]',\n",
      " TransformerEncoderBlock)                                         'mask[0][0]']                   \n",
      "                                                                                                  \n",
      " transformer_encoder_block_16 (  (None, 64, 64)      99712       ['transformer_encoder_block_15[0]\n",
      " TransformerEncoderBlock)                                        [0]',                            \n",
      "                                                                  'mask[0][0]']                   \n",
      "                                                                                                  \n",
      " transformer_encoder_block_17 (  (None, 64, 64)      99712       ['transformer_encoder_block_16[0]\n",
      " TransformerEncoderBlock)                                        [0]',                            \n",
      "                                                                  'mask[0][0]']                   \n",
      "                                                                                                  \n",
      " tf.expand_dims_5 (TFOpLambda)  (None, 64, 1)        0           ['mask[0][0]']                   \n",
      "                                                                                                  \n",
      " tf.math.multiply_5 (TFOpLambda  (None, 64, 64)      0           ['transformer_encoder_block_17[0]\n",
      " )                                                               [0]',                            \n",
      "                                                                  'tf.expand_dims_5[0][0]']       \n",
      "                                                                                                  \n",
      " tf.math.reduce_sum_11 (TFOpLam  (None, 1)           0           ['tf.expand_dims_5[0][0]']       \n",
      " bda)                                                                                             \n",
      "                                                                                                  \n",
      " tf.math.reduce_sum_10 (TFOpLam  (None, 64)          0           ['tf.math.multiply_5[0][0]']     \n",
      " bda)                                                                                             \n",
      "                                                                                                  \n",
      " tf.__operators__.add_11 (TFOpL  (None, 1)           0           ['tf.math.reduce_sum_11[0][0]']  \n",
      " ambda)                                                                                           \n",
      "                                                                                                  \n",
      " tf.math.truediv_5 (TFOpLambda)  (None, 64)          0           ['tf.math.reduce_sum_10[0][0]',  \n",
      "                                                                  'tf.__operators__.add_11[0][0]']\n",
      "                                                                                                  \n",
      " dense_47 (Dense)               (None, 64)           4160        ['tf.math.truediv_5[0][0]']      \n",
      "                                                                                                  \n",
      " dropout_41 (Dropout)           (None, 64)           0           ['dense_47[0][0]']               \n",
      "                                                                                                  \n",
      " buy_prob (Dense)               (None, 1)            65          ['dropout_41[0][0]']             \n",
      "                                                                                                  \n",
      "==================================================================================================\n",
      "Total params: 578,433\n",
      "Trainable params: 578,433\n",
      "Non-trainable params: 0\n",
      "__________________________________________________________________________________________________\n"
     ]
    }
   ],
   "source": [
    "# 8) Model building\n",
    "EMBED_DIM = 64\n",
    "num_heads = 4\n",
    "mlp_dim = EMBED_DIM * num_heads\n",
    "cat_emb_layers = {}\n",
    "for f in cat_fields:\n",
    "    vocab_size = len(vocab[f]) + 1\n",
    "    cat_emb_layers[f] = tf.keras.layers.Embedding(input_dim=vocab_size, output_dim=EMBED_DIM, mask_zero=True, name=f'emb_{f}')\n",
    "\n",
    "pos_emb = tf.keras.layers.Embedding(input_dim=MAX_SEQ_LEN, output_dim=EMBED_DIM, name='pos_emb')\n",
    "\n",
    "class TransformerEncoderBlock(tf.keras.layers.Layer):\n",
    "    def __init__(self, dim, num_heads, mlp_dim, dropout=0.1, **kwargs):\n",
    "        super().__init__(**kwargs)\n",
    "        self.dim = dim\n",
    "        self.num_heads = num_heads\n",
    "        self.mlp_dim = mlp_dim\n",
    "        self.dropout = dropout\n",
    "        \n",
    "        self.mha = tf.keras.layers.MultiHeadAttention(num_heads=num_heads, key_dim=dim)\n",
    "        self.norm1 = tf.keras.layers.LayerNormalization(epsilon=1e-6)\n",
    "        self.dropout1 = tf.keras.layers.Dropout(dropout)\n",
    "        self.ffn = tf.keras.Sequential([\n",
    "            tf.keras.layers.Dense(mlp_dim, activation='relu'),\n",
    "            tf.keras.layers.Dense(dim),\n",
    "        ])\n",
    "        self.norm2 = tf.keras.layers.LayerNormalization(epsilon=1e-6)\n",
    "        self.dropout2 = tf.keras.layers.Dropout(dropout)\n",
    "\n",
    "    def call(self, x, mask=None, training=False):\n",
    "        attn_mask = None\n",
    "        if mask is not None:\n",
    "            attn_mask = tf.cast(mask[:, tf.newaxis, :], dtype=tf.bool)\n",
    "        attn_out = self.mha(x, x, attention_mask=attn_mask)\n",
    "        attn_out = self.dropout1(attn_out, training=training)\n",
    "        out1 = self.norm1(x + attn_out)\n",
    "        ff = self.ffn(out1)\n",
    "        ff = self.dropout2(ff, training=training)\n",
    "        out2 = self.norm2(out1 + ff)\n",
    "        return out2\n",
    "    \n",
    "    def get_config(self):\n",
    "        config = super().get_config()\n",
    "        config.update({\n",
    "            \"dim\": self.dim,\n",
    "            \"num_heads\": self.num_heads,\n",
    "            \"mlp_dim\": self.mlp_dim,\n",
    "            \"dropout\": self.dropout,\n",
    "        })\n",
    "        return config \n",
    "\n",
    "def build_model():\n",
    "    inputs = {f: tf.keras.Input(shape=(MAX_SEQ_LEN,), dtype=tf.int32, name=f) for f in cat_fields}\n",
    "    inputs['numeric'] = tf.keras.Input(shape=(MAX_SEQ_LEN, len(num_fields)), dtype=tf.float32, name='numeric')\n",
    "    inputs['mask'] = tf.keras.Input(shape=(MAX_SEQ_LEN,), dtype=tf.float32, name='mask')\n",
    "\n",
    "    emb_list = []\n",
    "    for f in cat_fields:\n",
    "        e = cat_emb_layers[f](inputs[f])\n",
    "        emb_list.append(e)\n",
    "    numeric_proj = tf.keras.layers.Dense(EMBED_DIM)(inputs['numeric'])\n",
    "    emb_list.append(numeric_proj)\n",
    "\n",
    "    x = tf.keras.layers.Add()(emb_list)\n",
    "    positions = tf.range(start=0, limit=MAX_SEQ_LEN, delta=1)\n",
    "    pos_embeddings = pos_emb(positions)\n",
    "    x = x + pos_embeddings\n",
    "\n",
    "    mask = inputs['mask']\n",
    "    for _ in range(3):\n",
    "        x = TransformerEncoderBlock(dim=EMBED_DIM, num_heads=num_heads, mlp_dim=mlp_dim)(x, mask=mask)\n",
    "\n",
    "    mask_expanded = tf.expand_dims(mask, axis=-1)\n",
    "    x_masked = x * mask_expanded\n",
    "    sum_x = tf.reduce_sum(x_masked, axis=1)\n",
    "    lengths = tf.reduce_sum(mask_expanded, axis=1)\n",
    "    pooled = sum_x / (lengths + 1e-6)\n",
    "\n",
    "    h = tf.keras.layers.Dense(64, activation='relu')(pooled)\n",
    "    h = tf.keras.layers.Dropout(0.3)(h)\n",
    "    out = tf.keras.layers.Dense(1, activation='sigmoid', name='buy_prob')(h)\n",
    "\n",
    "    model = tf.keras.Model(inputs=inputs, outputs=out)\n",
    "    return model\n",
    "\n",
    "model = build_model()\n",
    "model.compile(optimizer=tf.keras.optimizers.Adam(1e-4),\n",
    "              loss='binary_crossentropy',\n",
    "              metrics=[tf.keras.metrics.AUC(name='auc'), tf.keras.metrics.BinaryAccuracy(name='acc')])\n",
    "model.summary()\n"
   ]
  },
  {
   "cell_type": "code",
   "execution_count": 52,
   "id": "cfac7240",
   "metadata": {},
   "outputs": [
    {
     "name": "stdout",
     "output_type": "stream",
     "text": [
      "Epoch 1/20\n",
      "3667/3667 [==============================] - 812s 221ms/step - loss: 0.5198 - auc: 0.9206 - acc: 0.9132 - val_loss: 0.2609 - val_auc: 0.9326 - val_acc: 0.9283\n",
      "Epoch 2/20\n",
      "3667/3667 [==============================] - 808s 220ms/step - loss: 0.4803 - auc: 0.9312 - acc: 0.9225 - val_loss: 0.2574 - val_auc: 0.9354 - val_acc: 0.9264\n",
      "Epoch 3/20\n",
      "3667/3667 [==============================] - 788s 215ms/step - loss: 0.4702 - auc: 0.9341 - acc: 0.9238 - val_loss: 0.2483 - val_auc: 0.9371 - val_acc: 0.9293\n",
      "Epoch 4/20\n",
      "3667/3667 [==============================] - 760s 207ms/step - loss: 0.4633 - auc: 0.9360 - acc: 0.9248 - val_loss: 0.2443 - val_auc: 0.9384 - val_acc: 0.9297\n",
      "Epoch 5/20\n",
      "3667/3667 [==============================] - 750s 204ms/step - loss: 0.4584 - auc: 0.9373 - acc: 0.9255 - val_loss: 0.2456 - val_auc: 0.9389 - val_acc: 0.9292\n"
     ]
    }
   ],
   "source": [
    "# 9) Train\n",
    "labels = train_labels\n",
    "pos = labels.sum()\n",
    "neg = len(labels) - pos\n",
    "class_weight = {0: 1.0, 1: (neg / (pos + 1e-6))}\n",
    "\n",
    "early_stop = EarlyStopping(monitor='val_auc', patience=2, restore_best_weights=True, min_delta=0.003)\n",
    "checkpoint = ModelCheckpoint('best_model.keras', monitor='val_auc', save_best_only=True, mode='max')\n",
    "\n",
    "epochs = 20\n",
    "history = model.fit(train_ds, validation_data=val_ds, epochs=epochs, class_weight=class_weight, callbacks=[early_stop, checkpoint])\n"
   ]
  },
  {
   "cell_type": "code",
   "execution_count": 53,
   "id": "f5b728e0",
   "metadata": {},
   "outputs": [],
   "source": [
    "# 10) evaluate\n",
    "from tensorflow.keras.models import load_model\n",
    "\n",
    "loaded_model = load_model(\"best_model.keras\", custom_objects={\"TransformerEncoderBlock\": TransformerEncoderBlock})"
   ]
  },
  {
   "cell_type": "code",
   "execution_count": null,
   "id": "668261ca",
   "metadata": {},
   "outputs": [
    {
     "name": "stdout",
     "output_type": "stream",
     "text": [
      "1630/1630 [==============================] - 73s 45ms/step\n",
      "[[649056  19213]\n",
      " [ 32649 133330]]\n",
      "              precision    recall  f1-score   support\n",
      "\n",
      "         0.0       0.95      0.97      0.96    668269\n",
      "         1.0       0.87      0.80      0.84    165979\n",
      "\n",
      "    accuracy                           0.94    834248\n",
      "   macro avg       0.91      0.89      0.90    834248\n",
      "weighted avg       0.94      0.94      0.94    834248\n",
      "\n"
     ]
    }
   ],
   "source": [
    "\n",
    "from sklearn.metrics import confusion_matrix, classification_report\n",
    "\n",
    "threshold = 0.6\n",
    "y_true = val_labels\n",
    "y_pred = (loaded_model.predict(val_ds) > threshold).astype(int).flatten()\n",
    "\n",
    "print(confusion_matrix(y_true, y_pred))\n",
    "print(classification_report(y_true, y_pred))\n"
   ]
  },
  {
   "cell_type": "code",
   "execution_count": null,
   "id": "1700a407",
   "metadata": {},
   "outputs": [
    {
     "name": "stdout",
     "output_type": "stream",
     "text": [
      "1630/1630 [==============================] - 74s 45ms/step\n"
     ]
    },
    {
     "data": {
      "image/png": "[encoded data removed]",
      "text/plain": [
       "<Figure size 1000x600 with 1 Axes>"
      ]
     },
     "metadata": {},
     "output_type": "display_data"
    }
   ],
   "source": [
    "from sklearn.metrics import precision_recall_curve\n",
    "\n",
    "# 예측 확률\n",
    "y_probs = loaded_model.predict(val_ds)  # ← val_ds는 y_true 포함되어 있어야 함\n",
    "y_probs = y_probs.ravel()  # (n, 1) → (n,)\n",
    "\n",
    "# precision, recall, threshold 계산\n",
    "precision, recall, thresholds = precision_recall_curve(y_true, y_probs)\n",
    "\n",
    "# 그래프 그리기\n",
    "plt.figure(figsize=(10, 6))\n",
    "plt.plot(thresholds, precision[:-1], label='Precision', color='blue')\n",
    "plt.plot(thresholds, recall[:-1], label='Recall', color='green')\n",
    "plt.xlabel('Threshold')\n",
    "plt.ylabel('Score')\n",
    "plt.title('Precision and Recall vs Threshold')\n",
    "plt.legend()\n",
    "plt.grid()\n",
    "plt.show()"
   ]
  },
  {
   "cell_type": "code",
   "execution_count": null,
   "id": "5fb81e38",
   "metadata": {},
   "outputs": [
    {
     "name": "stdout",
     "output_type": "stream",
     "text": [
      "1/1 [==============================] - 0s 218ms/step\n",
      "구매 확률: 0.2584\n"
     ]
    }
   ],
   "source": [
    "# 11) Evaluate and inference\n",
    "# example inference on raw session\n",
    "def predict_session(model, ev_list):\n",
    "    cat_idx, num_vals, mask = session_to_features(ev_list)\n",
    "    feed = {f: np.expand_dims(cat_idx[f], 0) for f in cat_fields}\n",
    "    feed['numeric'] = np.expand_dims(num_vals, 0)\n",
    "    feed['mask'] = np.expand_dims(mask, 0)\n",
    "    prob = model.predict(feed)[0,0]\n",
    "    return prob\n",
    "\n",
    "example_session = [\n",
    "    {\n",
    "        \"event_type\": 2, \n",
    "        \"product_id\": 22200103, \n",
    "        \"category_code\": \"electronics.smartphone\",\n",
    "        \"general_category\": \"electronics\",\n",
    "        \"brand\": \"samsung\",\n",
    "        \"price\": 350.0,\n",
    "        \"relative_price\": 0.45,\n",
    "        \"time_since_start\": 0.0,\n",
    "        \"time_since_prev\": 0.0\n",
    "    },\n",
    "    {\n",
    "        \"event_type\": 2, \n",
    "        \"product_id\": 6902133, \n",
    "        \"category_code\": \"computers.notebook\",\n",
    "        \"general_category\": \"computers\",\n",
    "        \"brand\": \"apple\",\n",
    "        \"price\": 1200.0,\n",
    "        \"relative_price\": 0.9,\n",
    "        \"time_since_start\": 30.0,\n",
    "        \"time_since_prev\": 30.0\n",
    "    },\n",
    "    {\n",
    "        \"event_type\": 1, \n",
    "        \"product_id\": 6902133, \n",
    "        \"category_code\": \"computers.notebook\",\n",
    "        \"general_category\": \"computers\",\n",
    "        \"brand\": \"apple\",\n",
    "        \"price\": 1200.0,\n",
    "        \"relative_price\": 0.9,\n",
    "        \"time_since_start\": 60.0,\n",
    "        \"time_since_prev\": 30.0\n",
    "    }\n",
    "]\n",
    "\n",
    "prob = predict_session(loaded_model, example_session)\n",
    "print(f\"구매 확률: {prob:.4f}\")"
   ]
  },
  {
   "cell_type": "code",
   "execution_count": null,
   "id": "6552cd96",
   "metadata": {},
   "outputs": [],
   "source": []
  }
 ],
 "metadata": {
  "kernelspec": {
   "display_name": ".venv",
   "language": "python",
   "name": "python3"
  },
  "language_info": {
   "codemirror_mode": {
    "name": "ipython",
    "version": 3
   },
   "file_extension": ".py",
   "mimetype": "text/x-python",
   "name": "python",
   "nbconvert_exporter": "python",
   "pygments_lexer": "ipython3",
   "version": "3.10.0"
  }
 },
 "nbformat": 4,
 "nbformat_minor": 5
}
