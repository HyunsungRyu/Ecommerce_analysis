{
 "cells": [
  {
   "cell_type": "markdown",
   "metadata": {},
   "source": [
    "data : https://www.kaggle.com/datasets/mkechinov/ecommerce-behavior-data-from-multi-category-store?select=2019-Nov.csv"
   ]
  },
  {
   "cell_type": "code",
   "execution_count": null,
   "metadata": {},
   "outputs": [
    {
     "data": {
      "text/html": [
       "<div>\n",
       "<style scoped>\n",
       "    .dataframe tbody tr th:only-of-type {\n",
       "        vertical-align: middle;\n",
       "    }\n",
       "\n",
       "    .dataframe tbody tr th {\n",
       "        vertical-align: top;\n",
       "    }\n",
       "\n",
       "    .dataframe thead th {\n",
       "        text-align: right;\n",
       "    }\n",
       "</style>\n",
       "<table border=\"1\" class=\"dataframe\">\n",
       "  <thead>\n",
       "    <tr style=\"text-align: right;\">\n",
       "      <th></th>\n",
       "      <th>event_time</th>\n",
       "      <th>event_type</th>\n",
       "      <th>product_id</th>\n",
       "      <th>category_code</th>\n",
       "      <th>brand</th>\n",
       "      <th>price</th>\n",
       "      <th>user_id</th>\n",
       "      <th>user_session</th>\n",
       "    </tr>\n",
       "  </thead>\n",
       "  <tbody>\n",
       "    <tr>\n",
       "      <th>0</th>\n",
       "      <td>2019-10-01 00:00:00 UTC</td>\n",
       "      <td>view</td>\n",
       "      <td>44600062</td>\n",
       "      <td>NaN</td>\n",
       "      <td>shiseido</td>\n",
       "      <td>35.79</td>\n",
       "      <td>541312140</td>\n",
       "      <td>72d76fde-8bb3-4e00-8c23-a032dfed738c</td>\n",
       "    </tr>\n",
       "    <tr>\n",
       "      <th>1</th>\n",
       "      <td>2019-10-01 00:00:00 UTC</td>\n",
       "      <td>view</td>\n",
       "      <td>3900821</td>\n",
       "      <td>appliances.environment.water_heater</td>\n",
       "      <td>aqua</td>\n",
       "      <td>33.20</td>\n",
       "      <td>554748717</td>\n",
       "      <td>9333dfbd-b87a-4708-9857-6336556b0fcc</td>\n",
       "    </tr>\n",
       "  </tbody>\n",
       "</table>\n",
       "</div>"
      ],
      "text/plain": [
       "                event_time event_type  product_id  \\\n",
       "0  2019-10-01 00:00:00 UTC       view    44600062   \n",
       "1  2019-10-01 00:00:00 UTC       view     3900821   \n",
       "\n",
       "                         category_code     brand  price    user_id  \\\n",
       "0                                  NaN  shiseido  35.79  541312140   \n",
       "1  appliances.environment.water_heater      aqua  33.20  554748717   \n",
       "\n",
       "                           user_session  \n",
       "0  72d76fde-8bb3-4e00-8c23-a032dfed738c  \n",
       "1  9333dfbd-b87a-4708-9857-6336556b0fcc  "
      ]
     },
     "execution_count": 1,
     "metadata": {},
     "output_type": "execute_result"
    }
   ],
   "source": [
    "import pandas as pd\n",
    "from IPython.display import display\n",
    "import datetime as dt\n",
    "import matplotlib.pyplot as plt\n",
    "import seaborn as sns\n",
    "import plotly.express as px\n",
    "from scipy.stats import mannwhitneyu\n",
    "import gc\n",
    "\n",
    "# del df\n",
    "gc.collect()\n",
    "\n",
    "df = pd.read_csv(\"c:\\\\data\\\\e-commerce\\\\2019-Oct.csv\", usecols=['event_time', 'event_type', 'product_id', 'brand', 'category_code', 'price', 'user_id', 'user_session'])\n",
    "df.head(2)"
   ]
  },
  {
   "cell_type": "code",
   "execution_count": 2,
   "metadata": {},
   "outputs": [],
   "source": [
    "# print(df['user_id'].nunique())"
   ]
  },
  {
   "cell_type": "code",
   "execution_count": 3,
   "metadata": {},
   "outputs": [],
   "source": [
    "# df[df['user_id'] == 541312140].head(2)"
   ]
  },
  {
   "cell_type": "code",
   "execution_count": 4,
   "metadata": {},
   "outputs": [],
   "source": [
    "# def find_longest_session(df, user_id):\n",
    "#     df = df[df['user_id'] == user_id]\n",
    "#     most_frequent_session = df['user_session'].mode()[0]\n",
    "#     longest = df[df['user_session'] == most_frequent_session]\n",
    "#     return longest"
   ]
  },
  {
   "cell_type": "code",
   "execution_count": 5,
   "metadata": {},
   "outputs": [],
   "source": [
    "# longest = find_longest_session(df, 541312140)\n",
    "# display(longest)"
   ]
  },
  {
   "cell_type": "code",
   "execution_count": 6,
   "metadata": {},
   "outputs": [],
   "source": [
    "# longest = find_longest_session(df, 554748717)\n",
    "# display(longest)"
   ]
  },
  {
   "cell_type": "code",
   "execution_count": 7,
   "metadata": {},
   "outputs": [],
   "source": [
    "# behavior_count = df.groupby('user_id')['user_session'].nunique().sort_values(ascending=True)\n",
    "# behavior_count"
   ]
  },
  {
   "cell_type": "code",
   "execution_count": 8,
   "metadata": {},
   "outputs": [],
   "source": [
    "# longest = find_longest_session(df, behavior_count.idxmax())\n",
    "# longest"
   ]
  },
  {
   "cell_type": "code",
   "execution_count": 9,
   "metadata": {},
   "outputs": [],
   "source": [
    "# count = (behavior_count == 1).sum()\n",
    "# print(count)"
   ]
  },
  {
   "cell_type": "code",
   "execution_count": 10,
   "metadata": {},
   "outputs": [],
   "source": [
    "# list1 = behavior_count[behavior_count == 1].index.tolist()\n",
    "# list1[:3]"
   ]
  },
  {
   "cell_type": "code",
   "execution_count": 11,
   "metadata": {},
   "outputs": [],
   "source": [
    "# longest = find_longest_session(df, list1[1])\n",
    "# longest"
   ]
  },
  {
   "cell_type": "code",
   "execution_count": 12,
   "metadata": {},
   "outputs": [],
   "source": [
    "# purchase = df[df['event_type'] == 'purchase']\n",
    "# purchase.head(2)"
   ]
  },
  {
   "cell_type": "code",
   "execution_count": 13,
   "metadata": {},
   "outputs": [],
   "source": [
    "# cart = df[df['event_type'] == 'cart']\n",
    "# cart.head(2)"
   ]
  },
  {
   "cell_type": "code",
   "execution_count": 14,
   "metadata": {},
   "outputs": [],
   "source": [
    "# def get_weekday(df):\n",
    "#     df['event_time'] = pd.to_datetime(df['event_time'])\n",
    "#     df['weekday'] = df['event_time'].dt.strftime('%A')\n",
    "#     return df['weekday']\n",
    "\n",
    "# df['weekday'] = get_weekday(df)\n",
    "# df"
   ]
  },
  {
   "cell_type": "code",
   "execution_count": 15,
   "metadata": {},
   "outputs": [],
   "source": [
    "# view_count_by_weekday = df[df['event_type'] == 'view']['weekday'].value_counts()\n",
    "# view_count_by_weekday"
   ]
  },
  {
   "cell_type": "code",
   "execution_count": 16,
   "metadata": {},
   "outputs": [],
   "source": [
    "# weekday_order = ['Sunday', 'Monday', 'Tuesday', 'Wednesday', 'Thursday', 'Friday', 'Saturday']\n",
    "# view_count_by_weekday = view_count_by_weekday.reindex(weekday_order)\n",
    "# view_count_by_weekday"
   ]
  },
  {
   "cell_type": "code",
   "execution_count": 17,
   "metadata": {},
   "outputs": [],
   "source": [
    "# plt.figure(figsize=(10, 6))\n",
    "\n",
    "# view_count_by_weekday.plot(kind='bar', color='skyblue')\n",
    "# plt.title('view count by weekday')\n",
    "# plt.xlabel('weekday')\n",
    "# plt.ylabel('view count')\n",
    "# plt.show()"
   ]
  },
  {
   "cell_type": "code",
   "execution_count": 18,
   "metadata": {},
   "outputs": [],
   "source": [
    "# purchase_count_by_weekday = df[df['event_type'] == 'purchase']['weekday'].value_counts()\n",
    "# purchase_count_by_weekday"
   ]
  },
  {
   "cell_type": "code",
   "execution_count": 19,
   "metadata": {},
   "outputs": [],
   "source": [
    "# weekday_order = ['Sunday', 'Monday', 'Tuesday', 'Wednesday', 'Thursday', 'Friday', 'Saturday']\n",
    "\n",
    "# purchase_count_by_weekday = purchase_count_by_weekday.reindex(weekday_order)\n",
    "# purchase_count_by_weekday"
   ]
  },
  {
   "cell_type": "code",
   "execution_count": 20,
   "metadata": {},
   "outputs": [],
   "source": [
    "# plt.figure(figsize=(10, 6))\n",
    "\n",
    "# purchase_count_by_weekday.plot(kind='bar', color='skyblue')\n",
    "# plt.title('purchase count by weekday')\n",
    "# plt.xlabel('weekday')\n",
    "# plt.ylabel('purchase count')\n",
    "# plt.show()"
   ]
  },
  {
   "cell_type": "code",
   "execution_count": 21,
   "metadata": {},
   "outputs": [],
   "source": [
    "# event_type_count = df['event_type'].value_counts()\n",
    "\n",
    "# event_type_count.plot(kind='bar', color='skyblue')\n",
    "# plt.xlabel('Event type')\n",
    "# plt.ylabel('Count')\n",
    "# plt.title('Event Type Counts')\n",
    "# plt.show()"
   ]
  },
  {
   "cell_type": "code",
   "execution_count": 22,
   "metadata": {},
   "outputs": [],
   "source": [
    "# event_type_count.drop('view', inplace=True)\n",
    "# event_type_count"
   ]
  },
  {
   "cell_type": "code",
   "execution_count": 23,
   "metadata": {},
   "outputs": [],
   "source": [
    "# event_type_count.plot(kind='bar', color='skyblue')\n",
    "# plt.xlabel('Event type')\n",
    "# plt.ylabel('Count')\n",
    "# plt.title('Event Type Counts')\n",
    "# plt.show()"
   ]
  },
  {
   "cell_type": "code",
   "execution_count": 24,
   "metadata": {},
   "outputs": [],
   "source": [
    "# df.head(2)"
   ]
  },
  {
   "cell_type": "code",
   "execution_count": 25,
   "metadata": {},
   "outputs": [
    {
     "name": "stderr",
     "output_type": "stream",
     "text": [
      "C:\\Users\\User\\AppData\\Local\\Temp\\ipykernel_19200\\3709310507.py:3: FutureWarning: A value is trying to be set on a copy of a DataFrame or Series through chained assignment using an inplace method.\n",
      "The behavior will change in pandas 3.0. This inplace method will never work because the intermediate object on which we are setting values always behaves as a copy.\n",
      "\n",
      "For example, when doing 'df[col].method(value, inplace=True)', try using 'df.method({col: value}, inplace=True)' or df[col] = df[col].method(value) instead, to perform the operation inplace on the original object.\n",
      "\n",
      "\n",
      "  df['category_code'].fillna('unknown.', inplace=True)\n"
     ]
    },
    {
     "data": {
      "text/html": [
       "<div>\n",
       "<style scoped>\n",
       "    .dataframe tbody tr th:only-of-type {\n",
       "        vertical-align: middle;\n",
       "    }\n",
       "\n",
       "    .dataframe tbody tr th {\n",
       "        vertical-align: top;\n",
       "    }\n",
       "\n",
       "    .dataframe thead th {\n",
       "        text-align: right;\n",
       "    }\n",
       "</style>\n",
       "<table border=\"1\" class=\"dataframe\">\n",
       "  <thead>\n",
       "    <tr style=\"text-align: right;\">\n",
       "      <th></th>\n",
       "      <th>event_time</th>\n",
       "      <th>event_type</th>\n",
       "      <th>product_id</th>\n",
       "      <th>category_code</th>\n",
       "      <th>brand</th>\n",
       "      <th>price</th>\n",
       "      <th>user_id</th>\n",
       "      <th>user_session</th>\n",
       "      <th>general_category</th>\n",
       "    </tr>\n",
       "  </thead>\n",
       "  <tbody>\n",
       "    <tr>\n",
       "      <th>0</th>\n",
       "      <td>2019-10-01 00:00:00 UTC</td>\n",
       "      <td>view</td>\n",
       "      <td>44600062</td>\n",
       "      <td>unknown.</td>\n",
       "      <td>shiseido</td>\n",
       "      <td>35.79</td>\n",
       "      <td>541312140</td>\n",
       "      <td>72d76fde-8bb3-4e00-8c23-a032dfed738c</td>\n",
       "      <td>unknown</td>\n",
       "    </tr>\n",
       "    <tr>\n",
       "      <th>1</th>\n",
       "      <td>2019-10-01 00:00:00 UTC</td>\n",
       "      <td>view</td>\n",
       "      <td>3900821</td>\n",
       "      <td>appliances.environment.water_heater</td>\n",
       "      <td>aqua</td>\n",
       "      <td>33.20</td>\n",
       "      <td>554748717</td>\n",
       "      <td>9333dfbd-b87a-4708-9857-6336556b0fcc</td>\n",
       "      <td>appliances</td>\n",
       "    </tr>\n",
       "  </tbody>\n",
       "</table>\n",
       "</div>"
      ],
      "text/plain": [
       "                event_time event_type  product_id  \\\n",
       "0  2019-10-01 00:00:00 UTC       view    44600062   \n",
       "1  2019-10-01 00:00:00 UTC       view     3900821   \n",
       "\n",
       "                         category_code     brand  price    user_id  \\\n",
       "0                             unknown.  shiseido  35.79  541312140   \n",
       "1  appliances.environment.water_heater      aqua  33.20  554748717   \n",
       "\n",
       "                           user_session general_category  \n",
       "0  72d76fde-8bb3-4e00-8c23-a032dfed738c          unknown  \n",
       "1  9333dfbd-b87a-4708-9857-6336556b0fcc       appliances  "
      ]
     },
     "metadata": {},
     "output_type": "display_data"
    }
   ],
   "source": [
    "df['category_code'] = df['category_code'].astype('category')\n",
    "df['category_code'] = df['category_code'].cat.add_categories('unknown.')\n",
    "df['category_code'].fillna('unknown.', inplace=True)\n",
    "\n",
    "df['general_category'] = df['category_code'].apply(lambda x: x.split('.')[0])\n",
    "display(df.head(2))"
   ]
  },
  {
   "cell_type": "code",
   "execution_count": 26,
   "metadata": {},
   "outputs": [],
   "source": [
    "# category_purchase = df[df['event_type'] == 'purchase'].groupby('general_category')['event_type'].count().sort_values(ascending=False)\n",
    "\n",
    "# top_categories = category_purchase.head(10)\n",
    "\n",
    "# plt.figure(figsize=(12, 6))\n",
    "# top_categories.plot(kind='bar', color='skyblue')\n",
    "# plt.title('Top 10 Categories')\n",
    "# plt.xlabel('Category')\n",
    "# plt.ylabel('Purchase Count')\n",
    "# plt.xticks(rotation=45)\n",
    "# plt.tight_layout()\n",
    "# plt.show()\n"
   ]
  },
  {
   "cell_type": "code",
   "execution_count": 27,
   "metadata": {},
   "outputs": [],
   "source": [
    "# pd.set_option('display.float_format', '{:.2f}'.format)\n",
    "# display(df['price'].describe())\n",
    "# pd.reset_option('display.float_format')"
   ]
  },
  {
   "cell_type": "code",
   "execution_count": 28,
   "metadata": {},
   "outputs": [],
   "source": [
    "# df['price'].max()"
   ]
  },
  {
   "cell_type": "code",
   "execution_count": 29,
   "metadata": {},
   "outputs": [],
   "source": [
    "# cart_data = df[df['event_type'] == 'cart']\n",
    "\n",
    "# bins = [0, 10, 50, 100, 200, 500, 1000, 2000, cart_data['price'].max()]\n",
    "# labels = ['0-10', '10-50', '50-100', '100-200', '200-500', '500-1000', '1000-2000', '2000~']\n",
    "# cart_data['price_range'] = pd.cut(cart_data['price'], bins=bins, labels=labels, include_lowest=True)\n",
    "\n",
    "# price_range_counts = cart_data['price_range'].value_counts().sort_index()\n",
    "\n",
    "# plt.figure(figsize=(12, 6))\n",
    "# price_range_counts.plot(kind='bar', color='skyblue')\n",
    "# plt.title('Cart Count by Price Range')\n",
    "# plt.xlabel('Price Range')\n",
    "# plt.ylabel('Purchase Count')\n",
    "# plt.xticks(rotation=45)\n",
    "# plt.tight_layout()\n",
    "# plt.show()"
   ]
  },
  {
   "cell_type": "code",
   "execution_count": 30,
   "metadata": {},
   "outputs": [],
   "source": [
    "# purchase_data = df[df['event_type'] == 'purchase']\n",
    "\n",
    "# bins = [0, 10, 50, 100, 200, 500, 1000, 2000, purchase_data['price'].max()]\n",
    "# labels = ['0-10', '10-50', '50-100', '100-200', '200-500', '500-1000', '1000-2000', '2000~']\n",
    "# purchase_data['price_range'] = pd.cut(purchase_data['price'], bins=bins, labels=labels, include_lowest=True)\n",
    "\n",
    "# price_range_counts = purchase_data['price_range'].value_counts().sort_index()\n",
    "\n",
    "# plt.figure(figsize=(12, 6))\n",
    "# price_range_counts.plot(kind='bar', color='skyblue')\n",
    "# plt.title('Purchase Count by Price Range')\n",
    "# plt.xlabel('Price Range')\n",
    "# plt.ylabel('Purchase Count')\n",
    "# plt.xticks(rotation=45)\n",
    "# plt.tight_layout()\n",
    "# plt.show()\n"
   ]
  },
  {
   "cell_type": "code",
   "execution_count": 31,
   "metadata": {},
   "outputs": [],
   "source": [
    "# pd.set_option('display.max_rows', None)\n",
    "# pd.set_option('display.max_columns', None)\n",
    "# display(df[(df['user_id'] == 543272936) & (df['event_type'] == 'purchase')])\n",
    "# pd.reset_option('display.max_rows')\n",
    "# pd.reset_option('display.max_columns')"
   ]
  },
  {
   "cell_type": "code",
   "execution_count": 32,
   "metadata": {},
   "outputs": [],
   "source": [
    "# from sklearn.preprocessing import StandardScaler\n",
    "# from sklearn.cluster import KMeans\n",
    "\n",
    "# df['event_time'] = pd.to_datetime(df['event_time'])\n",
    "\n",
    "# latest_date = df['event_time'].max()\n",
    "# rfm = df[df['event_type'] == 'purchase'].groupby('user_id').agg({\n",
    "#     'event_time': lambda x: (latest_date - x.max()).days,  # 최근 구매 일수\n",
    "#     'user_session': 'count',                              # 구매 빈도\n",
    "#     'price': 'sum'                                        # 구매 금액\n",
    "# }).reset_index()\n",
    "\n",
    "# rfm.columns = ['user_id', 'Recency', 'Frequency', 'Monetary']\n",
    "\n",
    "# # NaN 값 처리\n",
    "# rfm = rfm[rfm['Monetary'] > 0]\n"
   ]
  },
  {
   "cell_type": "code",
   "execution_count": 33,
   "metadata": {},
   "outputs": [],
   "source": [
    "# scaler = StandardScaler()\n",
    "# rfm_scaled = scaler.fit_transform(rfm[['Recency', 'Frequency', 'Monetary']])\n",
    "\n",
    "# kmeans = KMeans(n_clusters=4, random_state=42)\n",
    "# rfm['Cluster'] = kmeans.fit_predict(rfm_scaled)\n",
    "\n",
    "# cluster_summary = rfm.groupby('Cluster').mean()\n",
    "# display(cluster_summary)\n"
   ]
  },
  {
   "cell_type": "code",
   "execution_count": 34,
   "metadata": {},
   "outputs": [],
   "source": [
    "# plt.figure(figsize=(10, 6))\n",
    "# sns.scatterplot(\n",
    "#     x='Recency', y='Frequency', hue='Cluster', data=rfm, palette='viridis', alpha=0.7\n",
    "# )\n",
    "# plt.title('User Segmentation by Recency and Frequency')\n",
    "# plt.xlabel('Recency (Days)')\n",
    "# plt.ylabel('Frequency (Purchases)')\n",
    "# plt.legend(title='Cluster')\n",
    "# plt.show()\n"
   ]
  },
  {
   "cell_type": "code",
   "execution_count": 35,
   "metadata": {},
   "outputs": [],
   "source": [
    "# df_purchase = df[df['event_type'] == 'purchase'].merge(\n",
    "#     rfm[['user_id', 'Cluster']], on='user_id', how='left'\n",
    "# )\n",
    "\n",
    "# category_cluster = df_purchase.groupby(['Cluster', 'general_category']).size().unstack(fill_value=0)\n",
    "# category_cluster = category_cluster.div(category_cluster.sum(axis=1), axis=0)\n",
    "\n",
    "# category_cluster.plot(kind='bar', stacked=True, figsize=(12, 6), colormap='tab10')\n",
    "# plt.title('Purchase Categories by Cluster')\n",
    "# plt.xlabel('Cluster')\n",
    "# plt.ylabel('Proportion')\n",
    "# plt.legend(title='Category', bbox_to_anchor=(1.05, 1), loc='upper left')\n",
    "# plt.tight_layout()\n",
    "# plt.show()\n"
   ]
  },
  {
   "cell_type": "code",
   "execution_count": 36,
   "metadata": {},
   "outputs": [],
   "source": [
    "# scaler = StandardScaler()\n",
    "# rfm_scaled = scaler.fit_transform(rfm[['Recency', 'Frequency', 'Monetary']])\n",
    "# kmeans8 = KMeans(n_clusters=8, random_state=42)\n",
    "# rfm['Cluster'] = kmeans8.fit_predict(rfm_scaled)\n",
    "\n",
    "# cluster_summary = rfm.groupby('Cluster').mean()\n",
    "# display(cluster_summary)"
   ]
  },
  {
   "cell_type": "code",
   "execution_count": 37,
   "metadata": {},
   "outputs": [],
   "source": [
    "# plt.figure(figsize=(10, 6))\n",
    "# sns.scatterplot(\n",
    "#     x='Recency', y='Frequency', hue='Cluster', data=rfm, palette='Set2', alpha=0.7\n",
    "# )\n",
    "# plt.title('User Segmentation by Recency and Frequency')\n",
    "# plt.xlabel('Recency (Days)')\n",
    "# plt.ylabel('Frequency (Purchases)')\n",
    "# plt.legend(title='Cluster')\n",
    "# plt.show()"
   ]
  },
  {
   "cell_type": "code",
   "execution_count": 38,
   "metadata": {},
   "outputs": [],
   "source": [
    "# df_purchase = df[df['event_type'] == 'purchase'].merge(\n",
    "#     rfm[['user_id', 'Cluster']], on='user_id', how='left'\n",
    "# )\n",
    "\n",
    "# category_cluster = df_purchase.groupby(['Cluster', 'general_category']).size().unstack(fill_value=0)\n",
    "# category_cluster = category_cluster.div(category_cluster.sum(axis=1), axis=0)\n",
    "\n",
    "# category_cluster.plot(kind='bar', stacked=True, figsize=(12, 6), colormap='tab10')\n",
    "# plt.title('Purchase Categories by Cluster')\n",
    "# plt.xlabel('Cluster')\n",
    "# plt.ylabel('Proportion')\n",
    "# plt.legend(title='Category', bbox_to_anchor=(1.05, 1), loc='upper left')\n",
    "# plt.tight_layout()\n",
    "# plt.show()"
   ]
  },
  {
   "cell_type": "markdown",
   "metadata": {},
   "source": [
    "Most of products are high-involvement products."
   ]
  },
  {
   "cell_type": "code",
   "execution_count": 39,
   "metadata": {},
   "outputs": [
    {
     "data": {
      "text/html": [
       "<div>\n",
       "<style scoped>\n",
       "    .dataframe tbody tr th:only-of-type {\n",
       "        vertical-align: middle;\n",
       "    }\n",
       "\n",
       "    .dataframe tbody tr th {\n",
       "        vertical-align: top;\n",
       "    }\n",
       "\n",
       "    .dataframe thead th {\n",
       "        text-align: right;\n",
       "    }\n",
       "</style>\n",
       "<table border=\"1\" class=\"dataframe\">\n",
       "  <thead>\n",
       "    <tr style=\"text-align: right;\">\n",
       "      <th></th>\n",
       "      <th>event_time</th>\n",
       "      <th>event_type</th>\n",
       "      <th>product_id</th>\n",
       "      <th>category_code</th>\n",
       "      <th>brand</th>\n",
       "      <th>price</th>\n",
       "      <th>user_id</th>\n",
       "      <th>user_session</th>\n",
       "      <th>general_category</th>\n",
       "    </tr>\n",
       "  </thead>\n",
       "  <tbody>\n",
       "    <tr>\n",
       "      <th>0</th>\n",
       "      <td>2019-10-01 00:00:00 UTC</td>\n",
       "      <td>view</td>\n",
       "      <td>44600062</td>\n",
       "      <td>unknown.</td>\n",
       "      <td>shiseido</td>\n",
       "      <td>35.79</td>\n",
       "      <td>541312140</td>\n",
       "      <td>4147850</td>\n",
       "      <td>unknown</td>\n",
       "    </tr>\n",
       "    <tr>\n",
       "      <th>1</th>\n",
       "      <td>2019-10-01 00:00:00 UTC</td>\n",
       "      <td>view</td>\n",
       "      <td>3900821</td>\n",
       "      <td>appliances.environment.water_heater</td>\n",
       "      <td>aqua</td>\n",
       "      <td>33.20</td>\n",
       "      <td>554748717</td>\n",
       "      <td>5316338</td>\n",
       "      <td>appliances</td>\n",
       "    </tr>\n",
       "    <tr>\n",
       "      <th>2</th>\n",
       "      <td>2019-10-01 00:00:01 UTC</td>\n",
       "      <td>view</td>\n",
       "      <td>17200506</td>\n",
       "      <td>furniture.living_room.sofa</td>\n",
       "      <td>NaN</td>\n",
       "      <td>543.10</td>\n",
       "      <td>519107250</td>\n",
       "      <td>3120153</td>\n",
       "      <td>furniture</td>\n",
       "    </tr>\n",
       "    <tr>\n",
       "      <th>3</th>\n",
       "      <td>2019-10-01 00:00:01 UTC</td>\n",
       "      <td>view</td>\n",
       "      <td>1307067</td>\n",
       "      <td>computers.notebook</td>\n",
       "      <td>lenovo</td>\n",
       "      <td>251.74</td>\n",
       "      <td>550050854</td>\n",
       "      <td>4499321</td>\n",
       "      <td>computers</td>\n",
       "    </tr>\n",
       "    <tr>\n",
       "      <th>4</th>\n",
       "      <td>2019-10-01 00:00:04 UTC</td>\n",
       "      <td>view</td>\n",
       "      <td>1004237</td>\n",
       "      <td>electronics.smartphone</td>\n",
       "      <td>apple</td>\n",
       "      <td>1081.98</td>\n",
       "      <td>535871217</td>\n",
       "      <td>7176696</td>\n",
       "      <td>electronics</td>\n",
       "    </tr>\n",
       "  </tbody>\n",
       "</table>\n",
       "</div>"
      ],
      "text/plain": [
       "                event_time event_type  product_id  \\\n",
       "0  2019-10-01 00:00:00 UTC       view    44600062   \n",
       "1  2019-10-01 00:00:00 UTC       view     3900821   \n",
       "2  2019-10-01 00:00:01 UTC       view    17200506   \n",
       "3  2019-10-01 00:00:01 UTC       view     1307067   \n",
       "4  2019-10-01 00:00:04 UTC       view     1004237   \n",
       "\n",
       "                         category_code     brand    price    user_id  \\\n",
       "0                             unknown.  shiseido    35.79  541312140   \n",
       "1  appliances.environment.water_heater      aqua    33.20  554748717   \n",
       "2           furniture.living_room.sofa       NaN   543.10  519107250   \n",
       "3                   computers.notebook    lenovo   251.74  550050854   \n",
       "4               electronics.smartphone     apple  1081.98  535871217   \n",
       "\n",
       "   user_session general_category  \n",
       "0       4147850          unknown  \n",
       "1       5316338       appliances  \n",
       "2       3120153        furniture  \n",
       "3       4499321        computers  \n",
       "4       7176696      electronics  "
      ]
     },
     "execution_count": 39,
     "metadata": {},
     "output_type": "execute_result"
    }
   ],
   "source": [
    "df['user_session'] = df['user_session'].astype('category').cat.codes\n",
    "df.head()"
   ]
  },
  {
   "cell_type": "code",
   "execution_count": 40,
   "metadata": {},
   "outputs": [],
   "source": [
    "view = df[df['event_type'] == 'view']\n",
    "not_view = df[df['event_type'] != 'view']\n",
    "view = view.drop_duplicates(subset=['user_id', 'product_id', 'user_session'])\n",
    "\n",
    "df2 = pd.concat([not_view, view], ignore_index=True)\n",
    "df2.sort_values(by=['user_id', 'event_time'], inplace=True)"
   ]
  },
  {
   "cell_type": "code",
   "execution_count": 41,
   "metadata": {},
   "outputs": [
    {
     "data": {
      "text/html": [
       "<div>\n",
       "<style scoped>\n",
       "    .dataframe tbody tr th:only-of-type {\n",
       "        vertical-align: middle;\n",
       "    }\n",
       "\n",
       "    .dataframe tbody tr th {\n",
       "        vertical-align: top;\n",
       "    }\n",
       "\n",
       "    .dataframe thead th {\n",
       "        text-align: right;\n",
       "    }\n",
       "</style>\n",
       "<table border=\"1\" class=\"dataframe\">\n",
       "  <thead>\n",
       "    <tr style=\"text-align: right;\">\n",
       "      <th></th>\n",
       "      <th>event_time</th>\n",
       "      <th>event_type</th>\n",
       "      <th>product_id</th>\n",
       "      <th>category_code</th>\n",
       "      <th>brand</th>\n",
       "      <th>price</th>\n",
       "      <th>user_id</th>\n",
       "      <th>user_session</th>\n",
       "      <th>general_category</th>\n",
       "    </tr>\n",
       "  </thead>\n",
       "  <tbody>\n",
       "    <tr>\n",
       "      <th>22612047</th>\n",
       "      <td>2019-10-23 20:04:08 UTC</td>\n",
       "      <td>view</td>\n",
       "      <td>7002639</td>\n",
       "      <td>kids.carriage</td>\n",
       "      <td>bumbleride</td>\n",
       "      <td>769.65</td>\n",
       "      <td>33869381</td>\n",
       "      <td>7808651</td>\n",
       "      <td>kids</td>\n",
       "    </tr>\n",
       "    <tr>\n",
       "      <th>12092748</th>\n",
       "      <td>2019-10-13 00:13:46 UTC</td>\n",
       "      <td>view</td>\n",
       "      <td>10600284</td>\n",
       "      <td>unknown.</td>\n",
       "      <td>NaN</td>\n",
       "      <td>0.00</td>\n",
       "      <td>64078358</td>\n",
       "      <td>3521414</td>\n",
       "      <td>unknown</td>\n",
       "    </tr>\n",
       "    <tr>\n",
       "      <th>3287498</th>\n",
       "      <td>2019-10-02 21:43:00 UTC</td>\n",
       "      <td>view</td>\n",
       "      <td>22200103</td>\n",
       "      <td>unknown.</td>\n",
       "      <td>NaN</td>\n",
       "      <td>15.77</td>\n",
       "      <td>183503497</td>\n",
       "      <td>4921057</td>\n",
       "      <td>unknown</td>\n",
       "    </tr>\n",
       "    <tr>\n",
       "      <th>4823664</th>\n",
       "      <td>2019-10-04 17:44:37 UTC</td>\n",
       "      <td>view</td>\n",
       "      <td>6902133</td>\n",
       "      <td>furniture.living_room.chair</td>\n",
       "      <td>joie</td>\n",
       "      <td>143.89</td>\n",
       "      <td>184265397</td>\n",
       "      <td>1603017</td>\n",
       "      <td>furniture</td>\n",
       "    </tr>\n",
       "    <tr>\n",
       "      <th>4829445</th>\n",
       "      <td>2019-10-04 17:50:50 UTC</td>\n",
       "      <td>view</td>\n",
       "      <td>6902303</td>\n",
       "      <td>furniture.living_room.chair</td>\n",
       "      <td>joie</td>\n",
       "      <td>111.46</td>\n",
       "      <td>184265397</td>\n",
       "      <td>1603017</td>\n",
       "      <td>furniture</td>\n",
       "    </tr>\n",
       "    <tr>\n",
       "      <th>14945521</th>\n",
       "      <td>2019-10-15 17:18:59 UTC</td>\n",
       "      <td>view</td>\n",
       "      <td>27400002</td>\n",
       "      <td>unknown.</td>\n",
       "      <td>oral-b</td>\n",
       "      <td>79.77</td>\n",
       "      <td>184265397</td>\n",
       "      <td>7109281</td>\n",
       "      <td>unknown</td>\n",
       "    </tr>\n",
       "    <tr>\n",
       "      <th>9329834</th>\n",
       "      <td>2019-10-10 03:35:36 UTC</td>\n",
       "      <td>view</td>\n",
       "      <td>4804056</td>\n",
       "      <td>electronics.audio.headphone</td>\n",
       "      <td>apple</td>\n",
       "      <td>161.88</td>\n",
       "      <td>195082191</td>\n",
       "      <td>6254204</td>\n",
       "      <td>electronics</td>\n",
       "    </tr>\n",
       "    <tr>\n",
       "      <th>9823583</th>\n",
       "      <td>2019-10-10 15:02:36 UTC</td>\n",
       "      <td>view</td>\n",
       "      <td>6701171</td>\n",
       "      <td>computers.components.videocards</td>\n",
       "      <td>sinotex</td>\n",
       "      <td>99.42</td>\n",
       "      <td>200673532</td>\n",
       "      <td>313543</td>\n",
       "      <td>computers</td>\n",
       "    </tr>\n",
       "    <tr>\n",
       "      <th>11410270</th>\n",
       "      <td>2019-10-12 07:58:37 UTC</td>\n",
       "      <td>view</td>\n",
       "      <td>6701171</td>\n",
       "      <td>computers.components.videocards</td>\n",
       "      <td>sinotex</td>\n",
       "      <td>99.42</td>\n",
       "      <td>200673532</td>\n",
       "      <td>2649426</td>\n",
       "      <td>computers</td>\n",
       "    </tr>\n",
       "    <tr>\n",
       "      <th>11759746</th>\n",
       "      <td>2019-10-12 14:47:07 UTC</td>\n",
       "      <td>view</td>\n",
       "      <td>6501011</td>\n",
       "      <td>computers.components.motherboard</td>\n",
       "      <td>asrock</td>\n",
       "      <td>73.36</td>\n",
       "      <td>200673532</td>\n",
       "      <td>4464910</td>\n",
       "      <td>computers</td>\n",
       "    </tr>\n",
       "  </tbody>\n",
       "</table>\n",
       "</div>"
      ],
      "text/plain": [
       "                       event_time event_type  product_id  \\\n",
       "22612047  2019-10-23 20:04:08 UTC       view     7002639   \n",
       "12092748  2019-10-13 00:13:46 UTC       view    10600284   \n",
       "3287498   2019-10-02 21:43:00 UTC       view    22200103   \n",
       "4823664   2019-10-04 17:44:37 UTC       view     6902133   \n",
       "4829445   2019-10-04 17:50:50 UTC       view     6902303   \n",
       "14945521  2019-10-15 17:18:59 UTC       view    27400002   \n",
       "9329834   2019-10-10 03:35:36 UTC       view     4804056   \n",
       "9823583   2019-10-10 15:02:36 UTC       view     6701171   \n",
       "11410270  2019-10-12 07:58:37 UTC       view     6701171   \n",
       "11759746  2019-10-12 14:47:07 UTC       view     6501011   \n",
       "\n",
       "                             category_code       brand   price    user_id  \\\n",
       "22612047                     kids.carriage  bumbleride  769.65   33869381   \n",
       "12092748                          unknown.         NaN    0.00   64078358   \n",
       "3287498                           unknown.         NaN   15.77  183503497   \n",
       "4823664        furniture.living_room.chair        joie  143.89  184265397   \n",
       "4829445        furniture.living_room.chair        joie  111.46  184265397   \n",
       "14945521                          unknown.      oral-b   79.77  184265397   \n",
       "9329834        electronics.audio.headphone       apple  161.88  195082191   \n",
       "9823583    computers.components.videocards     sinotex   99.42  200673532   \n",
       "11410270   computers.components.videocards     sinotex   99.42  200673532   \n",
       "11759746  computers.components.motherboard      asrock   73.36  200673532   \n",
       "\n",
       "          user_session general_category  \n",
       "22612047       7808651             kids  \n",
       "12092748       3521414          unknown  \n",
       "3287498        4921057          unknown  \n",
       "4823664        1603017        furniture  \n",
       "4829445        1603017        furniture  \n",
       "14945521       7109281          unknown  \n",
       "9329834        6254204      electronics  \n",
       "9823583         313543        computers  \n",
       "11410270       2649426        computers  \n",
       "11759746       4464910        computers  "
      ]
     },
     "execution_count": 41,
     "metadata": {},
     "output_type": "execute_result"
    }
   ],
   "source": [
    "df2.head(10)"
   ]
  },
  {
   "cell_type": "code",
   "execution_count": 42,
   "metadata": {},
   "outputs": [],
   "source": [
    "buy_sessions = df2[df2['event_type'] == 'purchase']['user_session'].unique()\n",
    "\n",
    "buy_log = df2[df2['user_session'].isin(buy_sessions)]\n",
    "view_log = df2[~df2['user_session'].isin(buy_sessions)]\n"
   ]
  },
  {
   "cell_type": "code",
   "execution_count": 43,
   "metadata": {},
   "outputs": [
    {
     "data": {
      "text/html": [
       "<div>\n",
       "<style scoped>\n",
       "    .dataframe tbody tr th:only-of-type {\n",
       "        vertical-align: middle;\n",
       "    }\n",
       "\n",
       "    .dataframe tbody tr th {\n",
       "        vertical-align: top;\n",
       "    }\n",
       "\n",
       "    .dataframe thead th {\n",
       "        text-align: right;\n",
       "    }\n",
       "</style>\n",
       "<table border=\"1\" class=\"dataframe\">\n",
       "  <thead>\n",
       "    <tr style=\"text-align: right;\">\n",
       "      <th></th>\n",
       "      <th>event_time</th>\n",
       "      <th>event_type</th>\n",
       "      <th>product_id</th>\n",
       "      <th>category_code</th>\n",
       "      <th>brand</th>\n",
       "      <th>price</th>\n",
       "      <th>user_id</th>\n",
       "      <th>user_session</th>\n",
       "      <th>general_category</th>\n",
       "    </tr>\n",
       "  </thead>\n",
       "  <tbody>\n",
       "    <tr>\n",
       "      <th>29450285</th>\n",
       "      <td>2019-10-31 23:20:43 UTC</td>\n",
       "      <td>view</td>\n",
       "      <td>12704161</td>\n",
       "      <td>unknown.</td>\n",
       "      <td>pirelli</td>\n",
       "      <td>131.28</td>\n",
       "      <td>566272569</td>\n",
       "      <td>571331</td>\n",
       "      <td>unknown</td>\n",
       "    </tr>\n",
       "    <tr>\n",
       "      <th>1669247</th>\n",
       "      <td>2019-10-31 23:21:29 UTC</td>\n",
       "      <td>cart</td>\n",
       "      <td>12704161</td>\n",
       "      <td>unknown.</td>\n",
       "      <td>pirelli</td>\n",
       "      <td>131.28</td>\n",
       "      <td>566272569</td>\n",
       "      <td>571331</td>\n",
       "      <td>unknown</td>\n",
       "    </tr>\n",
       "    <tr>\n",
       "      <th>1669253</th>\n",
       "      <td>2019-10-31 23:24:12 UTC</td>\n",
       "      <td>purchase</td>\n",
       "      <td>12704161</td>\n",
       "      <td>unknown.</td>\n",
       "      <td>pirelli</td>\n",
       "      <td>131.28</td>\n",
       "      <td>566272569</td>\n",
       "      <td>571331</td>\n",
       "      <td>unknown</td>\n",
       "    </tr>\n",
       "    <tr>\n",
       "      <th>29448955</th>\n",
       "      <td>2019-10-31 23:03:26 UTC</td>\n",
       "      <td>view</td>\n",
       "      <td>1005136</td>\n",
       "      <td>electronics.smartphone</td>\n",
       "      <td>apple</td>\n",
       "      <td>2011.63</td>\n",
       "      <td>566274637</td>\n",
       "      <td>590198</td>\n",
       "      <td>electronics</td>\n",
       "    </tr>\n",
       "    <tr>\n",
       "      <th>1669214</th>\n",
       "      <td>2019-10-31 23:05:38 UTC</td>\n",
       "      <td>purchase</td>\n",
       "      <td>1005136</td>\n",
       "      <td>electronics.smartphone</td>\n",
       "      <td>apple</td>\n",
       "      <td>2011.63</td>\n",
       "      <td>566274637</td>\n",
       "      <td>590198</td>\n",
       "      <td>electronics</td>\n",
       "    </tr>\n",
       "    <tr>\n",
       "      <th>29450651</th>\n",
       "      <td>2019-10-31 23:25:17 UTC</td>\n",
       "      <td>view</td>\n",
       "      <td>12702883</td>\n",
       "      <td>unknown.</td>\n",
       "      <td>cordiant</td>\n",
       "      <td>74.39</td>\n",
       "      <td>566276996</td>\n",
       "      <td>6020056</td>\n",
       "      <td>unknown</td>\n",
       "    </tr>\n",
       "    <tr>\n",
       "      <th>1669289</th>\n",
       "      <td>2019-10-31 23:34:56 UTC</td>\n",
       "      <td>purchase</td>\n",
       "      <td>12702883</td>\n",
       "      <td>unknown.</td>\n",
       "      <td>cordiant</td>\n",
       "      <td>74.39</td>\n",
       "      <td>566276996</td>\n",
       "      <td>6020056</td>\n",
       "      <td>unknown</td>\n",
       "    </tr>\n",
       "    <tr>\n",
       "      <th>29451600</th>\n",
       "      <td>2019-10-31 23:38:14 UTC</td>\n",
       "      <td>view</td>\n",
       "      <td>1005144</td>\n",
       "      <td>electronics.smartphone</td>\n",
       "      <td>apple</td>\n",
       "      <td>1661.09</td>\n",
       "      <td>566278294</td>\n",
       "      <td>4935773</td>\n",
       "      <td>electronics</td>\n",
       "    </tr>\n",
       "    <tr>\n",
       "      <th>1669301</th>\n",
       "      <td>2019-10-31 23:39:32 UTC</td>\n",
       "      <td>cart</td>\n",
       "      <td>1005144</td>\n",
       "      <td>electronics.smartphone</td>\n",
       "      <td>apple</td>\n",
       "      <td>1661.09</td>\n",
       "      <td>566278294</td>\n",
       "      <td>4935773</td>\n",
       "      <td>electronics</td>\n",
       "    </tr>\n",
       "    <tr>\n",
       "      <th>1669311</th>\n",
       "      <td>2019-10-31 23:42:46 UTC</td>\n",
       "      <td>purchase</td>\n",
       "      <td>1005144</td>\n",
       "      <td>electronics.smartphone</td>\n",
       "      <td>apple</td>\n",
       "      <td>1661.09</td>\n",
       "      <td>566278294</td>\n",
       "      <td>4935773</td>\n",
       "      <td>electronics</td>\n",
       "    </tr>\n",
       "  </tbody>\n",
       "</table>\n",
       "</div>"
      ],
      "text/plain": [
       "                       event_time event_type  product_id  \\\n",
       "29450285  2019-10-31 23:20:43 UTC       view    12704161   \n",
       "1669247   2019-10-31 23:21:29 UTC       cart    12704161   \n",
       "1669253   2019-10-31 23:24:12 UTC   purchase    12704161   \n",
       "29448955  2019-10-31 23:03:26 UTC       view     1005136   \n",
       "1669214   2019-10-31 23:05:38 UTC   purchase     1005136   \n",
       "29450651  2019-10-31 23:25:17 UTC       view    12702883   \n",
       "1669289   2019-10-31 23:34:56 UTC   purchase    12702883   \n",
       "29451600  2019-10-31 23:38:14 UTC       view     1005144   \n",
       "1669301   2019-10-31 23:39:32 UTC       cart     1005144   \n",
       "1669311   2019-10-31 23:42:46 UTC   purchase     1005144   \n",
       "\n",
       "                   category_code     brand    price    user_id  user_session  \\\n",
       "29450285                unknown.   pirelli   131.28  566272569        571331   \n",
       "1669247                 unknown.   pirelli   131.28  566272569        571331   \n",
       "1669253                 unknown.   pirelli   131.28  566272569        571331   \n",
       "29448955  electronics.smartphone     apple  2011.63  566274637        590198   \n",
       "1669214   electronics.smartphone     apple  2011.63  566274637        590198   \n",
       "29450651                unknown.  cordiant    74.39  566276996       6020056   \n",
       "1669289                 unknown.  cordiant    74.39  566276996       6020056   \n",
       "29451600  electronics.smartphone     apple  1661.09  566278294       4935773   \n",
       "1669301   electronics.smartphone     apple  1661.09  566278294       4935773   \n",
       "1669311   electronics.smartphone     apple  1661.09  566278294       4935773   \n",
       "\n",
       "         general_category  \n",
       "29450285          unknown  \n",
       "1669247           unknown  \n",
       "1669253           unknown  \n",
       "29448955      electronics  \n",
       "1669214       electronics  \n",
       "29450651          unknown  \n",
       "1669289           unknown  \n",
       "29451600      electronics  \n",
       "1669301       electronics  \n",
       "1669311       electronics  "
      ]
     },
     "execution_count": 43,
     "metadata": {},
     "output_type": "execute_result"
    }
   ],
   "source": [
    "buy_log.tail(10)"
   ]
  },
  {
   "cell_type": "code",
   "execution_count": 44,
   "metadata": {},
   "outputs": [
    {
     "data": {
      "text/plain": [
       "742849"
      ]
     },
     "metadata": {},
     "output_type": "display_data"
    },
    {
     "data": {
      "text/plain": [
       "498580"
      ]
     },
     "metadata": {},
     "output_type": "display_data"
    }
   ],
   "source": [
    "display(len(buy_log[buy_log['event_type'] == 'purchase']))\n",
    "display(len(buy_log[buy_log['event_type'] == 'cart']))"
   ]
  },
  {
   "cell_type": "markdown",
   "metadata": {},
   "source": [
    "view -> purchase \n",
    "  \n",
    "is possible"
   ]
  },
  {
   "cell_type": "code",
   "execution_count": 45,
   "metadata": {},
   "outputs": [],
   "source": [
    "session_seq = buy_log.groupby(['user_id', 'user_session'])['event_type'].apply(list)"
   ]
  },
  {
   "cell_type": "code",
   "execution_count": 46,
   "metadata": {},
   "outputs": [
    {
     "data": {
      "text/plain": [
       "user_id    user_session\n",
       "264649825  6397854                              [view, view, purchase, view]\n",
       "           6398112                                    [view, purchase, view]\n",
       "303160429  4960213                                          [view, purchase]\n",
       "340041246  3229983         [view, view, view, view, view, view, view, vie...\n",
       "           5895452            [view, view, view, view, view, view, purchase]\n",
       "                                                 ...                        \n",
       "566272569  571331                                     [view, cart, purchase]\n",
       "           6761547                  [view, view, view, view, view, purchase]\n",
       "566274637  590198                                           [view, purchase]\n",
       "566276996  6020056                                          [view, purchase]\n",
       "566278294  4935773                                    [view, cart, purchase]\n",
       "Name: event_type, Length: 629562, dtype: object"
      ]
     },
     "metadata": {},
     "output_type": "display_data"
    }
   ],
   "source": [
    "display(session_seq)"
   ]
  },
  {
   "cell_type": "code",
   "execution_count": 47,
   "metadata": {},
   "outputs": [],
   "source": [
    "def has_cart_before_purchase(events):\n",
    "    if \"purchase\" not in events:\n",
    "        return None\n",
    "    purchase_idx = events.index(\"purchase\")\n",
    "    return \"cart\" in events[:purchase_idx]\n",
    "\n",
    "# session_level\n",
    "session_cart_before_purchase = session_seq.apply(has_cart_before_purchase)\n",
    "\n",
    "# user_level\n",
    "user_cart_before_purchase = session_cart_before_purchase.groupby(\"user_id\").any()\n"
   ]
  },
  {
   "cell_type": "code",
   "execution_count": 48,
   "metadata": {},
   "outputs": [
    {
     "data": {
      "text/plain": [
       "event_type\n",
       "False    348910\n",
       "True     280650\n",
       "Name: count, dtype: int64"
      ]
     },
     "metadata": {},
     "output_type": "display_data"
    },
    {
     "data": {
      "text/plain": [
       "event_type\n",
       "True     177950\n",
       "False    169170\n",
       "Name: count, dtype: int64"
      ]
     },
     "metadata": {},
     "output_type": "display_data"
    }
   ],
   "source": [
    "display(session_cart_before_purchase.value_counts())\n",
    "display(user_cart_before_purchase.value_counts())"
   ]
  },
  {
   "cell_type": "markdown",
   "metadata": {},
   "source": [
    "### cart→purchase vs view→purchase 고객을 나누기 \n",
    "  \n",
    "구매 전 view 횟수 비교  \n",
    "- H1: cart->purchase 고객이 view->purchase 고객보다 본 상품수가 많을 것이다.\n",
    "  \n",
    "구매 시간 비교  \n",
    "- H2: cart->purchase 고객은 구매까지의 시간이 더 짧을 것이다.  \n",
    "  \n",
    "상품 평균 가격 비교  \n",
    "- H3: cart->purchase 고객은 view->purchase 고객보다 더 비싼 제품을 살 것이다.  "
   ]
  },
  {
   "cell_type": "code",
   "execution_count": 49,
   "metadata": {},
   "outputs": [],
   "source": [
    "cart_users = user_cart_before_purchase[user_cart_before_purchase==True].index\n",
    "view_users = user_cart_before_purchase[user_cart_before_purchase==False].index\n",
    "\n",
    "cart_purchase_log = buy_log[buy_log['user_id'].isin(cart_users)]\n",
    "view_purchase_log = buy_log[buy_log['user_id'].isin(view_users)]"
   ]
  },
  {
   "cell_type": "code",
   "execution_count": 50,
   "metadata": {},
   "outputs": [],
   "source": [
    "def count_view_before_purchase(events):\n",
    "    if \"purchase\" not in events:\n",
    "        return 0\n",
    "    purchase_idx = events.index(\"purchase\")\n",
    "    return events[:purchase_idx].count(\"view\")"
   ]
  },
  {
   "cell_type": "code",
   "execution_count": 51,
   "metadata": {},
   "outputs": [],
   "source": [
    "# cart -> purchase\n",
    "cart_session_seq = cart_purchase_log.groupby([\"user_id\", \"user_session\"])[\"event_type\"].apply(list)\n",
    "cart_pre_views = cart_session_seq.apply(count_view_before_purchase)\n",
    "\n",
    "# view -> purchase\n",
    "view_session_seq = view_purchase_log.groupby([\"user_id\", \"user_session\"])[\"event_type\"].apply(list)\n",
    "view_pre_views = view_session_seq.apply(count_view_before_purchase)"
   ]
  },
  {
   "cell_type": "code",
   "execution_count": 52,
   "metadata": {},
   "outputs": [
    {
     "data": {
      "text/plain": [
       "'Cart→Purchase 평균 상품 수: 2.197'"
      ]
     },
     "metadata": {},
     "output_type": "display_data"
    },
    {
     "data": {
      "text/plain": [
       "'View→Purchase 평균 상품 수: 2.744'"
      ]
     },
     "metadata": {},
     "output_type": "display_data"
    }
   ],
   "source": [
    "display(f\"Cart→Purchase 평균 상품 수: {cart_pre_views.mean():.3f}\")\n",
    "display(f\"View→Purchase 평균 상품 수: {view_pre_views.mean():.3f}\")"
   ]
  },
  {
   "cell_type": "code",
   "execution_count": 53,
   "metadata": {},
   "outputs": [
    {
     "data": {
      "text/plain": [
       "'statistic: 42196376112.500'"
      ]
     },
     "metadata": {},
     "output_type": "display_data"
    },
    {
     "data": {
      "text/plain": [
       "'p-value: 0.000'"
      ]
     },
     "metadata": {},
     "output_type": "display_data"
    }
   ],
   "source": [
    "stat, p_value = mannwhitneyu(cart_pre_views, view_pre_views, alternative='two-sided')\n",
    "display(f\"statistic: {stat:.3f}\")\n",
    "display(f\"p-value: {p_value:.3f}\")"
   ]
  },
  {
   "cell_type": "markdown",
   "metadata": {},
   "source": [
    "### H1 기각"
   ]
  },
  {
   "cell_type": "code",
   "execution_count": 54,
   "metadata": {},
   "outputs": [],
   "source": [
    "# def get_time_from_session_start(df2):\n",
    "#     df2 = df2.sort_values('event_time')\n",
    "#     if 'purchase' not in df2['event_type'].values:\n",
    "#         return pd.NaT\n",
    "#     start_time = pd.to_datetime(df2['event_time'].iloc[0])\n",
    "#     purchase_time = pd.to_datetime(df2.loc[df2['event_type'] == 'purchase', 'event_time'].iloc[0])\n",
    "#     return purchase_time - start_time"
   ]
  },
  {
   "cell_type": "code",
   "execution_count": 55,
   "metadata": {},
   "outputs": [],
   "source": [
    "# cart_session_time = cart_purchase_log.groupby(['user_id', 'user_session']).apply(get_time_from_session_start).dropna()\n",
    "# view_session_time = view_purchase_log.groupby(['user_id', 'user_session']).apply(get_time_from_session_start).dropna()"
   ]
  },
  {
   "cell_type": "code",
   "execution_count": 56,
   "metadata": {},
   "outputs": [],
   "source": [
    "# display(f\"Cart→Purchase 평균 시간: {cart_session_time.mean()}\")\n",
    "# display(f\"View→Purchase 평균 시간: {view_session_time.mean()}\")"
   ]
  },
  {
   "cell_type": "code",
   "execution_count": 57,
   "metadata": {},
   "outputs": [],
   "source": [
    "# stat, p_value = mannwhitneyu(cart_session_time.dt.total_seconds(), view_session_time.dt.total_seconds(), alternative='two-sided')\n",
    "# display(f\"statistic: {stat:.3f}\")\n",
    "# display(f\"p-value: {p_value:.3f}\")"
   ]
  },
  {
   "cell_type": "code",
   "execution_count": 58,
   "metadata": {},
   "outputs": [],
   "source": [
    "def get_time_to_purchase(df2, from_event):\n",
    "    df2 = df2.sort_values('event_time').reset_index(drop=True)\n",
    "    if 'purchase' not in df2['event_type'].values or from_event not in df2['event_type'].values:\n",
    "        return pd.NaT \n",
    "    from_idx = df2[df2['event_type'] == from_event].index[0]\n",
    "    purchase_idx = df2[df2['event_type'] == 'purchase'].index[0]\n",
    "    if purchase_idx <= from_idx: return pd.NaT\n",
    "    times = pd.to_datetime(df2['event_time'])\n",
    "    return times[purchase_idx] - times[from_idx]"
   ]
  },
  {
   "cell_type": "code",
   "execution_count": 59,
   "metadata": {},
   "outputs": [
    {
     "name": "stderr",
     "output_type": "stream",
     "text": [
      "C:\\Users\\User\\AppData\\Local\\Temp\\ipykernel_19200\\2250285117.py:8: UserWarning: Could not infer format, so each element will be parsed individually, falling back to `dateutil`. To ensure parsing is consistent and as-expected, please specify a format.\n",
      "  times = pd.to_datetime(df2['event_time'])\n",
      "C:\\Users\\User\\AppData\\Local\\Temp\\ipykernel_19200\\2250285117.py:8: UserWarning: Could not infer format, so each element will be parsed individually, falling back to `dateutil`. To ensure parsing is consistent and as-expected, please specify a format.\n",
      "  times = pd.to_datetime(df2['event_time'])\n",
      "C:\\Users\\User\\AppData\\Local\\Temp\\ipykernel_19200\\2250285117.py:8: UserWarning: Could not infer format, so each element will be parsed individually, falling back to `dateutil`. To ensure parsing is consistent and as-expected, please specify a format.\n",
      "  times = pd.to_datetime(df2['event_time'])\n",
      "C:\\Users\\User\\AppData\\Local\\Temp\\ipykernel_19200\\2250285117.py:8: UserWarning: Could not infer format, so each element will be parsed individually, falling back to `dateutil`. To ensure parsing is consistent and as-expected, please specify a format.\n",
      "  times = pd.to_datetime(df2['event_time'])\n",
      "C:\\Users\\User\\AppData\\Local\\Temp\\ipykernel_19200\\2250285117.py:8: UserWarning: Could not infer format, so each element will be parsed individually, falling back to `dateutil`. To ensure parsing is consistent and as-expected, please specify a format.\n",
      "  times = pd.to_datetime(df2['event_time'])\n",
      "C:\\Users\\User\\AppData\\Local\\Temp\\ipykernel_19200\\2250285117.py:8: UserWarning: Could not infer format, so each element will be parsed individually, falling back to `dateutil`. To ensure parsing is consistent and as-expected, please specify a format.\n",
      "  times = pd.to_datetime(df2['event_time'])\n",
      "C:\\Users\\User\\AppData\\Local\\Temp\\ipykernel_19200\\2250285117.py:8: UserWarning: Could not infer format, so each element will be parsed individually, falling back to `dateutil`. To ensure parsing is consistent and as-expected, please specify a format.\n",
      "  times = pd.to_datetime(df2['event_time'])\n",
      "C:\\Users\\User\\AppData\\Local\\Temp\\ipykernel_19200\\2250285117.py:8: UserWarning: Could not infer format, so each element will be parsed individually, falling back to `dateutil`. To ensure parsing is consistent and as-expected, please specify a format.\n",
      "  times = pd.to_datetime(df2['event_time'])\n",
      "C:\\Users\\User\\AppData\\Local\\Temp\\ipykernel_19200\\2250285117.py:8: UserWarning: Could not infer format, so each element will be parsed individually, falling back to `dateutil`. To ensure parsing is consistent and as-expected, please specify a format.\n",
      "  times = pd.to_datetime(df2['event_time'])\n",
      "C:\\Users\\User\\AppData\\Local\\Temp\\ipykernel_19200\\2250285117.py:8: UserWarning: Could not infer format, so each element will be parsed individually, falling back to `dateutil`. To ensure parsing is consistent and as-expected, please specify a format.\n",
      "  times = pd.to_datetime(df2['event_time'])\n",
      "C:\\Users\\User\\AppData\\Local\\Temp\\ipykernel_19200\\2250285117.py:8: UserWarning: Could not infer format, so each element will be parsed individually, falling back to `dateutil`. To ensure parsing is consistent and as-expected, please specify a format.\n",
      "  times = pd.to_datetime(df2['event_time'])\n",
      "C:\\Users\\User\\AppData\\Local\\Temp\\ipykernel_19200\\2250285117.py:8: UserWarning: Could not infer format, so each element will be parsed individually, falling back to `dateutil`. To ensure parsing is consistent and as-expected, please specify a format.\n",
      "  times = pd.to_datetime(df2['event_time'])\n",
      "C:\\Users\\User\\AppData\\Local\\Temp\\ipykernel_19200\\2250285117.py:8: UserWarning: Could not infer format, so each element will be parsed individually, falling back to `dateutil`. To ensure parsing is consistent and as-expected, please specify a format.\n",
      "  times = pd.to_datetime(df2['event_time'])\n",
      "C:\\Users\\User\\AppData\\Local\\Temp\\ipykernel_19200\\2250285117.py:8: UserWarning: Could not infer format, so each element will be parsed individually, falling back to `dateutil`. To ensure parsing is consistent and as-expected, please specify a format.\n",
      "  times = pd.to_datetime(df2['event_time'])\n",
      "C:\\Users\\User\\AppData\\Local\\Temp\\ipykernel_19200\\2250285117.py:8: UserWarning: Could not infer format, so each element will be parsed individually, falling back to `dateutil`. To ensure parsing is consistent and as-expected, please specify a format.\n",
      "  times = pd.to_datetime(df2['event_time'])\n",
      "C:\\Users\\User\\AppData\\Local\\Temp\\ipykernel_19200\\2250285117.py:8: UserWarning: Could not infer format, so each element will be parsed individually, falling back to `dateutil`. To ensure parsing is consistent and as-expected, please specify a format.\n",
      "  times = pd.to_datetime(df2['event_time'])\n",
      "C:\\Users\\User\\AppData\\Local\\Temp\\ipykernel_19200\\2250285117.py:8: UserWarning: Could not infer format, so each element will be parsed individually, falling back to `dateutil`. To ensure parsing is consistent and as-expected, please specify a format.\n",
      "  times = pd.to_datetime(df2['event_time'])\n",
      "C:\\Users\\User\\AppData\\Local\\Temp\\ipykernel_19200\\2250285117.py:8: UserWarning: Could not infer format, so each element will be parsed individually, falling back to `dateutil`. To ensure parsing is consistent and as-expected, please specify a format.\n",
      "  times = pd.to_datetime(df2['event_time'])\n",
      "C:\\Users\\User\\AppData\\Local\\Temp\\ipykernel_19200\\2250285117.py:8: UserWarning: Could not infer format, so each element will be parsed individually, falling back to `dateutil`. To ensure parsing is consistent and as-expected, please specify a format.\n",
      "  times = pd.to_datetime(df2['event_time'])\n",
      "C:\\Users\\User\\AppData\\Local\\Temp\\ipykernel_19200\\2250285117.py:8: UserWarning: Could not infer format, so each element will be parsed individually, falling back to `dateutil`. To ensure parsing is consistent and as-expected, please specify a format.\n",
      "  times = pd.to_datetime(df2['event_time'])\n",
      "C:\\Users\\User\\AppData\\Local\\Temp\\ipykernel_19200\\2250285117.py:8: UserWarning: Could not infer format, so each element will be parsed individually, falling back to `dateutil`. To ensure parsing is consistent and as-expected, please specify a format.\n",
      "  times = pd.to_datetime(df2['event_time'])\n",
      "C:\\Users\\User\\AppData\\Local\\Temp\\ipykernel_19200\\2250285117.py:8: UserWarning: Could not infer format, so each element will be parsed individually, falling back to `dateutil`. To ensure parsing is consistent and as-expected, please specify a format.\n",
      "  times = pd.to_datetime(df2['event_time'])\n",
      "C:\\Users\\User\\AppData\\Local\\Temp\\ipykernel_19200\\2250285117.py:8: UserWarning: Could not infer format, so each element will be parsed individually, falling back to `dateutil`. To ensure parsing is consistent and as-expected, please specify a format.\n",
      "  times = pd.to_datetime(df2['event_time'])\n",
      "C:\\Users\\User\\AppData\\Local\\Temp\\ipykernel_19200\\2250285117.py:8: UserWarning: Could not infer format, so each element will be parsed individually, falling back to `dateutil`. To ensure parsing is consistent and as-expected, please specify a format.\n",
      "  times = pd.to_datetime(df2['event_time'])\n",
      "C:\\Users\\User\\AppData\\Local\\Temp\\ipykernel_19200\\2250285117.py:8: UserWarning: Could not infer format, so each element will be parsed individually, falling back to `dateutil`. To ensure parsing is consistent and as-expected, please specify a format.\n",
      "  times = pd.to_datetime(df2['event_time'])\n",
      "C:\\Users\\User\\AppData\\Local\\Temp\\ipykernel_19200\\2250285117.py:8: UserWarning: Could not infer format, so each element will be parsed individually, falling back to `dateutil`. To ensure parsing is consistent and as-expected, please specify a format.\n",
      "  times = pd.to_datetime(df2['event_time'])\n",
      "C:\\Users\\User\\AppData\\Local\\Temp\\ipykernel_19200\\2250285117.py:8: UserWarning: Could not infer format, so each element will be parsed individually, falling back to `dateutil`. To ensure parsing is consistent and as-expected, please specify a format.\n",
      "  times = pd.to_datetime(df2['event_time'])\n",
      "C:\\Users\\User\\AppData\\Local\\Temp\\ipykernel_19200\\2250285117.py:8: UserWarning: Could not infer format, so each element will be parsed individually, falling back to `dateutil`. To ensure parsing is consistent and as-expected, please specify a format.\n",
      "  times = pd.to_datetime(df2['event_time'])\n",
      "C:\\Users\\User\\AppData\\Local\\Temp\\ipykernel_19200\\2250285117.py:8: UserWarning: Could not infer format, so each element will be parsed individually, falling back to `dateutil`. To ensure parsing is consistent and as-expected, please specify a format.\n",
      "  times = pd.to_datetime(df2['event_time'])\n",
      "C:\\Users\\User\\AppData\\Local\\Temp\\ipykernel_19200\\2250285117.py:8: UserWarning: Could not infer format, so each element will be parsed individually, falling back to `dateutil`. To ensure parsing is consistent and as-expected, please specify a format.\n",
      "  times = pd.to_datetime(df2['event_time'])\n",
      "C:\\Users\\User\\AppData\\Local\\Temp\\ipykernel_19200\\2250285117.py:8: UserWarning: Could not infer format, so each element will be parsed individually, falling back to `dateutil`. To ensure parsing is consistent and as-expected, please specify a format.\n",
      "  times = pd.to_datetime(df2['event_time'])\n",
      "C:\\Users\\User\\AppData\\Local\\Temp\\ipykernel_19200\\2250285117.py:8: UserWarning: Could not infer format, so each element will be parsed individually, falling back to `dateutil`. To ensure parsing is consistent and as-expected, please specify a format.\n",
      "  times = pd.to_datetime(df2['event_time'])\n",
      "C:\\Users\\User\\AppData\\Local\\Temp\\ipykernel_19200\\2250285117.py:8: UserWarning: Could not infer format, so each element will be parsed individually, falling back to `dateutil`. To ensure parsing is consistent and as-expected, please specify a format.\n",
      "  times = pd.to_datetime(df2['event_time'])\n",
      "C:\\Users\\User\\AppData\\Local\\Temp\\ipykernel_19200\\2250285117.py:8: UserWarning: Could not infer format, so each element will be parsed individually, falling back to `dateutil`. To ensure parsing is consistent and as-expected, please specify a format.\n",
      "  times = pd.to_datetime(df2['event_time'])\n",
      "C:\\Users\\User\\AppData\\Local\\Temp\\ipykernel_19200\\2250285117.py:8: UserWarning: Could not infer format, so each element will be parsed individually, falling back to `dateutil`. To ensure parsing is consistent and as-expected, please specify a format.\n",
      "  times = pd.to_datetime(df2['event_time'])\n",
      "C:\\Users\\User\\AppData\\Local\\Temp\\ipykernel_19200\\2250285117.py:8: UserWarning: Could not infer format, so each element will be parsed individually, falling back to `dateutil`. To ensure parsing is consistent and as-expected, please specify a format.\n",
      "  times = pd.to_datetime(df2['event_time'])\n",
      "C:\\Users\\User\\AppData\\Local\\Temp\\ipykernel_19200\\2250285117.py:8: UserWarning: Could not infer format, so each element will be parsed individually, falling back to `dateutil`. To ensure parsing is consistent and as-expected, please specify a format.\n",
      "  times = pd.to_datetime(df2['event_time'])\n",
      "C:\\Users\\User\\AppData\\Local\\Temp\\ipykernel_19200\\2250285117.py:8: UserWarning: Could not infer format, so each element will be parsed individually, falling back to `dateutil`. To ensure parsing is consistent and as-expected, please specify a format.\n",
      "  times = pd.to_datetime(df2['event_time'])\n",
      "C:\\Users\\User\\AppData\\Local\\Temp\\ipykernel_19200\\2250285117.py:8: UserWarning: Could not infer format, so each element will be parsed individually, falling back to `dateutil`. To ensure parsing is consistent and as-expected, please specify a format.\n",
      "  times = pd.to_datetime(df2['event_time'])\n",
      "C:\\Users\\User\\AppData\\Local\\Temp\\ipykernel_19200\\2250285117.py:8: UserWarning: Could not infer format, so each element will be parsed individually, falling back to `dateutil`. To ensure parsing is consistent and as-expected, please specify a format.\n",
      "  times = pd.to_datetime(df2['event_time'])\n",
      "C:\\Users\\User\\AppData\\Local\\Temp\\ipykernel_19200\\2250285117.py:8: UserWarning: Could not infer format, so each element will be parsed individually, falling back to `dateutil`. To ensure parsing is consistent and as-expected, please specify a format.\n",
      "  times = pd.to_datetime(df2['event_time'])\n",
      "C:\\Users\\User\\AppData\\Local\\Temp\\ipykernel_19200\\2250285117.py:8: UserWarning: Could not infer format, so each element will be parsed individually, falling back to `dateutil`. To ensure parsing is consistent and as-expected, please specify a format.\n",
      "  times = pd.to_datetime(df2['event_time'])\n",
      "C:\\Users\\User\\AppData\\Local\\Temp\\ipykernel_19200\\2250285117.py:8: UserWarning: Could not infer format, so each element will be parsed individually, falling back to `dateutil`. To ensure parsing is consistent and as-expected, please specify a format.\n",
      "  times = pd.to_datetime(df2['event_time'])\n",
      "C:\\Users\\User\\AppData\\Local\\Temp\\ipykernel_19200\\2250285117.py:8: UserWarning: Could not infer format, so each element will be parsed individually, falling back to `dateutil`. To ensure parsing is consistent and as-expected, please specify a format.\n",
      "  times = pd.to_datetime(df2['event_time'])\n",
      "C:\\Users\\User\\AppData\\Local\\Temp\\ipykernel_19200\\3217237634.py:1: DeprecationWarning: DataFrameGroupBy.apply operated on the grouping columns. This behavior is deprecated, and in a future version of pandas the grouping columns will be excluded from the operation. Either pass `include_groups=False` to exclude the groupings or explicitly select the grouping columns after groupby to silence this warning.\n",
      "  cart_purchase_time = cart_purchase_log.groupby(['user_id', 'user_session']).apply(lambda df2: get_time_to_purchase(df2, 'cart'))\n",
      "C:\\Users\\User\\AppData\\Local\\Temp\\ipykernel_19200\\2250285117.py:8: UserWarning: Could not infer format, so each element will be parsed individually, falling back to `dateutil`. To ensure parsing is consistent and as-expected, please specify a format.\n",
      "  times = pd.to_datetime(df2['event_time'])\n",
      "C:\\Users\\User\\AppData\\Local\\Temp\\ipykernel_19200\\2250285117.py:8: UserWarning: Could not infer format, so each element will be parsed individually, falling back to `dateutil`. To ensure parsing is consistent and as-expected, please specify a format.\n",
      "  times = pd.to_datetime(df2['event_time'])\n",
      "C:\\Users\\User\\AppData\\Local\\Temp\\ipykernel_19200\\2250285117.py:8: UserWarning: Could not infer format, so each element will be parsed individually, falling back to `dateutil`. To ensure parsing is consistent and as-expected, please specify a format.\n",
      "  times = pd.to_datetime(df2['event_time'])\n",
      "C:\\Users\\User\\AppData\\Local\\Temp\\ipykernel_19200\\2250285117.py:8: UserWarning: Could not infer format, so each element will be parsed individually, falling back to `dateutil`. To ensure parsing is consistent and as-expected, please specify a format.\n",
      "  times = pd.to_datetime(df2['event_time'])\n",
      "C:\\Users\\User\\AppData\\Local\\Temp\\ipykernel_19200\\2250285117.py:8: UserWarning: Could not infer format, so each element will be parsed individually, falling back to `dateutil`. To ensure parsing is consistent and as-expected, please specify a format.\n",
      "  times = pd.to_datetime(df2['event_time'])\n",
      "C:\\Users\\User\\AppData\\Local\\Temp\\ipykernel_19200\\2250285117.py:8: UserWarning: Could not infer format, so each element will be parsed individually, falling back to `dateutil`. To ensure parsing is consistent and as-expected, please specify a format.\n",
      "  times = pd.to_datetime(df2['event_time'])\n",
      "C:\\Users\\User\\AppData\\Local\\Temp\\ipykernel_19200\\2250285117.py:8: UserWarning: Could not infer format, so each element will be parsed individually, falling back to `dateutil`. To ensure parsing is consistent and as-expected, please specify a format.\n",
      "  times = pd.to_datetime(df2['event_time'])\n",
      "C:\\Users\\User\\AppData\\Local\\Temp\\ipykernel_19200\\2250285117.py:8: UserWarning: Could not infer format, so each element will be parsed individually, falling back to `dateutil`. To ensure parsing is consistent and as-expected, please specify a format.\n",
      "  times = pd.to_datetime(df2['event_time'])\n",
      "C:\\Users\\User\\AppData\\Local\\Temp\\ipykernel_19200\\2250285117.py:8: UserWarning: Could not infer format, so each element will be parsed individually, falling back to `dateutil`. To ensure parsing is consistent and as-expected, please specify a format.\n",
      "  times = pd.to_datetime(df2['event_time'])\n",
      "C:\\Users\\User\\AppData\\Local\\Temp\\ipykernel_19200\\2250285117.py:8: UserWarning: Could not infer format, so each element will be parsed individually, falling back to `dateutil`. To ensure parsing is consistent and as-expected, please specify a format.\n",
      "  times = pd.to_datetime(df2['event_time'])\n",
      "C:\\Users\\User\\AppData\\Local\\Temp\\ipykernel_19200\\2250285117.py:8: UserWarning: Could not infer format, so each element will be parsed individually, falling back to `dateutil`. To ensure parsing is consistent and as-expected, please specify a format.\n",
      "  times = pd.to_datetime(df2['event_time'])\n",
      "C:\\Users\\User\\AppData\\Local\\Temp\\ipykernel_19200\\2250285117.py:8: UserWarning: Could not infer format, so each element will be parsed individually, falling back to `dateutil`. To ensure parsing is consistent and as-expected, please specify a format.\n",
      "  times = pd.to_datetime(df2['event_time'])\n",
      "C:\\Users\\User\\AppData\\Local\\Temp\\ipykernel_19200\\2250285117.py:8: UserWarning: Could not infer format, so each element will be parsed individually, falling back to `dateutil`. To ensure parsing is consistent and as-expected, please specify a format.\n",
      "  times = pd.to_datetime(df2['event_time'])\n",
      "C:\\Users\\User\\AppData\\Local\\Temp\\ipykernel_19200\\2250285117.py:8: UserWarning: Could not infer format, so each element will be parsed individually, falling back to `dateutil`. To ensure parsing is consistent and as-expected, please specify a format.\n",
      "  times = pd.to_datetime(df2['event_time'])\n",
      "C:\\Users\\User\\AppData\\Local\\Temp\\ipykernel_19200\\2250285117.py:8: UserWarning: Could not infer format, so each element will be parsed individually, falling back to `dateutil`. To ensure parsing is consistent and as-expected, please specify a format.\n",
      "  times = pd.to_datetime(df2['event_time'])\n",
      "C:\\Users\\User\\AppData\\Local\\Temp\\ipykernel_19200\\2250285117.py:8: UserWarning: Could not infer format, so each element will be parsed individually, falling back to `dateutil`. To ensure parsing is consistent and as-expected, please specify a format.\n",
      "  times = pd.to_datetime(df2['event_time'])\n",
      "C:\\Users\\User\\AppData\\Local\\Temp\\ipykernel_19200\\2250285117.py:8: UserWarning: Could not infer format, so each element will be parsed individually, falling back to `dateutil`. To ensure parsing is consistent and as-expected, please specify a format.\n",
      "  times = pd.to_datetime(df2['event_time'])\n",
      "C:\\Users\\User\\AppData\\Local\\Temp\\ipykernel_19200\\2250285117.py:8: UserWarning: Could not infer format, so each element will be parsed individually, falling back to `dateutil`. To ensure parsing is consistent and as-expected, please specify a format.\n",
      "  times = pd.to_datetime(df2['event_time'])\n",
      "C:\\Users\\User\\AppData\\Local\\Temp\\ipykernel_19200\\2250285117.py:8: UserWarning: Could not infer format, so each element will be parsed individually, falling back to `dateutil`. To ensure parsing is consistent and as-expected, please specify a format.\n",
      "  times = pd.to_datetime(df2['event_time'])\n",
      "C:\\Users\\User\\AppData\\Local\\Temp\\ipykernel_19200\\2250285117.py:8: UserWarning: Could not infer format, so each element will be parsed individually, falling back to `dateutil`. To ensure parsing is consistent and as-expected, please specify a format.\n",
      "  times = pd.to_datetime(df2['event_time'])\n",
      "C:\\Users\\User\\AppData\\Local\\Temp\\ipykernel_19200\\2250285117.py:8: UserWarning: Could not infer format, so each element will be parsed individually, falling back to `dateutil`. To ensure parsing is consistent and as-expected, please specify a format.\n",
      "  times = pd.to_datetime(df2['event_time'])\n",
      "C:\\Users\\User\\AppData\\Local\\Temp\\ipykernel_19200\\2250285117.py:8: UserWarning: Could not infer format, so each element will be parsed individually, falling back to `dateutil`. To ensure parsing is consistent and as-expected, please specify a format.\n",
      "  times = pd.to_datetime(df2['event_time'])\n",
      "C:\\Users\\User\\AppData\\Local\\Temp\\ipykernel_19200\\2250285117.py:8: UserWarning: Could not infer format, so each element will be parsed individually, falling back to `dateutil`. To ensure parsing is consistent and as-expected, please specify a format.\n",
      "  times = pd.to_datetime(df2['event_time'])\n",
      "C:\\Users\\User\\AppData\\Local\\Temp\\ipykernel_19200\\2250285117.py:8: UserWarning: Could not infer format, so each element will be parsed individually, falling back to `dateutil`. To ensure parsing is consistent and as-expected, please specify a format.\n",
      "  times = pd.to_datetime(df2['event_time'])\n",
      "C:\\Users\\User\\AppData\\Local\\Temp\\ipykernel_19200\\2250285117.py:8: UserWarning: Could not infer format, so each element will be parsed individually, falling back to `dateutil`. To ensure parsing is consistent and as-expected, please specify a format.\n",
      "  times = pd.to_datetime(df2['event_time'])\n",
      "C:\\Users\\User\\AppData\\Local\\Temp\\ipykernel_19200\\2250285117.py:8: UserWarning: Could not infer format, so each element will be parsed individually, falling back to `dateutil`. To ensure parsing is consistent and as-expected, please specify a format.\n",
      "  times = pd.to_datetime(df2['event_time'])\n",
      "C:\\Users\\User\\AppData\\Local\\Temp\\ipykernel_19200\\2250285117.py:8: UserWarning: Could not infer format, so each element will be parsed individually, falling back to `dateutil`. To ensure parsing is consistent and as-expected, please specify a format.\n",
      "  times = pd.to_datetime(df2['event_time'])\n",
      "C:\\Users\\User\\AppData\\Local\\Temp\\ipykernel_19200\\2250285117.py:8: UserWarning: Could not infer format, so each element will be parsed individually, falling back to `dateutil`. To ensure parsing is consistent and as-expected, please specify a format.\n",
      "  times = pd.to_datetime(df2['event_time'])\n",
      "C:\\Users\\User\\AppData\\Local\\Temp\\ipykernel_19200\\2250285117.py:8: UserWarning: Could not infer format, so each element will be parsed individually, falling back to `dateutil`. To ensure parsing is consistent and as-expected, please specify a format.\n",
      "  times = pd.to_datetime(df2['event_time'])\n",
      "C:\\Users\\User\\AppData\\Local\\Temp\\ipykernel_19200\\2250285117.py:8: UserWarning: Could not infer format, so each element will be parsed individually, falling back to `dateutil`. To ensure parsing is consistent and as-expected, please specify a format.\n",
      "  times = pd.to_datetime(df2['event_time'])\n",
      "C:\\Users\\User\\AppData\\Local\\Temp\\ipykernel_19200\\2250285117.py:8: UserWarning: Could not infer format, so each element will be parsed individually, falling back to `dateutil`. To ensure parsing is consistent and as-expected, please specify a format.\n",
      "  times = pd.to_datetime(df2['event_time'])\n",
      "C:\\Users\\User\\AppData\\Local\\Temp\\ipykernel_19200\\2250285117.py:8: UserWarning: Could not infer format, so each element will be parsed individually, falling back to `dateutil`. To ensure parsing is consistent and as-expected, please specify a format.\n",
      "  times = pd.to_datetime(df2['event_time'])\n",
      "C:\\Users\\User\\AppData\\Local\\Temp\\ipykernel_19200\\2250285117.py:8: UserWarning: Could not infer format, so each element will be parsed individually, falling back to `dateutil`. To ensure parsing is consistent and as-expected, please specify a format.\n",
      "  times = pd.to_datetime(df2['event_time'])\n",
      "C:\\Users\\User\\AppData\\Local\\Temp\\ipykernel_19200\\2250285117.py:8: UserWarning: Could not infer format, so each element will be parsed individually, falling back to `dateutil`. To ensure parsing is consistent and as-expected, please specify a format.\n",
      "  times = pd.to_datetime(df2['event_time'])\n",
      "C:\\Users\\User\\AppData\\Local\\Temp\\ipykernel_19200\\2250285117.py:8: UserWarning: Could not infer format, so each element will be parsed individually, falling back to `dateutil`. To ensure parsing is consistent and as-expected, please specify a format.\n",
      "  times = pd.to_datetime(df2['event_time'])\n",
      "C:\\Users\\User\\AppData\\Local\\Temp\\ipykernel_19200\\2250285117.py:8: UserWarning: Could not infer format, so each element will be parsed individually, falling back to `dateutil`. To ensure parsing is consistent and as-expected, please specify a format.\n",
      "  times = pd.to_datetime(df2['event_time'])\n",
      "C:\\Users\\User\\AppData\\Local\\Temp\\ipykernel_19200\\3217237634.py:3: DeprecationWarning: DataFrameGroupBy.apply operated on the grouping columns. This behavior is deprecated, and in a future version of pandas the grouping columns will be excluded from the operation. Either pass `include_groups=False` to exclude the groupings or explicitly select the grouping columns after groupby to silence this warning.\n",
      "  view_purchase_time = view_purchase_log.groupby(['user_id', 'user_session']).apply(lambda df2: get_time_to_purchase(df2, 'view'))\n"
     ]
    }
   ],
   "source": [
    "cart_purchase_time = cart_purchase_log.groupby(['user_id', 'user_session']).apply(lambda df2: get_time_to_purchase(df2, 'cart'))\n",
    "cart_purchase_time = cart_purchase_time.dropna()\n",
    "view_purchase_time = view_purchase_log.groupby(['user_id', 'user_session']).apply(lambda df2: get_time_to_purchase(df2, 'view'))\n",
    "view_purchase_time = view_purchase_time.dropna()"
   ]
  },
  {
   "cell_type": "code",
   "execution_count": 60,
   "metadata": {},
   "outputs": [
    {
     "data": {
      "text/plain": [
       "'Cart→Purchase 평균 시간: 0 days 00:03:09.374331017'"
      ]
     },
     "metadata": {},
     "output_type": "display_data"
    },
    {
     "data": {
      "text/plain": [
       "'View→Purchase 평균 시간: 0 days 00:08:24.250570872'"
      ]
     },
     "metadata": {},
     "output_type": "display_data"
    }
   ],
   "source": [
    "display(f\"Cart→Purchase 평균 시간: {cart_purchase_time.mean()}\") \n",
    "display(f\"View→Purchase 평균 시간: {view_purchase_time.mean()}\")"
   ]
  },
  {
   "cell_type": "code",
   "execution_count": 61,
   "metadata": {},
   "outputs": [
    {
     "data": {
      "text/plain": [
       "'statistic: 17906672617.500'"
      ]
     },
     "metadata": {},
     "output_type": "display_data"
    },
    {
     "data": {
      "text/plain": [
       "'p-value: 0.000'"
      ]
     },
     "metadata": {},
     "output_type": "display_data"
    }
   ],
   "source": [
    "stat, p_value = mannwhitneyu(cart_purchase_time.dt.total_seconds(), view_purchase_time.dt.total_seconds(), alternative='two-sided')\n",
    "display(f\"statistic: {stat:.3f}\")\n",
    "display(f\"p-value: {p_value:.3f}\")"
   ]
  },
  {
   "cell_type": "markdown",
   "metadata": {},
   "source": [
    "### H2 지지"
   ]
  },
  {
   "cell_type": "code",
   "execution_count": 62,
   "metadata": {},
   "outputs": [
    {
     "data": {
      "text/plain": [
       "np.float64(349.1459114973758)"
      ]
     },
     "metadata": {},
     "output_type": "display_data"
    },
    {
     "data": {
      "text/plain": [
       "np.float64(237.45377437611577)"
      ]
     },
     "metadata": {},
     "output_type": "display_data"
    }
   ],
   "source": [
    "cart_purchase_only = cart_purchase_log[cart_purchase_log['event_type'] == 'purchase']\n",
    "view_purchase_only = view_purchase_log[view_purchase_log['event_type'] == 'purchase']\n",
    "display(cart_purchase_only['price'].mean())\n",
    "display(view_purchase_only['price'].mean())"
   ]
  },
  {
   "cell_type": "code",
   "execution_count": null,
   "metadata": {},
   "outputs": [],
   "source": []
  },
  {
   "cell_type": "code",
   "execution_count": 63,
   "metadata": {},
   "outputs": [
    {
     "data": {
      "text/plain": [
       "'statistic: 79505586894.500'"
      ]
     },
     "metadata": {},
     "output_type": "display_data"
    },
    {
     "data": {
      "text/plain": [
       "'p-value: 0.000'"
      ]
     },
     "metadata": {},
     "output_type": "display_data"
    }
   ],
   "source": [
    "stat, p_value = mannwhitneyu(cart_purchase_only['price'], view_purchase_only['price'], alternative='two-sided')\n",
    "display(f\"statistic: {stat:.3f}\")\n",
    "display(f\"p-value: {p_value:.3f}\")"
   ]
  },
  {
   "cell_type": "markdown",
   "metadata": {},
   "source": [
    "### H3 지지"
   ]
  },
  {
   "cell_type": "markdown",
   "metadata": {},
   "source": [
    "### view -> cart까지 이루어졌지만 purchase가 이루어지지않은 사람\n",
    "\n",
    "전환율 비교\n",
    "- H4: cart를 한 뒤 view를 하면 이탈율이 높을 것이다."
   ]
  },
  {
   "cell_type": "code",
   "execution_count": 64,
   "metadata": {},
   "outputs": [],
   "source": [
    "session_flags = (\n",
    "    view_log.groupby(['user_id', 'user_session'])['event_type']\n",
    "    .agg(lambda x: ('cart' in x.values) and ('purchase' not in x.values))\n",
    "    .reset_index(name='only_cart')\n",
    ")\n",
    "\n",
    "cart_only = view_log.merge(session_flags, on=['user_id','user_session'])\n",
    "cart_only = cart_only[cart_only['only_cart']]\n",
    "cart_only.drop(columns=['only_cart'], inplace=True)"
   ]
  },
  {
   "cell_type": "code",
   "execution_count": 65,
   "metadata": {},
   "outputs": [
    {
     "data": {
      "text/html": [
       "<div>\n",
       "<style scoped>\n",
       "    .dataframe tbody tr th:only-of-type {\n",
       "        vertical-align: middle;\n",
       "    }\n",
       "\n",
       "    .dataframe tbody tr th {\n",
       "        vertical-align: top;\n",
       "    }\n",
       "\n",
       "    .dataframe thead th {\n",
       "        text-align: right;\n",
       "    }\n",
       "</style>\n",
       "<table border=\"1\" class=\"dataframe\">\n",
       "  <thead>\n",
       "    <tr style=\"text-align: right;\">\n",
       "      <th></th>\n",
       "      <th>event_time</th>\n",
       "      <th>event_type</th>\n",
       "      <th>product_id</th>\n",
       "      <th>category_code</th>\n",
       "      <th>brand</th>\n",
       "      <th>price</th>\n",
       "      <th>user_id</th>\n",
       "      <th>user_session</th>\n",
       "      <th>general_category</th>\n",
       "    </tr>\n",
       "  </thead>\n",
       "  <tbody>\n",
       "    <tr>\n",
       "      <th>429</th>\n",
       "      <td>2019-10-19 08:13:12 UTC</td>\n",
       "      <td>view</td>\n",
       "      <td>1005122</td>\n",
       "      <td>electronics.smartphone</td>\n",
       "      <td>apple</td>\n",
       "      <td>1055.06</td>\n",
       "      <td>284344819</td>\n",
       "      <td>932028</td>\n",
       "      <td>electronics</td>\n",
       "    </tr>\n",
       "    <tr>\n",
       "      <th>430</th>\n",
       "      <td>2019-10-19 08:13:39 UTC</td>\n",
       "      <td>cart</td>\n",
       "      <td>1005122</td>\n",
       "      <td>electronics.smartphone</td>\n",
       "      <td>apple</td>\n",
       "      <td>1055.06</td>\n",
       "      <td>284344819</td>\n",
       "      <td>932028</td>\n",
       "      <td>electronics</td>\n",
       "    </tr>\n",
       "    <tr>\n",
       "      <th>431</th>\n",
       "      <td>2019-10-19 08:16:15 UTC</td>\n",
       "      <td>view</td>\n",
       "      <td>4804056</td>\n",
       "      <td>electronics.audio.headphone</td>\n",
       "      <td>apple</td>\n",
       "      <td>160.62</td>\n",
       "      <td>284344819</td>\n",
       "      <td>932028</td>\n",
       "      <td>electronics</td>\n",
       "    </tr>\n",
       "    <tr>\n",
       "      <th>521</th>\n",
       "      <td>2019-10-14 16:59:17 UTC</td>\n",
       "      <td>view</td>\n",
       "      <td>1005014</td>\n",
       "      <td>electronics.smartphone</td>\n",
       "      <td>samsung</td>\n",
       "      <td>553.30</td>\n",
       "      <td>293957954</td>\n",
       "      <td>8642212</td>\n",
       "      <td>electronics</td>\n",
       "    </tr>\n",
       "    <tr>\n",
       "      <th>522</th>\n",
       "      <td>2019-10-14 17:01:39 UTC</td>\n",
       "      <td>view</td>\n",
       "      <td>1004741</td>\n",
       "      <td>electronics.smartphone</td>\n",
       "      <td>xiaomi</td>\n",
       "      <td>191.77</td>\n",
       "      <td>293957954</td>\n",
       "      <td>8642212</td>\n",
       "      <td>electronics</td>\n",
       "    </tr>\n",
       "    <tr>\n",
       "      <th>523</th>\n",
       "      <td>2019-10-14 17:09:00 UTC</td>\n",
       "      <td>cart</td>\n",
       "      <td>1004741</td>\n",
       "      <td>electronics.smartphone</td>\n",
       "      <td>xiaomi</td>\n",
       "      <td>191.77</td>\n",
       "      <td>293957954</td>\n",
       "      <td>8642212</td>\n",
       "      <td>electronics</td>\n",
       "    </tr>\n",
       "    <tr>\n",
       "      <th>524</th>\n",
       "      <td>2019-10-14 17:10:12 UTC</td>\n",
       "      <td>view</td>\n",
       "      <td>1004794</td>\n",
       "      <td>electronics.smartphone</td>\n",
       "      <td>xiaomi</td>\n",
       "      <td>228.52</td>\n",
       "      <td>293957954</td>\n",
       "      <td>8642212</td>\n",
       "      <td>electronics</td>\n",
       "    </tr>\n",
       "    <tr>\n",
       "      <th>641</th>\n",
       "      <td>2019-10-29 13:44:40 UTC</td>\n",
       "      <td>view</td>\n",
       "      <td>1004723</td>\n",
       "      <td>electronics.smartphone</td>\n",
       "      <td>huawei</td>\n",
       "      <td>125.60</td>\n",
       "      <td>304325717</td>\n",
       "      <td>78898</td>\n",
       "      <td>electronics</td>\n",
       "    </tr>\n",
       "    <tr>\n",
       "      <th>643</th>\n",
       "      <td>2019-10-29 14:05:06 UTC</td>\n",
       "      <td>cart</td>\n",
       "      <td>1004723</td>\n",
       "      <td>electronics.smartphone</td>\n",
       "      <td>huawei</td>\n",
       "      <td>125.60</td>\n",
       "      <td>304325717</td>\n",
       "      <td>78898</td>\n",
       "      <td>electronics</td>\n",
       "    </tr>\n",
       "    <tr>\n",
       "      <th>644</th>\n",
       "      <td>2019-10-29 14:05:06 UTC</td>\n",
       "      <td>cart</td>\n",
       "      <td>1004723</td>\n",
       "      <td>electronics.smartphone</td>\n",
       "      <td>huawei</td>\n",
       "      <td>125.60</td>\n",
       "      <td>304325717</td>\n",
       "      <td>78898</td>\n",
       "      <td>electronics</td>\n",
       "    </tr>\n",
       "  </tbody>\n",
       "</table>\n",
       "</div>"
      ],
      "text/plain": [
       "                  event_time event_type  product_id  \\\n",
       "429  2019-10-19 08:13:12 UTC       view     1005122   \n",
       "430  2019-10-19 08:13:39 UTC       cart     1005122   \n",
       "431  2019-10-19 08:16:15 UTC       view     4804056   \n",
       "521  2019-10-14 16:59:17 UTC       view     1005014   \n",
       "522  2019-10-14 17:01:39 UTC       view     1004741   \n",
       "523  2019-10-14 17:09:00 UTC       cart     1004741   \n",
       "524  2019-10-14 17:10:12 UTC       view     1004794   \n",
       "641  2019-10-29 13:44:40 UTC       view     1004723   \n",
       "643  2019-10-29 14:05:06 UTC       cart     1004723   \n",
       "644  2019-10-29 14:05:06 UTC       cart     1004723   \n",
       "\n",
       "                   category_code    brand    price    user_id  user_session  \\\n",
       "429       electronics.smartphone    apple  1055.06  284344819        932028   \n",
       "430       electronics.smartphone    apple  1055.06  284344819        932028   \n",
       "431  electronics.audio.headphone    apple   160.62  284344819        932028   \n",
       "521       electronics.smartphone  samsung   553.30  293957954       8642212   \n",
       "522       electronics.smartphone   xiaomi   191.77  293957954       8642212   \n",
       "523       electronics.smartphone   xiaomi   191.77  293957954       8642212   \n",
       "524       electronics.smartphone   xiaomi   228.52  293957954       8642212   \n",
       "641       electronics.smartphone   huawei   125.60  304325717         78898   \n",
       "643       electronics.smartphone   huawei   125.60  304325717         78898   \n",
       "644       electronics.smartphone   huawei   125.60  304325717         78898   \n",
       "\n",
       "    general_category  \n",
       "429      electronics  \n",
       "430      electronics  \n",
       "431      electronics  \n",
       "521      electronics  \n",
       "522      electronics  \n",
       "523      electronics  \n",
       "524      electronics  \n",
       "641      electronics  \n",
       "643      electronics  \n",
       "644      electronics  "
      ]
     },
     "execution_count": 65,
     "metadata": {},
     "output_type": "execute_result"
    }
   ],
   "source": [
    "cart_only.head(10)"
   ]
  },
  {
   "cell_type": "code",
   "execution_count": 66,
   "metadata": {},
   "outputs": [
    {
     "data": {
      "text/html": [
       "<div>\n",
       "<style scoped>\n",
       "    .dataframe tbody tr th:only-of-type {\n",
       "        vertical-align: middle;\n",
       "    }\n",
       "\n",
       "    .dataframe tbody tr th {\n",
       "        vertical-align: top;\n",
       "    }\n",
       "\n",
       "    .dataframe thead th {\n",
       "        text-align: right;\n",
       "    }\n",
       "</style>\n",
       "<table border=\"1\" class=\"dataframe\">\n",
       "  <thead>\n",
       "    <tr style=\"text-align: right;\">\n",
       "      <th></th>\n",
       "      <th>event_time</th>\n",
       "      <th>event_type</th>\n",
       "      <th>product_id</th>\n",
       "      <th>category_code</th>\n",
       "      <th>brand</th>\n",
       "      <th>price</th>\n",
       "      <th>user_id</th>\n",
       "      <th>user_session</th>\n",
       "      <th>general_category</th>\n",
       "    </tr>\n",
       "  </thead>\n",
       "  <tbody>\n",
       "    <tr>\n",
       "      <th>17901670</th>\n",
       "      <td>2019-10-18 19:04:29 UTC</td>\n",
       "      <td>view</td>\n",
       "      <td>1004836</td>\n",
       "      <td>electronics.smartphone</td>\n",
       "      <td>samsung</td>\n",
       "      <td>229.22</td>\n",
       "      <td>403013066</td>\n",
       "      <td>587909</td>\n",
       "      <td>electronics</td>\n",
       "    </tr>\n",
       "    <tr>\n",
       "      <th>963973</th>\n",
       "      <td>2019-10-18 19:05:28 UTC</td>\n",
       "      <td>cart</td>\n",
       "      <td>1004836</td>\n",
       "      <td>electronics.smartphone</td>\n",
       "      <td>samsung</td>\n",
       "      <td>229.22</td>\n",
       "      <td>403013066</td>\n",
       "      <td>587909</td>\n",
       "      <td>electronics</td>\n",
       "    </tr>\n",
       "    <tr>\n",
       "      <th>964053</th>\n",
       "      <td>2019-10-18 19:07:54 UTC</td>\n",
       "      <td>purchase</td>\n",
       "      <td>1004836</td>\n",
       "      <td>electronics.smartphone</td>\n",
       "      <td>samsung</td>\n",
       "      <td>229.22</td>\n",
       "      <td>403013066</td>\n",
       "      <td>587909</td>\n",
       "      <td>electronics</td>\n",
       "    </tr>\n",
       "    <tr>\n",
       "      <th>17906182</th>\n",
       "      <td>2019-10-18 19:11:51 UTC</td>\n",
       "      <td>view</td>\n",
       "      <td>1004838</td>\n",
       "      <td>electronics.smartphone</td>\n",
       "      <td>oppo</td>\n",
       "      <td>154.19</td>\n",
       "      <td>403013066</td>\n",
       "      <td>587909</td>\n",
       "      <td>electronics</td>\n",
       "    </tr>\n",
       "    <tr>\n",
       "      <th>17906719</th>\n",
       "      <td>2019-10-18 19:12:42 UTC</td>\n",
       "      <td>view</td>\n",
       "      <td>1003304</td>\n",
       "      <td>electronics.smartphone</td>\n",
       "      <td>apple</td>\n",
       "      <td>577.94</td>\n",
       "      <td>403013066</td>\n",
       "      <td>587909</td>\n",
       "      <td>electronics</td>\n",
       "    </tr>\n",
       "    <tr>\n",
       "      <th>964226</th>\n",
       "      <td>2019-10-18 19:12:59 UTC</td>\n",
       "      <td>cart</td>\n",
       "      <td>1003304</td>\n",
       "      <td>electronics.smartphone</td>\n",
       "      <td>apple</td>\n",
       "      <td>577.94</td>\n",
       "      <td>403013066</td>\n",
       "      <td>587909</td>\n",
       "      <td>electronics</td>\n",
       "    </tr>\n",
       "    <tr>\n",
       "      <th>964244</th>\n",
       "      <td>2019-10-18 19:13:32 UTC</td>\n",
       "      <td>cart</td>\n",
       "      <td>1003304</td>\n",
       "      <td>electronics.smartphone</td>\n",
       "      <td>apple</td>\n",
       "      <td>577.94</td>\n",
       "      <td>403013066</td>\n",
       "      <td>587909</td>\n",
       "      <td>electronics</td>\n",
       "    </tr>\n",
       "    <tr>\n",
       "      <th>964297</th>\n",
       "      <td>2019-10-18 19:15:13 UTC</td>\n",
       "      <td>purchase</td>\n",
       "      <td>1003304</td>\n",
       "      <td>electronics.smartphone</td>\n",
       "      <td>apple</td>\n",
       "      <td>577.94</td>\n",
       "      <td>403013066</td>\n",
       "      <td>587909</td>\n",
       "      <td>electronics</td>\n",
       "    </tr>\n",
       "    <tr>\n",
       "      <th>29054521</th>\n",
       "      <td>2019-10-31 12:28:58 UTC</td>\n",
       "      <td>view</td>\n",
       "      <td>1002528</td>\n",
       "      <td>electronics.smartphone</td>\n",
       "      <td>apple</td>\n",
       "      <td>617.52</td>\n",
       "      <td>410333972</td>\n",
       "      <td>3904990</td>\n",
       "      <td>electronics</td>\n",
       "    </tr>\n",
       "    <tr>\n",
       "      <th>29055632</th>\n",
       "      <td>2019-10-31 12:30:40 UTC</td>\n",
       "      <td>view</td>\n",
       "      <td>1003304</td>\n",
       "      <td>electronics.smartphone</td>\n",
       "      <td>apple</td>\n",
       "      <td>591.25</td>\n",
       "      <td>410333972</td>\n",
       "      <td>3904990</td>\n",
       "      <td>electronics</td>\n",
       "    </tr>\n",
       "  </tbody>\n",
       "</table>\n",
       "</div>"
      ],
      "text/plain": [
       "                       event_time event_type  product_id  \\\n",
       "17901670  2019-10-18 19:04:29 UTC       view     1004836   \n",
       "963973    2019-10-18 19:05:28 UTC       cart     1004836   \n",
       "964053    2019-10-18 19:07:54 UTC   purchase     1004836   \n",
       "17906182  2019-10-18 19:11:51 UTC       view     1004838   \n",
       "17906719  2019-10-18 19:12:42 UTC       view     1003304   \n",
       "964226    2019-10-18 19:12:59 UTC       cart     1003304   \n",
       "964244    2019-10-18 19:13:32 UTC       cart     1003304   \n",
       "964297    2019-10-18 19:15:13 UTC   purchase     1003304   \n",
       "29054521  2019-10-31 12:28:58 UTC       view     1002528   \n",
       "29055632  2019-10-31 12:30:40 UTC       view     1003304   \n",
       "\n",
       "                   category_code    brand   price    user_id  user_session  \\\n",
       "17901670  electronics.smartphone  samsung  229.22  403013066        587909   \n",
       "963973    electronics.smartphone  samsung  229.22  403013066        587909   \n",
       "964053    electronics.smartphone  samsung  229.22  403013066        587909   \n",
       "17906182  electronics.smartphone     oppo  154.19  403013066        587909   \n",
       "17906719  electronics.smartphone    apple  577.94  403013066        587909   \n",
       "964226    electronics.smartphone    apple  577.94  403013066        587909   \n",
       "964244    electronics.smartphone    apple  577.94  403013066        587909   \n",
       "964297    electronics.smartphone    apple  577.94  403013066        587909   \n",
       "29054521  electronics.smartphone    apple  617.52  410333972       3904990   \n",
       "29055632  electronics.smartphone    apple  591.25  410333972       3904990   \n",
       "\n",
       "         general_category  \n",
       "17901670      electronics  \n",
       "963973        electronics  \n",
       "964053        electronics  \n",
       "17906182      electronics  \n",
       "17906719      electronics  \n",
       "964226        electronics  \n",
       "964244        electronics  \n",
       "964297        electronics  \n",
       "29054521      electronics  \n",
       "29055632      electronics  "
      ]
     },
     "execution_count": 66,
     "metadata": {},
     "output_type": "execute_result"
    }
   ],
   "source": [
    "cart_purchase_log.head(10)"
   ]
  },
  {
   "cell_type": "code",
   "execution_count": 67,
   "metadata": {},
   "outputs": [
    {
     "name": "stderr",
     "output_type": "stream",
     "text": [
      "C:\\Users\\User\\AppData\\Local\\Temp\\ipykernel_19200\\840255521.py:9: SettingWithCopyWarning: \n",
      "A value is trying to be set on a copy of a slice from a DataFrame.\n",
      "Try using .loc[row_indexer,col_indexer] = value instead\n",
      "\n",
      "See the caveats in the documentation: https://pandas.pydata.org/pandas-docs/stable/user_guide/indexing.html#returning-a-view-versus-a-copy\n",
      "  cart_purchase_log['view_after_cart'] = cart_purchase_log.groupby(\"user_session\")[\"event_type\"].apply(list).apply(cart_then_view)\n"
     ]
    }
   ],
   "source": [
    "def cart_then_view(events):\n",
    "    for i, e in enumerate(events):\n",
    "        if e == \"cart\":\n",
    "            if \"view\" in events[i+1:]:\n",
    "                return True\n",
    "    return False\n",
    "\n",
    "# 세션별 이벤트 시퀀스 추출\n",
    "cart_purchase_log['view_after_cart'] = cart_purchase_log.groupby(\"user_session\")[\"event_type\"].apply(list).apply(cart_then_view)\n",
    "cart_only['view_after_cart'] = cart_only.groupby(\"user_session\")[\"event_type\"].apply(list).apply(cart_then_view)\n"
   ]
  },
  {
   "cell_type": "code",
   "execution_count": 68,
   "metadata": {},
   "outputs": [],
   "source": [
    "def cart_then_view(events):\n",
    "    for i, e in enumerate(events):\n",
    "        if e == \"cart\" and \"view\" in events[i+1:]:\n",
    "            return True\n",
    "    return False\n",
    "\n",
    "session_seq_purchase = cart_purchase_log.groupby(\"user_session\")[\"event_type\"].apply(list)\n",
    "session_seq_only = cart_only.groupby(\"user_session\")[\"event_type\"].apply(list)\n",
    "\n",
    "cart_purchase_flag = session_seq_purchase.apply(cart_then_view)\n",
    "cart_only_flag = session_seq_only.apply(cart_then_view)"
   ]
  },
  {
   "cell_type": "code",
   "execution_count": 69,
   "metadata": {},
   "outputs": [
    {
     "data": {
      "text/plain": [
       "event_type\n",
       "False    335934\n",
       "True      61399\n",
       "Name: count, dtype: int64"
      ]
     },
     "metadata": {},
     "output_type": "display_data"
    },
    {
     "data": {
      "text/plain": [
       "event_type\n",
       "False    192427\n",
       "True      88810\n",
       "Name: count, dtype: int64"
      ]
     },
     "metadata": {},
     "output_type": "display_data"
    }
   ],
   "source": [
    "display(cart_purchase_flag.value_counts())\n",
    "display(cart_only_flag.value_counts())"
   ]
  },
  {
   "cell_type": "markdown",
   "metadata": {},
   "source": [
    "### H4 지지"
   ]
  },
  {
   "cell_type": "code",
   "execution_count": 70,
   "metadata": {},
   "outputs": [
    {
     "data": {
      "text/html": [
       "<div>\n",
       "<style scoped>\n",
       "    .dataframe tbody tr th:only-of-type {\n",
       "        vertical-align: middle;\n",
       "    }\n",
       "\n",
       "    .dataframe tbody tr th {\n",
       "        vertical-align: top;\n",
       "    }\n",
       "\n",
       "    .dataframe thead th {\n",
       "        text-align: right;\n",
       "    }\n",
       "</style>\n",
       "<table border=\"1\" class=\"dataframe\">\n",
       "  <thead>\n",
       "    <tr style=\"text-align: right;\">\n",
       "      <th></th>\n",
       "      <th>event_time</th>\n",
       "      <th>event_type</th>\n",
       "      <th>product_id</th>\n",
       "      <th>category_code</th>\n",
       "      <th>brand</th>\n",
       "      <th>price</th>\n",
       "      <th>user_id</th>\n",
       "      <th>user_session</th>\n",
       "      <th>general_category</th>\n",
       "    </tr>\n",
       "  </thead>\n",
       "  <tbody>\n",
       "    <tr>\n",
       "      <th>6392077</th>\n",
       "      <td>2019-10-06 15:25:28 UTC</td>\n",
       "      <td>view</td>\n",
       "      <td>8500083</td>\n",
       "      <td>unknown.</td>\n",
       "      <td>kiturami</td>\n",
       "      <td>552.14</td>\n",
       "      <td>264649825</td>\n",
       "      <td>6398112</td>\n",
       "      <td>unknown</td>\n",
       "    </tr>\n",
       "    <tr>\n",
       "      <th>285717</th>\n",
       "      <td>2019-10-06 15:29:00 UTC</td>\n",
       "      <td>purchase</td>\n",
       "      <td>8500083</td>\n",
       "      <td>unknown.</td>\n",
       "      <td>kiturami</td>\n",
       "      <td>552.14</td>\n",
       "      <td>264649825</td>\n",
       "      <td>6398112</td>\n",
       "      <td>unknown</td>\n",
       "    </tr>\n",
       "    <tr>\n",
       "      <th>6425746</th>\n",
       "      <td>2019-10-06 15:59:57 UTC</td>\n",
       "      <td>view</td>\n",
       "      <td>8500084</td>\n",
       "      <td>unknown.</td>\n",
       "      <td>kiturami</td>\n",
       "      <td>687.90</td>\n",
       "      <td>264649825</td>\n",
       "      <td>6398112</td>\n",
       "      <td>unknown</td>\n",
       "    </tr>\n",
       "    <tr>\n",
       "      <th>6626458</th>\n",
       "      <td>2019-10-06 20:29:33 UTC</td>\n",
       "      <td>view</td>\n",
       "      <td>8500083</td>\n",
       "      <td>unknown.</td>\n",
       "      <td>kiturami</td>\n",
       "      <td>552.14</td>\n",
       "      <td>264649825</td>\n",
       "      <td>6397854</td>\n",
       "      <td>unknown</td>\n",
       "    </tr>\n",
       "    <tr>\n",
       "      <th>6626582</th>\n",
       "      <td>2019-10-06 20:29:58 UTC</td>\n",
       "      <td>view</td>\n",
       "      <td>8500084</td>\n",
       "      <td>unknown.</td>\n",
       "      <td>kiturami</td>\n",
       "      <td>687.90</td>\n",
       "      <td>264649825</td>\n",
       "      <td>6397854</td>\n",
       "      <td>unknown</td>\n",
       "    </tr>\n",
       "    <tr>\n",
       "      <th>...</th>\n",
       "      <td>...</td>\n",
       "      <td>...</td>\n",
       "      <td>...</td>\n",
       "      <td>...</td>\n",
       "      <td>...</td>\n",
       "      <td>...</td>\n",
       "      <td>...</td>\n",
       "      <td>...</td>\n",
       "      <td>...</td>\n",
       "    </tr>\n",
       "    <tr>\n",
       "      <th>1669111</th>\n",
       "      <td>2019-10-31 22:31:17 UTC</td>\n",
       "      <td>purchase</td>\n",
       "      <td>22700129</td>\n",
       "      <td>unknown.</td>\n",
       "      <td>stels</td>\n",
       "      <td>75.94</td>\n",
       "      <td>566270177</td>\n",
       "      <td>1859792</td>\n",
       "      <td>unknown</td>\n",
       "    </tr>\n",
       "    <tr>\n",
       "      <th>29448955</th>\n",
       "      <td>2019-10-31 23:03:26 UTC</td>\n",
       "      <td>view</td>\n",
       "      <td>1005136</td>\n",
       "      <td>electronics.smartphone</td>\n",
       "      <td>apple</td>\n",
       "      <td>2011.63</td>\n",
       "      <td>566274637</td>\n",
       "      <td>590198</td>\n",
       "      <td>electronics</td>\n",
       "    </tr>\n",
       "    <tr>\n",
       "      <th>1669214</th>\n",
       "      <td>2019-10-31 23:05:38 UTC</td>\n",
       "      <td>purchase</td>\n",
       "      <td>1005136</td>\n",
       "      <td>electronics.smartphone</td>\n",
       "      <td>apple</td>\n",
       "      <td>2011.63</td>\n",
       "      <td>566274637</td>\n",
       "      <td>590198</td>\n",
       "      <td>electronics</td>\n",
       "    </tr>\n",
       "    <tr>\n",
       "      <th>29450651</th>\n",
       "      <td>2019-10-31 23:25:17 UTC</td>\n",
       "      <td>view</td>\n",
       "      <td>12702883</td>\n",
       "      <td>unknown.</td>\n",
       "      <td>cordiant</td>\n",
       "      <td>74.39</td>\n",
       "      <td>566276996</td>\n",
       "      <td>6020056</td>\n",
       "      <td>unknown</td>\n",
       "    </tr>\n",
       "    <tr>\n",
       "      <th>1669289</th>\n",
       "      <td>2019-10-31 23:34:56 UTC</td>\n",
       "      <td>purchase</td>\n",
       "      <td>12702883</td>\n",
       "      <td>unknown.</td>\n",
       "      <td>cordiant</td>\n",
       "      <td>74.39</td>\n",
       "      <td>566276996</td>\n",
       "      <td>6020056</td>\n",
       "      <td>unknown</td>\n",
       "    </tr>\n",
       "  </tbody>\n",
       "</table>\n",
       "<p>1021736 rows × 9 columns</p>\n",
       "</div>"
      ],
      "text/plain": [
       "                       event_time event_type  product_id  \\\n",
       "6392077   2019-10-06 15:25:28 UTC       view     8500083   \n",
       "285717    2019-10-06 15:29:00 UTC   purchase     8500083   \n",
       "6425746   2019-10-06 15:59:57 UTC       view     8500084   \n",
       "6626458   2019-10-06 20:29:33 UTC       view     8500083   \n",
       "6626582   2019-10-06 20:29:58 UTC       view     8500084   \n",
       "...                           ...        ...         ...   \n",
       "1669111   2019-10-31 22:31:17 UTC   purchase    22700129   \n",
       "29448955  2019-10-31 23:03:26 UTC       view     1005136   \n",
       "1669214   2019-10-31 23:05:38 UTC   purchase     1005136   \n",
       "29450651  2019-10-31 23:25:17 UTC       view    12702883   \n",
       "1669289   2019-10-31 23:34:56 UTC   purchase    12702883   \n",
       "\n",
       "                   category_code     brand    price    user_id  user_session  \\\n",
       "6392077                 unknown.  kiturami   552.14  264649825       6398112   \n",
       "285717                  unknown.  kiturami   552.14  264649825       6398112   \n",
       "6425746                 unknown.  kiturami   687.90  264649825       6398112   \n",
       "6626458                 unknown.  kiturami   552.14  264649825       6397854   \n",
       "6626582                 unknown.  kiturami   687.90  264649825       6397854   \n",
       "...                          ...       ...      ...        ...           ...   \n",
       "1669111                 unknown.     stels    75.94  566270177       1859792   \n",
       "29448955  electronics.smartphone     apple  2011.63  566274637        590198   \n",
       "1669214   electronics.smartphone     apple  2011.63  566274637        590198   \n",
       "29450651                unknown.  cordiant    74.39  566276996       6020056   \n",
       "1669289                 unknown.  cordiant    74.39  566276996       6020056   \n",
       "\n",
       "         general_category  \n",
       "6392077           unknown  \n",
       "285717            unknown  \n",
       "6425746           unknown  \n",
       "6626458           unknown  \n",
       "6626582           unknown  \n",
       "...                   ...  \n",
       "1669111           unknown  \n",
       "29448955      electronics  \n",
       "1669214       electronics  \n",
       "29450651          unknown  \n",
       "1669289           unknown  \n",
       "\n",
       "[1021736 rows x 9 columns]"
      ]
     },
     "execution_count": 70,
     "metadata": {},
     "output_type": "execute_result"
    }
   ],
   "source": [
    "view_purchase_log"
   ]
  },
  {
   "cell_type": "code",
   "execution_count": 71,
   "metadata": {},
   "outputs": [
    {
     "data": {
      "text/html": [
       "<div>\n",
       "<style scoped>\n",
       "    .dataframe tbody tr th:only-of-type {\n",
       "        vertical-align: middle;\n",
       "    }\n",
       "\n",
       "    .dataframe tbody tr th {\n",
       "        vertical-align: top;\n",
       "    }\n",
       "\n",
       "    .dataframe thead th {\n",
       "        text-align: right;\n",
       "    }\n",
       "</style>\n",
       "<table border=\"1\" class=\"dataframe\">\n",
       "  <thead>\n",
       "    <tr style=\"text-align: right;\">\n",
       "      <th></th>\n",
       "      <th>event_time</th>\n",
       "      <th>event_type</th>\n",
       "      <th>product_id</th>\n",
       "      <th>category_code</th>\n",
       "      <th>brand</th>\n",
       "      <th>price</th>\n",
       "      <th>user_id</th>\n",
       "      <th>user_session</th>\n",
       "      <th>general_category</th>\n",
       "    </tr>\n",
       "  </thead>\n",
       "  <tbody>\n",
       "    <tr>\n",
       "      <th>5906490</th>\n",
       "      <td>2019-10-06 05:02:51 UTC</td>\n",
       "      <td>view</td>\n",
       "      <td>8500086</td>\n",
       "      <td>unknown.</td>\n",
       "      <td>hubert</td>\n",
       "      <td>486.08</td>\n",
       "      <td>264649825</td>\n",
       "      <td>5509586</td>\n",
       "      <td>unknown</td>\n",
       "    </tr>\n",
       "    <tr>\n",
       "      <th>5907160</th>\n",
       "      <td>2019-10-06 05:03:51 UTC</td>\n",
       "      <td>view</td>\n",
       "      <td>8500081</td>\n",
       "      <td>unknown.</td>\n",
       "      <td>kiturami</td>\n",
       "      <td>481.35</td>\n",
       "      <td>264649825</td>\n",
       "      <td>5509586</td>\n",
       "      <td>unknown</td>\n",
       "    </tr>\n",
       "    <tr>\n",
       "      <th>5907412</th>\n",
       "      <td>2019-10-06 05:04:13 UTC</td>\n",
       "      <td>view</td>\n",
       "      <td>8500083</td>\n",
       "      <td>unknown.</td>\n",
       "      <td>kiturami</td>\n",
       "      <td>552.14</td>\n",
       "      <td>264649825</td>\n",
       "      <td>5509586</td>\n",
       "      <td>unknown</td>\n",
       "    </tr>\n",
       "    <tr>\n",
       "      <th>6389025</th>\n",
       "      <td>2019-10-06 15:22:18 UTC</td>\n",
       "      <td>view</td>\n",
       "      <td>27700136</td>\n",
       "      <td>construction.tools.pump</td>\n",
       "      <td>NaN</td>\n",
       "      <td>33.28</td>\n",
       "      <td>264649825</td>\n",
       "      <td>6488216</td>\n",
       "      <td>construction</td>\n",
       "    </tr>\n",
       "    <tr>\n",
       "      <th>6392077</th>\n",
       "      <td>2019-10-06 15:25:28 UTC</td>\n",
       "      <td>view</td>\n",
       "      <td>8500083</td>\n",
       "      <td>unknown.</td>\n",
       "      <td>kiturami</td>\n",
       "      <td>552.14</td>\n",
       "      <td>264649825</td>\n",
       "      <td>6398112</td>\n",
       "      <td>unknown</td>\n",
       "    </tr>\n",
       "    <tr>\n",
       "      <th>285717</th>\n",
       "      <td>2019-10-06 15:29:00 UTC</td>\n",
       "      <td>purchase</td>\n",
       "      <td>8500083</td>\n",
       "      <td>unknown.</td>\n",
       "      <td>kiturami</td>\n",
       "      <td>552.14</td>\n",
       "      <td>264649825</td>\n",
       "      <td>6398112</td>\n",
       "      <td>unknown</td>\n",
       "    </tr>\n",
       "    <tr>\n",
       "      <th>6425746</th>\n",
       "      <td>2019-10-06 15:59:57 UTC</td>\n",
       "      <td>view</td>\n",
       "      <td>8500084</td>\n",
       "      <td>unknown.</td>\n",
       "      <td>kiturami</td>\n",
       "      <td>687.90</td>\n",
       "      <td>264649825</td>\n",
       "      <td>6398112</td>\n",
       "      <td>unknown</td>\n",
       "    </tr>\n",
       "    <tr>\n",
       "      <th>6626458</th>\n",
       "      <td>2019-10-06 20:29:33 UTC</td>\n",
       "      <td>view</td>\n",
       "      <td>8500083</td>\n",
       "      <td>unknown.</td>\n",
       "      <td>kiturami</td>\n",
       "      <td>552.14</td>\n",
       "      <td>264649825</td>\n",
       "      <td>6397854</td>\n",
       "      <td>unknown</td>\n",
       "    </tr>\n",
       "    <tr>\n",
       "      <th>6626582</th>\n",
       "      <td>2019-10-06 20:29:58 UTC</td>\n",
       "      <td>view</td>\n",
       "      <td>8500084</td>\n",
       "      <td>unknown.</td>\n",
       "      <td>kiturami</td>\n",
       "      <td>687.90</td>\n",
       "      <td>264649825</td>\n",
       "      <td>6397854</td>\n",
       "      <td>unknown</td>\n",
       "    </tr>\n",
       "    <tr>\n",
       "      <th>294632</th>\n",
       "      <td>2019-10-06 20:36:11 UTC</td>\n",
       "      <td>purchase</td>\n",
       "      <td>8500084</td>\n",
       "      <td>unknown.</td>\n",
       "      <td>kiturami</td>\n",
       "      <td>687.90</td>\n",
       "      <td>264649825</td>\n",
       "      <td>6397854</td>\n",
       "      <td>unknown</td>\n",
       "    </tr>\n",
       "    <tr>\n",
       "      <th>6629132</th>\n",
       "      <td>2019-10-06 20:40:11 UTC</td>\n",
       "      <td>view</td>\n",
       "      <td>45601506</td>\n",
       "      <td>apparel.shoes</td>\n",
       "      <td>babybotte</td>\n",
       "      <td>34.75</td>\n",
       "      <td>264649825</td>\n",
       "      <td>6397854</td>\n",
       "      <td>apparel</td>\n",
       "    </tr>\n",
       "    <tr>\n",
       "      <th>7442065</th>\n",
       "      <td>2019-10-07 23:22:37 UTC</td>\n",
       "      <td>view</td>\n",
       "      <td>8500083</td>\n",
       "      <td>unknown.</td>\n",
       "      <td>kiturami</td>\n",
       "      <td>563.70</td>\n",
       "      <td>264649825</td>\n",
       "      <td>5956783</td>\n",
       "      <td>unknown</td>\n",
       "    </tr>\n",
       "  </tbody>\n",
       "</table>\n",
       "</div>"
      ],
      "text/plain": [
       "                      event_time event_type  product_id  \\\n",
       "5906490  2019-10-06 05:02:51 UTC       view     8500086   \n",
       "5907160  2019-10-06 05:03:51 UTC       view     8500081   \n",
       "5907412  2019-10-06 05:04:13 UTC       view     8500083   \n",
       "6389025  2019-10-06 15:22:18 UTC       view    27700136   \n",
       "6392077  2019-10-06 15:25:28 UTC       view     8500083   \n",
       "285717   2019-10-06 15:29:00 UTC   purchase     8500083   \n",
       "6425746  2019-10-06 15:59:57 UTC       view     8500084   \n",
       "6626458  2019-10-06 20:29:33 UTC       view     8500083   \n",
       "6626582  2019-10-06 20:29:58 UTC       view     8500084   \n",
       "294632   2019-10-06 20:36:11 UTC   purchase     8500084   \n",
       "6629132  2019-10-06 20:40:11 UTC       view    45601506   \n",
       "7442065  2019-10-07 23:22:37 UTC       view     8500083   \n",
       "\n",
       "                   category_code      brand   price    user_id  user_session  \\\n",
       "5906490                 unknown.     hubert  486.08  264649825       5509586   \n",
       "5907160                 unknown.   kiturami  481.35  264649825       5509586   \n",
       "5907412                 unknown.   kiturami  552.14  264649825       5509586   \n",
       "6389025  construction.tools.pump        NaN   33.28  264649825       6488216   \n",
       "6392077                 unknown.   kiturami  552.14  264649825       6398112   \n",
       "285717                  unknown.   kiturami  552.14  264649825       6398112   \n",
       "6425746                 unknown.   kiturami  687.90  264649825       6398112   \n",
       "6626458                 unknown.   kiturami  552.14  264649825       6397854   \n",
       "6626582                 unknown.   kiturami  687.90  264649825       6397854   \n",
       "294632                  unknown.   kiturami  687.90  264649825       6397854   \n",
       "6629132            apparel.shoes  babybotte   34.75  264649825       6397854   \n",
       "7442065                 unknown.   kiturami  563.70  264649825       5956783   \n",
       "\n",
       "        general_category  \n",
       "5906490          unknown  \n",
       "5907160          unknown  \n",
       "5907412          unknown  \n",
       "6389025     construction  \n",
       "6392077          unknown  \n",
       "285717           unknown  \n",
       "6425746          unknown  \n",
       "6626458          unknown  \n",
       "6626582          unknown  \n",
       "294632           unknown  \n",
       "6629132          apparel  \n",
       "7442065          unknown  "
      ]
     },
     "execution_count": 71,
     "metadata": {},
     "output_type": "execute_result"
    }
   ],
   "source": [
    "df2[df2['user_id'] == 264649825].sort_values(by=['event_time'])"
   ]
  },
  {
   "cell_type": "code",
   "execution_count": null,
   "metadata": {},
   "outputs": [],
   "source": []
  },
  {
   "cell_type": "code",
   "execution_count": 72,
   "metadata": {},
   "outputs": [],
   "source": [
    "# df2.drop(['user_session', 'weekday'], axis=1, inplace=True)\n",
    "# df2.head(2)"
   ]
  },
  {
   "cell_type": "code",
   "execution_count": 73,
   "metadata": {},
   "outputs": [],
   "source": [
    "# rfm.head(2)"
   ]
  },
  {
   "cell_type": "code",
   "execution_count": 74,
   "metadata": {},
   "outputs": [],
   "source": [
    "# df2 = df2.merge(rfm[['user_id', 'Cluster']], on='user_id', how='left')\n",
    "# df2.dropna(subset=['Cluster'], inplace=True) # rfm = rfm[rfm['Monetary'] > 0]에서 걸리진 customer 제거\n",
    "# df2.head(2)"
   ]
  },
  {
   "cell_type": "code",
   "execution_count": 75,
   "metadata": {},
   "outputs": [],
   "source": [
    "# df2['Cluster'].unique()"
   ]
  },
  {
   "cell_type": "code",
   "execution_count": 76,
   "metadata": {},
   "outputs": [],
   "source": [
    "# df2['hour'] = pd.to_datetime(df2['event_time']).dt.hour\n",
    "# hourly_activity= df2.groupby(['Cluster', 'hour']).size().unstack(fill_value=0).T\n",
    "\n",
    "# hourly_activity.plot(kind='line', figsize=(12, 6), colormap='Set2')\n",
    "# plt.title('Hourly Activity by Cluster')\n",
    "# plt.xlabel('Hour of Day')\n",
    "# plt.ylabel('Activity Count')\n",
    "# plt.legend(title='Cluster', loc='upper left')\n",
    "# plt.tight_layout()\n",
    "# plt.show()"
   ]
  },
  {
   "cell_type": "code",
   "execution_count": 77,
   "metadata": {},
   "outputs": [],
   "source": [
    "# # product\n",
    "# cluster_popular_products = df2[df2['event_type'] == 'purchase'].groupby(['Cluster', 'product_id']).size().unstack(fill_value=0)\n",
    "# cluster_popular_products_top = cluster_popular_products.apply(lambda x: x.sort_values(ascending=False).head(10), axis=1)\n",
    "# display(cluster_popular_products_top)\n",
    "# # brand\n",
    "# cluster_popular_brands = df2[df2['event_type'] == 'purchase'].groupby(['Cluster', 'brand']).size().unstack(fill_value=0)\n",
    "# cluster_popular_brands_top = cluster_popular_brands.apply(lambda x: x.sort_values(ascending=False).head(10), axis=1)\n",
    "# display(cluster_popular_brands_top)"
   ]
  },
  {
   "cell_type": "code",
   "execution_count": 78,
   "metadata": {},
   "outputs": [],
   "source": [
    "# high_spending_clusters = [2, 4, 6]\n",
    "\n",
    "# high_spending_popular_products = cluster_popular_products_top.loc[high_spending_clusters]\n",
    "# high_spending_popular_brands = cluster_popular_brands_top.loc[high_spending_clusters]\n",
    "\n",
    "# display(high_spending_popular_products)\n",
    "# display(high_spending_popular_brands)\n"
   ]
  },
  {
   "cell_type": "code",
   "execution_count": 79,
   "metadata": {},
   "outputs": [],
   "source": [
    "# high_spending_clusters = [2, 4, 6]\n",
    "\n",
    "# high_spending_popular_products = cluster_popular_products_top.loc[high_spending_clusters]\n",
    "# high_spending_popular_brands = cluster_popular_brands_top.loc[high_spending_clusters]\n",
    "\n",
    "# display(high_spending_popular_products)\n",
    "# display(high_spending_popular_brands)"
   ]
  },
  {
   "cell_type": "code",
   "execution_count": 80,
   "metadata": {},
   "outputs": [],
   "source": [
    "# average_spending_clusters = [0, 3, 5, 7]\n",
    "\n",
    "# average_spending_popular_products = cluster_popular_products_top.loc[average_spending_clusters]\n",
    "# average_spending_popular_brands = cluster_popular_brands_top.loc[average_spending_clusters]\n",
    "\n",
    "# display(average_spending_popular_products)\n",
    "# display(average_spending_popular_brands)"
   ]
  },
  {
   "cell_type": "code",
   "execution_count": 81,
   "metadata": {},
   "outputs": [],
   "source": [
    "# inactive_clusters = [1]\n",
    "\n",
    "# inactive_popular_products = cluster_popular_products_top.loc[inactive_clusters]\n",
    "# inactive_popular_brands = cluster_popular_brands_top.loc[inactive_clusters]\n",
    "\n",
    "# display(inactive_popular_products)\n",
    "# display(inactive_popular_brands)"
   ]
  },
  {
   "cell_type": "code",
   "execution_count": 82,
   "metadata": {},
   "outputs": [],
   "source": [
    "# df2 = df2.sort_values(by=['user_id', 'event_time'])"
   ]
  },
  {
   "cell_type": "code",
   "execution_count": 83,
   "metadata": {},
   "outputs": [],
   "source": [
    "# df2.head(10)"
   ]
  }
 ],
 "metadata": {
  "kernelspec": {
   "display_name": "ecommerce",
   "language": "python",
   "name": "python3"
  },
  "language_info": {
   "codemirror_mode": {
    "name": "ipython",
    "version": 3
   },
   "file_extension": ".py",
   "mimetype": "text/x-python",
   "name": "python",
   "nbconvert_exporter": "python",
   "pygments_lexer": "ipython3",
   "version": "3.11.2"
  }
 },
 "nbformat": 4,
 "nbformat_minor": 2
}
